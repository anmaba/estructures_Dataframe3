{
 "cells": [
  {
   "cell_type": "markdown",
   "id": "41f44312",
   "metadata": {},
   "source": [
    "# SPRINT 10 Tasca M10 T01 Web scraping i automatització\n",
    "Descripció\n",
    "\n",
    "Exercicis de Web Scraping.\n",
    "\n",
    "\n",
    "\n",
    "## EXERCICI 1\n",
    "Realitza web scraping de dues de les tres pàgines web proposades utilitzant BeautifulSoup primer i Selenium després. \n",
    "\n",
    "- http://quotes.toscrape.com\n",
    "\n",
    "- https://www.bolsamadrid.es\n",
    "\n",
    "- www.wikipedia.es (fes alguna cerca primer i escrapeja algun contingut)\n"
   ]
  },
  {
   "cell_type": "markdown",
   "id": "44f955d6",
   "metadata": {},
   "source": [
    "### WEB SCRAPING DE LA PÀGINA WEB DE LA BOLSA ESPAÑOLA AMB BEAUTIFUL SOUP"
   ]
  },
  {
   "cell_type": "code",
   "execution_count": 1,
   "id": "63cc78dc",
   "metadata": {
    "ExecuteTime": {
     "end_time": "2022-09-14T11:03:56.637047Z",
     "start_time": "2022-09-14T11:03:55.633668Z"
    }
   },
   "outputs": [
    {
     "name": "stdout",
     "output_type": "stream",
     "text": [
      "<!DOCTYPE html PUBLIC \"-//W3C//DTD XHTML 1.0 Transitional//EN\" \"http://www.w3.org/TR/xhtml1/DTD/xhtml1-transitional.dtd\">\n",
      "<html xmlns=\"http://www.w3.org/1999/xhtml\">\n",
      "<head data-analytics-id=\"UA-35966870-2\" data-app-path=\"/\" data-bolsa=\"BMadrid\" data-hora-act=\"Wed, 14 Sep 2022 13:03:54 GMT\" data-idioma=\"esp\"><meta content=\"IE=11\" http-equiv=\"X-UA-Compatible\"/><meta content=\"text/html; charset=utf-8\" http-equiv=\"Content-Type\"/><meta content=\"Copyright © BME 2022\" id=\"ctl00_copyright\" name=\"copyright\"/><title>\r\n",
      "\tBolsa de Madrid\r\n",
      "</title><link href=\"/esp/aspx/RSS/RSS.ashx?feed=Todo\" id=\"ctl00_RSSLink1\" rel=\"alternate\" title=\"Bolsa de Madrid: Todos los contenidos agregados\" type=\"application/rss+xml\"/><link href=\"/esp/aspx/RSS/RSS.ashx?feed=NotasPrensa\" id=\"ctl00_RSSLink2\" rel=\"alternate\" title=\"Bolsa de Madrid: Notas de Prensa\" type=\"application/rss+xml\"/><link href=\"/esp/aspx/RSS/RSS.ashx?feed=Regulacion\" id=\"ctl00_RSSLink3\" rel=\"alternate\" title=\"Bolsa de Madrid: Regulación: Circulares e Instrucciones Operativas\" type=\"application/rss+xml\"/><link href=\"/esp/aspx/RSS/RSS.ashx?feed=Indices\" id=\"ctl00_RSSLink4\" rel=\"alternate\" title=\"Bolsa de Madrid: Avisos Índices IBEX\" type=\"application/rss+xml\"/><link href=\"/esp/aspx/RSS/RSS.ashx?feed=Revista\" id=\"ctl00_RSSLink5\" rel=\"alternate\" title=\"Bolsa de Madrid: Artículos de la Revista Bolsa\" type=\"application/rss+xml\"/><script src=\"/js/Master?v=thBxh-xvKtDQpWbHpOk4A3E9sxEywhoh56HgLOsWH3I1\"></script>\n",
      "<link href=\"/css/css?v=e0iHiLxmqlVKER4v5gQI2K9pdMEvzhww7tRrYIcX2w41\" rel=\"stylesheet\"/>\n",
      "<script language=\"javascript\" src=\"/js/TABLEscroll.js\" type=\"text/javascript\"></script></head>\n",
      "<body><div id=\"Base\">\n",
      "<table align=\"center\" cellpadding=\"0\" cellspacing=\"0\"><tr class=\"noimpr\">\n",
      "<td colspan=\"6\" id=\"CabeceraArr\">\n",
      "<div id=\"Idiomas\"><ul><li class=\"mclick\"><a href=\"/?id=ing\" target=\"_self\"> English </a></li></ul></div>\n",
      "<div id=\"MenuSup\"><ul><li class=\"mclick\"><a href=\"/esp/BMadrid/Contacto.aspx\" target=\"_self\"> Contacto </a></li><li class=\"mclick\"><a href=\"/esp/Inversores/Agenda/HorarioMercado.aspx\" target=\"_self\"> Horario Mercado </a></li><li class=\"mclick\"><a href=\"/esp/aspx/Inversores/Agenda/Calendario.aspx\" target=\"_self\"> Calendario bursátil </a></li><li class=\"mclick\"><a href=\"/esp/RSS.aspx\" target=\"_self\"> RSS   <img align=\"absmiddle\" alt=\"RSS\" border=\"0\" src=\"/images/IconoRSS.png\"/> </a></li></ul></div>\n",
      "</td>\n",
      "</tr><tr valign=\"top\">\n",
      "<td class=\"BaseIzq noimpr\" rowspan=\"3\"><div></div></td>\n",
      "<td class=\"BaseSep noimpr\" rowspan=\"3\"></td>\n",
      "<td class=\"BaseMenu\" id=\"CabeceraLogo\"><a href=\"/?id=esp\"><img alt=\"Bolsa de Madrid\" border=\"0\" src=\"/images/Base/LogoBMadrid.gif\"/></a></td>\n",
      "<td class=\"noimpr\" id=\"Cabecera\">\n",
      "<div id=\"LogoBME\"><a href=\"https://www.bolsasymercados.es/\" target=\"_blank\"><img alt=\"Bolsas y Mercados Españoles\" border=\"0\" height=\"45\" src=\"/images/Base/LogoBMEBlanco.png?v=Six\" width=\"118\"/></a></div>\n",
      "<div class=\"finFila\"></div>\n",
      "<div id=\"TopMensajes\">\n",
      "<table align=\"left\" cellpadding=\"0\" cellspacing=\"0\" height=\"27\" width=\"650\"><tr>\n",
      "<td style=\"margin: 0 0 0 40px; vertical-align: middle;\"><div><a></a></div></td>\n",
      "</tr></table>\n",
      "</div>\n",
      "<div id=\"BuscadorCab\">\n",
      "<div>Buscador de<br/>empresas</div>\n",
      "<form action=\"/esp/aspx/Empresas/BusqEmpresas.aspx\" id=\"formBusq\" method=\"get\">\n",
      "<input autocomplete=\"off\" name=\"busq\" type=\"text\" value=\"nombre / ISIN / ticker\"/>\n",
      "<div id=\"divBusq\" style=\"display: none;\"></div>\n",
      "<span class=\"BtnGris mclick\"><a href=\"javascript:document.forms.formBusq.submitbusq();\"><span class=\"BtnBuscarDcha\" title=\"Buscar\"></span></a></span>\n",
      "</form>\n",
      "</div>\n",
      "<div id=\"LineaBuscadorCab\"></div>\n",
      "</td>\n",
      "<td class=\"BaseSep noimpr\" rowspan=\"3\"></td>\n",
      "<td class=\"BaseDcha noimpr\" rowspan=\"3\"><div></div></td>\n",
      "</tr><tr>\n",
      "<td colspan=\"2\" id=\"SeparacionCap\"><div class=\"noimpr\"></div>\n",
      "<div class=\"seg\"><a href=\"/?id=esp\" target=\"_self\">Inicio</a> / </div>\n",
      "</td>\n",
      "</tr><tr valign=\"top\">\n",
      "<td class=\"BaseMenu noimpr\">\n",
      "<script src=\"/js/MenuIzq.js\" type=\"text/javascript\"></script>\n",
      "<div class=\"MenuIzq noimpr\" id=\"MenuIzq\">\n",
      "<div class=\"MenuGrupo Azul\">\n",
      "<div class=\"Menu1 MenuDiv Azul Off\" menu=\"m1\"><div class=\"MenuLink MenuConOp Off\"><a href=\"#\" target=\"_self\">SOBRE NOSOTROS</a></div></div>\n",
      "<div class=\"Menu2 MenuSubOp\" menu=\"m1\">\n",
      "<div class=\"Menu2 MenuDiv Off\" menu=\"m2\"><div class=\"MenuLink Off\"><a href=\"/esp/BMadrid/BMadrid.aspx\" target=\"_self\">Bolsa de Madrid</a></div></div>\n",
      "<div class=\"Menu2 MenuDiv Off\" menu=\"m3\"><div class=\"MenuLink Off\"><a href=\"/docs/BMadrid/docsSubidos/Historia_Bolsa_ Española.pdf\" target=\"_blank\">Historia de la Bolsa</a></div></div>\n",
      "<div class=\"Menu2 MenuDiv Off\" menu=\"m4\"><div class=\"MenuLink MenuConOp Off\"><a href=\"#\" target=\"_self\">El Palacio de la Bolsa</a></div></div>\n",
      "<div class=\"Menu3 MenuSubOp\" menu=\"m4\">\n",
      "<div class=\"Menu3 MenuDiv Off\" menu=\"m5\"><div class=\"MenuLink Off\"><a href=\"/125_Palacio_Bolsa/\" target=\"_blank\">Historia del Palacio</a></div></div>\n",
      "<div class=\"Menu3 MenuDiv Off\" menu=\"m6\"><div class=\"MenuLink Off\"><a href=\"/esp/BMadrid/Palacio/Visita.aspx\" target=\"_self\">Visitas Guiadas</a></div></div>\n",
      "<div class=\"Menu3 MenuDiv Off\" menu=\"m7\"><div class=\"MenuLink Off\"><a href=\"/esp/BMadrid/Palacio/VisitaVirtual.aspx\" target=\"_self\">Visita Virtual</a></div></div>\n",
      "<div class=\"Menu3 MenuDiv Off\" menu=\"m8\"><div class=\"MenuLink Off\"><a href=\"/esp/BMadrid/Palacio/Eventos.aspx\" target=\"_self\">Actos y Conferencias</a></div></div>\n",
      "<div class=\"Menu3 MenuDiv Off\" menu=\"m9\"><div class=\"MenuLink Off\"><a href=\"/esp/aspx/Empresas/Eventos/Eventos.aspx?CodBolsa=BMadrid\" target=\"_self\">Aperturas de Honor</a></div></div>\n",
      "</div>\n",
      "<div class=\"Menu2 MenuDiv Off\" menu=\"m10\"><div class=\"MenuLink MenuConOp Off\"><a href=\"#\" target=\"_self\">Formación</a></div></div>\n",
      "<div class=\"Menu3 MenuSubOp\" menu=\"m10\">\n",
      "<div class=\"Menu3 MenuDiv Off\" menu=\"m11\"><div class=\"MenuLink Off\"><a href=\"/esp/aspx/Inversores/Formacion/Formacion.aspx?tipo=T&amp;CodBolsa=BMadrid\" target=\"_self\">Cursos y Masters</a></div></div>\n",
      "</div>\n",
      "<div class=\"Menu2 MenuDiv Off\" menu=\"m19\"><div class=\"MenuLink MenuConOp Off\"><a href=\"#\" target=\"_self\">Protector del Inversor</a></div></div>\n",
      "<div class=\"Menu3 MenuSubOp\" menu=\"m19\">\n",
      "<div class=\"Menu3 MenuDiv Off\" menu=\"m20\"><div class=\"MenuLink Off\"><a href=\"/esp/BMadrid/Protector/Protector1.aspx\" target=\"_self\">Información General</a></div></div>\n",
      "<div class=\"Menu3 MenuDiv Off\" menu=\"m24\"><div class=\"MenuLink Off\"><a href=\"/esp/BMadrid/Protector/Protector21.aspx\" target=\"_self\">Consultas y Reclamaciones</a></div></div>\n",
      "<div class=\"Menu3 MenuDiv Off\" menu=\"m27\"><div class=\"MenuLink Off\"><a href=\"/esp/BMadrid/Protector/Protector3.aspx\" target=\"_self\">Informes Anuales</a></div></div>\n",
      "<div class=\"Menu3 MenuDiv Off\" menu=\"m28\"><div class=\"MenuLink Off\"><a href=\"/esp/BMadrid/Protector/Protector4.aspx\" target=\"_self\">Normativa</a></div></div>\n",
      "</div>\n",
      "<div class=\"Menu2 MenuDiv Off\" menu=\"m31\"><div class=\"MenuLink MenuConOp Off\"><a href=\"#\" target=\"_self\">Miembros</a></div></div>\n",
      "<div class=\"Menu3 MenuSubOp\" menu=\"m31\">\n",
      "<div class=\"Menu3 MenuDiv Off\" menu=\"m32\"><div class=\"MenuLink Off\"><a href=\"/esp/aspx/Miembros/Miembros.aspx?tipo=T\" target=\"_self\">Listado de miembros</a></div></div>\n",
      "</div>\n",
      "<div class=\"Menu2 MenuDiv Off\" menu=\"m34\"><div class=\"MenuLink Off\"><a href=\"/esp/aspx/Regulacion/Regulacion.aspx\" target=\"_self\">Regulación</a></div></div>\n",
      "<div class=\"Menu2 MenuDiv Off\" menu=\"m35\"><div class=\"MenuLink Off\"><a href=\"/docs/Miembros/TarifasRectoras.pdf\" target=\"_blank\">Cánones</a></div></div>\n",
      "<div class=\"Menu2 MenuDiv Off\" menu=\"m36\"><div class=\"MenuLink Off\"><a href=\"/esp/BMadrid/Localizacion.aspx\" target=\"_self\">Dónde estamos</a></div></div>\n",
      "<div class=\"Menu2 MenuDiv Off\" menu=\"m37\"><div class=\"MenuLink Off\"><a href=\"/esp/BMadrid/Contacto.aspx\" target=\"_self\">Contacto</a></div></div>\n",
      "</div>\n",
      "<div class=\"Menu1 MenuDiv Azul On\" menu=\"m196\"><div class=\"MenuLink MenuConOp On\"><a href=\"#\" target=\"_self\">MERCADOS Y COTIZACIONES</a></div></div>\n",
      "<div class=\"Menu2 MenuSubOp\" menu=\"m196\">\n",
      "<div class=\"Menu2 MenuDiv Off\" menu=\"m197\"><div class=\"MenuLink MenuConOp Off\"><a href=\"/esp/aspx/Mercados/Precios.aspx?indice=ESI100000000\" target=\"_self\">Acciones</a></div></div>\n",
      "<div class=\"Menu3 MenuSubOp\" menu=\"m197\">\n",
      "<div class=\"Menu3 MenuDiv Off\" menu=\"m198\"><div class=\"MenuLink Off\"><a href=\"/esp/aspx/Mercados/Precios.aspx?indice=ESI100000000\" target=\"_self\">Precios de la sesión</a></div></div>\n",
      "<div class=\"Menu3 MenuDiv Off\" menu=\"m199\"><div class=\"MenuLink Off\"><a href=\"/esp/aspx/Mercados/Graficos.aspx?tipo=VALORES\" target=\"_self\">Gráficos históricos</a></div></div>\n",
      "</div>\n",
      "<div class=\"Menu2 MenuDiv Off\" menu=\"m200\"><div class=\"MenuLink Off\"><a href=\"/etfs\" target=\"_blank\">ETFs</a></div></div>\n",
      "<div class=\"Menu2 MenuDiv Off\" menu=\"m201\"><div class=\"MenuLink Off\"><a href=\"/esp/aspx/warrants/Portada/Portada.aspx\" target=\"_blank\">Warrants</a></div></div>\n",
      "<div class=\"Menu2 MenuDiv Off\" menu=\"m202\"><div class=\"MenuLink Off\"><a href=\"https://www.bmegrowth.es/\" target=\"_blank\">BME Growth</a></div></div>\n",
      "<div class=\"Menu2 MenuDiv Off\" menu=\"m203\"><div class=\"MenuLink Off\"><a href=\"http://www.latibex.com\" target=\"_blank\">Latibex</a></div></div>\n",
      "<div class=\"Menu2 MenuDiv Off\" menu=\"m204\"><div class=\"MenuLink Off\"><a href=\"https://www.bolsasymercados.es/MTF_Equity/esp/SICAV/Precios.aspx?mercado=ValorLiquidativo\" target=\"_blank\">BME IICs - Sicavs</a></div></div>\n",
      "<div class=\"Menu2 MenuDiv Off\" menu=\"m205\"><div class=\"MenuLink Off\"><a href=\"https://www.bolsasymercados.es/MTF_Equity/esp/SIL/Precios.aspx\" target=\"_blank\">BME IICs - Sil</a></div></div>\n",
      "<div class=\"Menu2 MenuDiv Off\" menu=\"m206\"><div class=\"MenuLink Off\"><a href=\"https://www.bmerv.es/esp/aspx/Fondos/Portada/Portada.aspx\" target=\"_blank\">BME IICs - Fondos</a></div></div>\n",
      "<div class=\"Menu2 MenuDiv Off\" menu=\"m207\"><div class=\"MenuLink Off\"><a href=\"https://www.bolsasymercados.es/MTF_Equity/esp/ECR/Precios.aspx\" target=\"_blank\">BME ECR - Ecr</a></div></div>\n",
      "<div class=\"Menu2 MenuDiv Off\" menu=\"m208\"><div class=\"MenuLink Off\"><a href=\"/esp/aspx/Mercados/Cartera/"
     ]
    },
    {
     "data": {
      "text/html": [
       "<b>limit_output extension: Maximum message size of 10000 exceeded with 96555 characters</b>"
      ]
     },
     "metadata": {},
     "output_type": "display_data"
    }
   ],
   "source": [
    "# Importo beautifulsoup i amb requests crido la pàgina web\n",
    "import requests\n",
    "from bs4 import BeautifulSoup\n",
    "borsa = requests.get('https://www.bolsamadrid.es/esp/aspx/Portada/Portada.aspx')\n",
    "borsaSoup = BeautifulSoup(borsa.text, 'lxml')\n",
    "print(borsaSoup)"
   ]
  },
  {
   "cell_type": "code",
   "execution_count": 2,
   "id": "e6275048",
   "metadata": {
    "ExecuteTime": {
     "end_time": "2022-09-14T11:03:56.667028Z",
     "start_time": "2022-09-14T11:03:56.642042Z"
    }
   },
   "outputs": [
    {
     "data": {
      "text/plain": [
       "<title>\n",
       "\tBolsa de Madrid\n",
       "</title>"
      ]
     },
     "execution_count": 2,
     "metadata": {},
     "output_type": "execute_result"
    }
   ],
   "source": [
    "# Per saber el títol del web (objecte tipus Tag)\n",
    "borsaSoup.title"
   ]
  },
  {
   "cell_type": "code",
   "execution_count": 3,
   "id": "27b91652",
   "metadata": {
    "ExecuteTime": {
     "end_time": "2022-09-14T11:03:56.699007Z",
     "start_time": "2022-09-14T11:03:56.672023Z"
    }
   },
   "outputs": [
    {
     "data": {
      "text/plain": [
       "'Base'"
      ]
     },
     "execution_count": 3,
     "metadata": {},
     "output_type": "execute_result"
    }
   ],
   "source": [
    "#Accedeixo als atributs a través de attrs (objecte tipus Tag)\n",
    "div_base = borsaSoup.div\n",
    "div_base['id']"
   ]
  },
  {
   "cell_type": "code",
   "execution_count": 4,
   "id": "6f08d327",
   "metadata": {
    "ExecuteTime": {
     "end_time": "2022-09-14T11:03:56.729986Z",
     "start_time": "2022-09-14T11:03:56.705001Z"
    }
   },
   "outputs": [
    {
     "data": {
      "text/plain": [
       "{'id': 'Base'}"
      ]
     },
     "execution_count": 4,
     "metadata": {},
     "output_type": "execute_result"
    }
   ],
   "source": [
    "div_base.attrs"
   ]
  },
  {
   "cell_type": "code",
   "execution_count": 5,
   "id": "4cb80cd1",
   "metadata": {
    "ExecuteTime": {
     "end_time": "2022-09-14T11:03:56.760970Z",
     "start_time": "2022-09-14T11:03:56.733985Z"
    }
   },
   "outputs": [
    {
     "name": "stdout",
     "output_type": "stream",
     "text": [
      "None\n"
     ]
    }
   ],
   "source": [
    "# (objecte tipus NavigableString)\n",
    "primerParagraf = borsaSoup.p\n",
    "text = primerParagraf.string\n",
    "print(text)"
   ]
  },
  {
   "cell_type": "code",
   "execution_count": 6,
   "id": "d7fdcb3f",
   "metadata": {
    "ExecuteTime": {
     "end_time": "2022-09-14T11:03:56.792947Z",
     "start_time": "2022-09-14T11:03:56.765965Z"
    }
   },
   "outputs": [
    {
     "data": {
      "text/plain": [
       "'IE=11'"
      ]
     },
     "execution_count": 6,
     "metadata": {},
     "output_type": "execute_result"
    }
   ],
   "source": [
    "type(text)\n",
    "borsaSoup.meta['content']"
   ]
  },
  {
   "cell_type": "code",
   "execution_count": 7,
   "id": "a45548d8",
   "metadata": {
    "ExecuteTime": {
     "end_time": "2022-09-14T11:03:56.840919Z",
     "start_time": "2022-09-14T11:03:56.795945Z"
    }
   },
   "outputs": [],
   "source": [
    "# A part de fer servir etiquetes per arribar als objectes, podem fer servir l'atribut \"contents\", el generador \" children\" i el també generador \"descendents\""
   ]
  },
  {
   "cell_type": "code",
   "execution_count": 8,
   "id": "66c4d2b6",
   "metadata": {
    "ExecuteTime": {
     "end_time": "2022-09-14T11:03:56.856909Z",
     "start_time": "2022-09-14T11:03:56.844917Z"
    }
   },
   "outputs": [],
   "source": [
    "inner_div = borsaSoup.div.div"
   ]
  },
  {
   "cell_type": "code",
   "execution_count": 9,
   "id": "535cfa7e",
   "metadata": {
    "ExecuteTime": {
     "end_time": "2022-09-14T11:03:56.872901Z",
     "start_time": "2022-09-14T11:03:56.860908Z"
    }
   },
   "outputs": [
    {
     "name": "stdout",
     "output_type": "stream",
     "text": [
      "[<ul><li class=\"mclick\"><a href=\"/?id=ing\" target=\"_self\"> English </a></li></ul>]\n"
     ]
    }
   ],
   "source": [
    "# contents\n",
    "fills = inner_div.contents\n",
    "print(fills)"
   ]
  },
  {
   "cell_type": "code",
   "execution_count": 10,
   "id": "0e670064",
   "metadata": {
    "ExecuteTime": {
     "end_time": "2022-09-14T11:03:56.903881Z",
     "start_time": "2022-09-14T11:03:56.886892Z"
    }
   },
   "outputs": [
    {
     "name": "stdout",
     "output_type": "stream",
     "text": [
      "ul\n"
     ]
    }
   ],
   "source": [
    "for child in fills:\n",
    "    if child.name:  # Ignoramos los saltos de línea\n",
    "        print(f'{child.name}')"
   ]
  },
  {
   "cell_type": "code",
   "execution_count": 11,
   "id": "0e0412ed",
   "metadata": {
    "ExecuteTime": {
     "end_time": "2022-09-14T11:03:56.918870Z",
     "start_time": "2022-09-14T11:03:56.907879Z"
    }
   },
   "outputs": [
    {
     "data": {
      "text/plain": [
       "list"
      ]
     },
     "execution_count": 11,
     "metadata": {},
     "output_type": "execute_result"
    }
   ],
   "source": [
    "# children\n",
    "filter = inner_div.children\n",
    "type(fills)"
   ]
  },
  {
   "cell_type": "code",
   "execution_count": 12,
   "id": "37a2d252",
   "metadata": {
    "ExecuteTime": {
     "end_time": "2022-09-14T11:03:56.934860Z",
     "start_time": "2022-09-14T11:03:56.922870Z"
    }
   },
   "outputs": [
    {
     "name": "stdout",
     "output_type": "stream",
     "text": [
      "ul\n"
     ]
    }
   ],
   "source": [
    "for child in fills:\n",
    "    if child.name:  # Ignoramos los saltos de línea\n",
    "        print(f'{child.name}')"
   ]
  },
  {
   "cell_type": "code",
   "execution_count": 13,
   "id": "c4596025",
   "metadata": {
    "ExecuteTime": {
     "end_time": "2022-09-14T11:03:56.949852Z",
     "start_time": "2022-09-14T11:03:56.938856Z"
    }
   },
   "outputs": [
    {
     "name": "stdout",
     "output_type": "stream",
     "text": [
      "ul\n",
      "li\n",
      "a\n"
     ]
    }
   ],
   "source": [
    "# descendants\n",
    "fills = inner_div.descendants\n",
    "for child in fills:\n",
    "    if child.name:\n",
    "        print(f'{child.name}')"
   ]
  },
  {
   "cell_type": "code",
   "execution_count": 14,
   "id": "45065bfa",
   "metadata": {
    "ExecuteTime": {
     "end_time": "2022-09-14T11:04:51.489565Z",
     "start_time": "2022-09-14T11:03:56.952851Z"
    }
   },
   "outputs": [
    {
     "name": "stdout",
     "output_type": "stream",
     "text": [
      "[<td colspan=\"6\" id=\"CabeceraArr\">\n",
      "<div id=\"Idiomas\"><ul><li class=\"mclick\"><a href=\"/?id=ing\" target=\"_self\"> English </a></li></ul></div>\n",
      "<div id=\"MenuSup\"><ul><li class=\"mclick\"><a href=\"/esp/BMadrid/Contacto.aspx\" target=\"_self\"> Contacto </a></li><li class=\"mclick\"><a href=\"/esp/Inversores/Agenda/HorarioMercado.aspx\" target=\"_self\"> Horario Mercado </a></li><li class=\"mclick\"><a href=\"/esp/aspx/Inversores/Agenda/Calendario.aspx\" target=\"_self\"> Calendario bursátil </a></li><li class=\"mclick\"><a href=\"/esp/RSS.aspx\" target=\"_self\"> RSS   <img align=\"absmiddle\" alt=\"RSS\" border=\"0\" src=\"/images/IconoRSS.png\"/> </a></li></ul></div>\n",
      "</td>, <td class=\"BaseIzq noimpr\" rowspan=\"3\"><div></div></td>, <td class=\"BaseSep noimpr\" rowspan=\"3\"></td>, <td class=\"BaseMenu\" id=\"CabeceraLogo\"><a href=\"/?id=esp\"><img alt=\"Bolsa de Madrid\" border=\"0\" src=\"/images/Base/LogoBMadrid.gif\"/></a></td>, <td class=\"noimpr\" id=\"Cabecera\">\n",
      "<div id=\"LogoBME\"><a href=\"https://www.bolsasymercados.es/\" target=\"_blank\"><img alt=\"Bolsas y Mercados Españoles\" border=\"0\" height=\"45\" src=\"/images/Base/LogoBMEBlanco.png?v=Six\" width=\"118\"/></a></div>\n",
      "<div class=\"finFila\"></div>\n",
      "<div id=\"TopMensajes\">\n",
      "<table align=\"left\" cellpadding=\"0\" cellspacing=\"0\" height=\"27\" width=\"650\"><tr>\n",
      "<td style=\"margin: 0 0 0 40px; vertical-align: middle;\"><div><a></a></div></td>\n",
      "</tr></table>\n",
      "</div>\n",
      "<div id=\"BuscadorCab\">\n",
      "<div>Buscador de<br/>empresas</div>\n",
      "<form action=\"/esp/aspx/Empresas/BusqEmpresas.aspx\" id=\"formBusq\" method=\"get\">\n",
      "<input autocomplete=\"off\" name=\"busq\" type=\"text\" value=\"nombre / ISIN / ticker\"/>\n",
      "<div id=\"divBusq\" style=\"display: none;\"></div>\n",
      "<span class=\"BtnGris mclick\"><a href=\"javascript:document.forms.formBusq.submitbusq();\"><span class=\"BtnBuscarDcha\" title=\"Buscar\"></span></a></span>\n",
      "</form>\n",
      "</div>\n",
      "<div id=\"LineaBuscadorCab\"></div>\n",
      "</td>, <td style=\"margin: 0 0 0 40px; vertical-align: middle;\"><div><a></a></div></td>, <td class=\"BaseSep noimpr\" rowspan=\"3\"></td>, <td class=\"BaseDcha noimpr\" rowspan=\"3\"><div></div></td>, <td colspan=\"2\" id=\"SeparacionCap\"><div class=\"noimpr\"></div>\n",
      "<div class=\"seg\"><a href=\"/?id=esp\" target=\"_self\">Inicio</a> / </div>\n",
      "</td>, <td class=\"BaseMenu noimpr\">\n",
      "<script src=\"/js/MenuIzq.js\" type=\"text/javascript\"></script>\n",
      "<div class=\"MenuIzq noimpr\" id=\"MenuIzq\">\n",
      "<div class=\"MenuGrupo Azul\">\n",
      "<div class=\"Menu1 MenuDiv Azul Off\" menu=\"m1\"><div class=\"MenuLink MenuConOp Off\"><a href=\"#\" target=\"_self\">SOBRE NOSOTROS</a></div></div>\n",
      "<div class=\"Menu2 MenuSubOp\" menu=\"m1\">\n",
      "<div class=\"Menu2 MenuDiv Off\" menu=\"m2\"><div class=\"MenuLink Off\"><a href=\"/esp/BMadrid/BMadrid.aspx\" target=\"_self\">Bolsa de Madrid</a></div></div>\n",
      "<div class=\"Menu2 MenuDiv Off\" menu=\"m3\"><div class=\"MenuLink Off\"><a href=\"/docs/BMadrid/docsSubidos/Historia_Bolsa_ Española.pdf\" target=\"_blank\">Historia de la Bolsa</a></div></div>\n",
      "<div class=\"Menu2 MenuDiv Off\" menu=\"m4\"><div class=\"MenuLink MenuConOp Off\"><a href=\"#\" target=\"_self\">El Palacio de la Bolsa</a></div></div>\n",
      "<div class=\"Menu3 MenuSubOp\" menu=\"m4\">\n",
      "<div class=\"Menu3 MenuDiv Off\" menu=\"m5\"><div class=\"MenuLink Off\"><a href=\"/125_Palacio_Bolsa/\" target=\"_blank\">Historia del Palacio</a></div></div>\n",
      "<div class=\"Menu3 MenuDiv Off\" menu=\"m6\"><div class=\"MenuLink Off\"><a href=\"/esp/BMadrid/Palacio/Visita.aspx\" target=\"_self\">Visitas Guiadas</a></div></div>\n",
      "<div class=\"Menu3 MenuDiv Off\" menu=\"m7\"><div class=\"MenuLink Off\"><a href=\"/esp/BMadrid/Palacio/VisitaVirtual.aspx\" target=\"_self\">Visita Virtual</a></div></div>\n",
      "<div class=\"Menu3 MenuDiv Off\" menu=\"m8\"><div class=\"MenuLink Off\"><a href=\"/esp/BMadrid/Palacio/Eventos.aspx\" target=\"_self\">Actos y Conferencias</a></div></div>\n",
      "<div class=\"Menu3 MenuDiv Off\" menu=\"m9\"><div class=\"MenuLink Off\"><a href=\"/esp/aspx/Empresas/Eventos/Eventos.aspx?CodBolsa=BMadrid\" target=\"_self\">Aperturas de Honor</a></div></div>\n",
      "</div>\n",
      "<div class=\"Menu2 MenuDiv Off\" menu=\"m10\"><div class=\"MenuLink MenuConOp Off\"><a href=\"#\" target=\"_self\">Formación</a></div></div>\n",
      "<div class=\"Menu3 MenuSubOp\" menu=\"m10\">\n",
      "<div class=\"Menu3 MenuDiv Off\" menu=\"m11\"><div class=\"MenuLink Off\"><a href=\"/esp/aspx/Inversores/Formacion/Formacion.aspx?tipo=T&amp;CodBolsa=BMadrid\" target=\"_self\">Cursos y Masters</a></div></div>\n",
      "</div>\n",
      "<div class=\"Menu2 MenuDiv Off\" menu=\"m19\"><div class=\"MenuLink MenuConOp Off\"><a href=\"#\" target=\"_self\">Protector del Inversor</a></div></div>\n",
      "<div class=\"Menu3 MenuSubOp\" menu=\"m19\">\n",
      "<div class=\"Menu3 MenuDiv Off\" menu=\"m20\"><div class=\"MenuLink Off\"><a href=\"/esp/BMadrid/Protector/Protector1.aspx\" target=\"_self\">Información General</a></div></div>\n",
      "<div class=\"Menu3 MenuDiv Off\" menu=\"m24\"><div class=\"MenuLink Off\"><a href=\"/esp/BMadrid/Protector/Protector21.aspx\" target=\"_self\">Consultas y Reclamaciones</a></div></div>\n",
      "<div class=\"Menu3 MenuDiv Off\" menu=\"m27\"><div class=\"MenuLink Off\"><a href=\"/esp/BMadrid/Protector/Protector3.aspx\" target=\"_self\">Informes Anuales</a></div></div>\n",
      "<div class=\"Menu3 MenuDiv Off\" menu=\"m28\"><div class=\"MenuLink Off\"><a href=\"/esp/BMadrid/Protector/Protector4.aspx\" target=\"_self\">Normativa</a></div></div>\n",
      "</div>\n",
      "<div class=\"Menu2 MenuDiv Off\" menu=\"m31\"><div class=\"MenuLink MenuConOp Off\"><a href=\"#\" target=\"_self\">Miembros</a></div></div>\n",
      "<div class=\"Menu3 MenuSubOp\" menu=\"m31\">\n",
      "<div class=\"Menu3 MenuDiv Off\" menu=\"m32\"><div class=\"MenuLink Off\"><a href=\"/esp/aspx/Miembros/Miembros.aspx?tipo=T\" target=\"_self\">Listado de miembros</a></div></div>\n",
      "</div>\n",
      "<div class=\"Menu2 MenuDiv Off\" menu=\"m34\"><div class=\"MenuLink Off\"><a href=\"/esp/aspx/Regulacion/Regulacion.aspx\" target=\"_self\">Regulación</a></div></div>\n",
      "<div class=\"Menu2 MenuDiv Off\" menu=\"m35\"><div class=\"MenuLink Off\"><a href=\"/docs/Miembros/TarifasRectoras.pdf\" target=\"_blank\">Cánones</a></div></div>\n",
      "<div class=\"Menu2 MenuDiv Off\" menu=\"m36\"><div class=\"MenuLink Off\"><a href=\"/esp/BMadrid/Localizacion.aspx\" target=\"_self\">Dónde estamos</a></div></div>\n",
      "<div class=\"Menu2 MenuDiv Off\" menu=\"m37\"><div class=\"MenuLink Off\"><a href=\"/esp/BMadrid/Contacto.aspx\" target=\"_self\">Contacto</a></div></div>\n",
      "</div>\n",
      "<div class=\"Menu1 MenuDiv Azul On\" menu=\"m196\"><div class=\"MenuLink MenuConOp On\"><a href=\"#\" target=\"_self\">MERCADOS Y COTIZACIONES</a></div></div>\n",
      "<div class=\"Menu2 MenuSubOp\" menu=\"m196\">\n",
      "<div class=\"Menu2 MenuDiv Off\" menu=\"m197\"><div class=\"MenuLink MenuConOp Off\"><a href=\"/esp/aspx/Mercados/Precios.aspx?indice=ESI100000000\" target=\"_self\">Acciones</a></div></div>\n",
      "<div class=\"Menu3 MenuSubOp\" menu=\"m197\">\n",
      "<div class=\"Menu3 MenuDiv Off\" menu=\"m198\"><div class=\"MenuLink Off\"><a href=\"/esp/aspx/Mercados/Precios.aspx?indice=ESI100000000\" target=\"_self\">Precios de la sesión</a></div></div>\n",
      "<div class=\"Menu3 MenuDiv Off\" menu=\"m199\"><div class=\"MenuLink Off\"><a href=\"/esp/aspx/Mercados/Graficos.aspx?tipo=VALORES\" target=\"_self\">Gráficos históricos</a></div></div>\n",
      "</div>\n",
      "<div class=\"Menu2 MenuDiv Off\" menu=\"m200\"><div class=\"MenuLink Off\"><a href=\"/etfs\" target=\"_blank\">ETFs</a></div></div>\n",
      "<div class=\"Menu2 MenuDiv Off\" menu=\"m201\"><div class=\"MenuLink Off\"><a href=\"/esp/aspx/warrants/Portada/Portada.aspx\" target=\"_blank\">Warrants</a></div></div>\n",
      "<div class=\"Menu2 MenuDiv Off\" menu=\"m202\"><div class=\"MenuLink Off\"><a href=\"https://www.bmegrowth.es/\" target=\"_blank\">BME Growth</a></div></div>\n",
      "<div class=\"Menu2 MenuDiv Off\" menu=\"m203\"><div class=\"MenuLink Off\"><a href=\"http://www.latibex.com\" target=\"_blank\">Latibex</a></div></div>\n",
      "<div class=\"Menu2 MenuDiv Off\" menu=\"m204\"><div class=\"MenuLink Off\"><a href=\"https://www.bolsasymercados.es/MTF_Equity/esp/SICAV/Precios.aspx?mercado=ValorLiquidativo\" target=\"_blank\">BME IICs - Sicavs</a></div></div>\n",
      "<div class=\"Menu2 MenuDiv Off\" menu=\"m205\"><div class=\"MenuLink Off\"><a href=\"https://www.bolsasymercados.es/MTF_Equity/esp/SIL/Precios.aspx\" target=\"_blank\">BME IICs - Sil</a></div></div>\n",
      "<div class=\"Menu2 MenuDiv Off\" menu=\"m206\"><div class=\"MenuLink Off\"><a href=\"https://www.bmerv.es/esp/aspx/Fondos/Portada/Portada.aspx\" target=\"_blank\">BME IICs - Fondos</a></div></div>\n",
      "<div class=\"Menu2 MenuDiv Off\" menu=\"m207\"><div class=\"MenuLink Off\"><a href=\"https://www.bolsasymercados.es/MTF_Equity/esp/ECR/Precios.aspx\" target=\"_blank\">BME ECR - Ecr</a></div></div>\n",
      "<div class=\"Menu2 MenuDiv Off\" menu=\"m208\"><div class=\"MenuLink Off\"><a href=\"/esp/aspx/Mercados/Cartera/cartera.aspx\" target=\"_self\">Mi cartera</a></div></div>\n",
      "</div>\n",
      "<div class=\"Menu1 MenuDiv Azul Off\" menu=\"m212\"><div class=\"MenuLink MenuConOp Off\"><a href=\"#\" target=\"_self\">ÍNDICES</a></div></div>\n",
      "<div class=\"Menu2 MenuSubOp\" menu=\"m212\">\n",
      "<div class=\"Menu2 MenuDiv Off\" menu=\"m213\"><div class=\"MenuLink Off\"><a href=\"/esp/aspx/Indices/Resumen.aspx\" target=\"_self\">Resumen de Índices</a></div></div>\n",
      "<div class=\"Menu2 MenuDiv Off\" menu=\"m214\"><div class=\"MenuLink MenuConOp Off\"><a href=\"#\" target=\"_self\">Índices IBEX</a></div></div>\n",
      "<div class=\"Menu3 MenuSubOp\" menu=\"m214\">\n",
      "<div class=\"Menu3 MenuDiv Off\" menu=\"m215\"><div class=\"MenuLink Off\"><a href=\"/esp/aspx/Mercados/Precios.aspx?indice=ESI100000000&amp;punto=indice\" target=\"_self\">Precios Sesión</a></div></div>\n",
      "<div class=\"Menu3 MenuDiv Off\" menu=\"m216\"><div class=\"MenuLink Off\"><a href=\"/esp/aspx/Mercados/Graficos.aspx?tipo=IBEX\" target=\"_self\">Gráficos históricos</a></div></div>\n",
      "<div class=\"Menu3 MenuDiv Off\" menu=\"m217\"><div class=\"MenuLink Off\"><a href=\"/esp/aspx/Indices/InfHistorica.aspx?grupo=IBEX\" target=\"_self\">Precios históricos</a></div></div>\n",
      "<div class=\"Menu3 MenuDiv Off\" menu=\"m218\"><div class=\"MenuLink MenuConOp Off\"><a href=\"#\" target=\"_self\">Informes</a></div></div>\n",
      "<div class=\"Menu4 MenuSubOp\" menu=\"m218\">\n",
      "<div class=\"Menu4 MenuDiv Off\" menu=\"m219\"><div class=\"MenuLink Off\"><a href=\"javascript:sacaVentana('/docs/SBolsas/InformesSB/resumen.pdf')\" target=\"_self\">Resumen Diario</a></div></div>\n",
      "<div class=\"Menu4 MenuDiv Off\" menu=\"m220\"><div class=\"MenuLink Off\"><a href=\"javascript:sacaVentana('/docs/SBolsas/InformesSB/semanal.pdf')\" target=\"_self\">Resumen Semanal</a></div></div>\n",
      "<div class=\"Menu4 MenuDiv Off\" menu=\"m"
     ]
    },
    {
     "data": {
      "text/html": [
       "<b>limit_output extension: Maximum message size of 10000 exceeded with 128312 characters</b>"
      ]
     },
     "metadata": {},
     "output_type": "display_data"
    }
   ],
   "source": [
    "# Una altra forma de buscar és utilitzant el find i el find_all\n",
    "td = borsaSoup.find_all('td')\n",
    "for tds in td:\n",
    "    print(td)"
   ]
  },
  {
   "cell_type": "code",
   "execution_count": 15,
   "id": "0de7c998",
   "metadata": {
    "ExecuteTime": {
     "end_time": "2022-09-14T11:04:51.536535Z",
     "start_time": "2022-09-14T11:04:51.492563Z"
    }
   },
   "outputs": [
    {
     "name": "stdout",
     "output_type": "stream",
     "text": [
      "[<div id=\"BuscadorCab\">\n",
      "<div>Buscador de<br/>empresas</div>\n",
      "<form action=\"/esp/aspx/Empresas/BusqEmpresas.aspx\" id=\"formBusq\" method=\"get\">\n",
      "<input autocomplete=\"off\" name=\"busq\" type=\"text\" value=\"nombre / ISIN / ticker\"/>\n",
      "<div id=\"divBusq\" style=\"display: none;\"></div>\n",
      "<span class=\"BtnGris mclick\"><a href=\"javascript:document.forms.formBusq.submitbusq();\"><span class=\"BtnBuscarDcha\" title=\"Buscar\"></span></a></span>\n",
      "</form>\n",
      "</div>]\n"
     ]
    }
   ],
   "source": [
    "# Ara anem a filtrar per atributs\n",
    "atribut1 = borsaSoup.find_all(id='BuscadorCab')\n",
    "print(atribut1)"
   ]
  },
  {
   "cell_type": "code",
   "execution_count": 16,
   "id": "0d9093f2",
   "metadata": {
    "ExecuteTime": {
     "end_time": "2022-09-14T11:04:51.816366Z",
     "start_time": "2022-09-14T11:04:51.539535Z"
    }
   },
   "outputs": [
    {
     "name": "stdout",
     "output_type": "stream",
     "text": [
      "[<div id=\"divBusq\" style=\"display: none;\"></div>]\n"
     ]
    }
   ],
   "source": [
    "atribut2 = borsaSoup.find_all(id='divBusq')\n",
    "print(atribut2)"
   ]
  },
  {
   "cell_type": "code",
   "execution_count": 17,
   "id": "207ccf5a",
   "metadata": {
    "ExecuteTime": {
     "end_time": "2022-09-14T11:04:52.003699Z",
     "start_time": "2022-09-14T11:04:51.820361Z"
    }
   },
   "outputs": [
    {
     "name": "stdout",
     "output_type": "stream",
     "text": [
      "[<div class=\"Menu2 MenuSubOp\" menu=\"m1\">\n",
      "<div class=\"Menu2 MenuDiv Off\" menu=\"m2\"><div class=\"MenuLink Off\"><a href=\"/esp/BMadrid/BMadrid.aspx\" target=\"_self\">Bolsa de Madrid</a></div></div>\n",
      "<div class=\"Menu2 MenuDiv Off\" menu=\"m3\"><div class=\"MenuLink Off\"><a href=\"/docs/BMadrid/docsSubidos/Historia_Bolsa_ Española.pdf\" target=\"_blank\">Historia de la Bolsa</a></div></div>\n",
      "<div class=\"Menu2 MenuDiv Off\" menu=\"m4\"><div class=\"MenuLink MenuConOp Off\"><a href=\"#\" target=\"_self\">El Palacio de la Bolsa</a></div></div>\n",
      "<div class=\"Menu3 MenuSubOp\" menu=\"m4\">\n",
      "<div class=\"Menu3 MenuDiv Off\" menu=\"m5\"><div class=\"MenuLink Off\"><a href=\"/125_Palacio_Bolsa/\" target=\"_blank\">Historia del Palacio</a></div></div>\n",
      "<div class=\"Menu3 MenuDiv Off\" menu=\"m6\"><div class=\"MenuLink Off\"><a href=\"/esp/BMadrid/Palacio/Visita.aspx\" target=\"_self\">Visitas Guiadas</a></div></div>\n",
      "<div class=\"Menu3 MenuDiv Off\" menu=\"m7\"><div class=\"MenuLink Off\"><a href=\"/esp/BMadrid/Palacio/VisitaVirtual.aspx\" target=\"_self\">Visita Virtual</a></div></div>\n",
      "<div class=\"Menu3 MenuDiv Off\" menu=\"m8\"><div class=\"MenuLink Off\"><a href=\"/esp/BMadrid/Palacio/Eventos.aspx\" target=\"_self\">Actos y Conferencias</a></div></div>\n",
      "<div class=\"Menu3 MenuDiv Off\" menu=\"m9\"><div class=\"MenuLink Off\"><a href=\"/esp/aspx/Empresas/Eventos/Eventos.aspx?CodBolsa=BMadrid\" target=\"_self\">Aperturas de Honor</a></div></div>\n",
      "</div>\n",
      "<div class=\"Menu2 MenuDiv Off\" menu=\"m10\"><div class=\"MenuLink MenuConOp Off\"><a href=\"#\" target=\"_self\">Formación</a></div></div>\n",
      "<div class=\"Menu3 MenuSubOp\" menu=\"m10\">\n",
      "<div class=\"Menu3 MenuDiv Off\" menu=\"m11\"><div class=\"MenuLink Off\"><a href=\"/esp/aspx/Inversores/Formacion/Formacion.aspx?tipo=T&amp;CodBolsa=BMadrid\" target=\"_self\">Cursos y Masters</a></div></div>\n",
      "</div>\n",
      "<div class=\"Menu2 MenuDiv Off\" menu=\"m19\"><div class=\"MenuLink MenuConOp Off\"><a href=\"#\" target=\"_self\">Protector del Inversor</a></div></div>\n",
      "<div class=\"Menu3 MenuSubOp\" menu=\"m19\">\n",
      "<div class=\"Menu3 MenuDiv Off\" menu=\"m20\"><div class=\"MenuLink Off\"><a href=\"/esp/BMadrid/Protector/Protector1.aspx\" target=\"_self\">Información General</a></div></div>\n",
      "<div class=\"Menu3 MenuDiv Off\" menu=\"m24\"><div class=\"MenuLink Off\"><a href=\"/esp/BMadrid/Protector/Protector21.aspx\" target=\"_self\">Consultas y Reclamaciones</a></div></div>\n",
      "<div class=\"Menu3 MenuDiv Off\" menu=\"m27\"><div class=\"MenuLink Off\"><a href=\"/esp/BMadrid/Protector/Protector3.aspx\" target=\"_self\">Informes Anuales</a></div></div>\n",
      "<div class=\"Menu3 MenuDiv Off\" menu=\"m28\"><div class=\"MenuLink Off\"><a href=\"/esp/BMadrid/Protector/Protector4.aspx\" target=\"_self\">Normativa</a></div></div>\n",
      "</div>\n",
      "<div class=\"Menu2 MenuDiv Off\" menu=\"m31\"><div class=\"MenuLink MenuConOp Off\"><a href=\"#\" target=\"_self\">Miembros</a></div></div>\n",
      "<div class=\"Menu3 MenuSubOp\" menu=\"m31\">\n",
      "<div class=\"Menu3 MenuDiv Off\" menu=\"m32\"><div class=\"MenuLink Off\"><a href=\"/esp/aspx/Miembros/Miembros.aspx?tipo=T\" target=\"_self\">Listado de miembros</a></div></div>\n",
      "</div>\n",
      "<div class=\"Menu2 MenuDiv Off\" menu=\"m34\"><div class=\"MenuLink Off\"><a href=\"/esp/aspx/Regulacion/Regulacion.aspx\" target=\"_self\">Regulación</a></div></div>\n",
      "<div class=\"Menu2 MenuDiv Off\" menu=\"m35\"><div class=\"MenuLink Off\"><a href=\"/docs/Miembros/TarifasRectoras.pdf\" target=\"_blank\">Cánones</a></div></div>\n",
      "<div class=\"Menu2 MenuDiv Off\" menu=\"m36\"><div class=\"MenuLink Off\"><a href=\"/esp/BMadrid/Localizacion.aspx\" target=\"_self\">Dónde estamos</a></div></div>\n",
      "<div class=\"Menu2 MenuDiv Off\" menu=\"m37\"><div class=\"MenuLink Off\"><a href=\"/esp/BMadrid/Contacto.aspx\" target=\"_self\">Contacto</a></div></div>\n",
      "</div>, <div class=\"Menu2 MenuDiv Off\" menu=\"m2\"><div class=\"MenuLink Off\"><a href=\"/esp/BMadrid/BMadrid.aspx\" target=\"_self\">Bolsa de Madrid</a></div></div>, <div class=\"Menu2 MenuDiv Off\" menu=\"m3\"><div class=\"MenuLink Off\"><a href=\"/docs/BMadrid/docsSubidos/Historia_Bolsa_ Española.pdf\" target=\"_blank\">Historia de la Bolsa</a></div></div>, <div class=\"Menu2 MenuDiv Off\" menu=\"m4\"><div class=\"MenuLink MenuConOp Off\"><a href=\"#\" target=\"_self\">El Palacio de la Bolsa</a></div></div>, <div class=\"Menu2 MenuDiv Off\" menu=\"m10\"><div class=\"MenuLink MenuConOp Off\"><a href=\"#\" target=\"_self\">Formación</a></div></div>, <div class=\"Menu2 MenuDiv Off\" menu=\"m19\"><div class=\"MenuLink MenuConOp Off\"><a href=\"#\" target=\"_self\">Protector del Inversor</a></div></div>, <div class=\"Menu2 MenuDiv Off\" menu=\"m31\"><div class=\"MenuLink MenuConOp Off\"><a href=\"#\" target=\"_self\">Miembros</a></div></div>, <div class=\"Menu2 MenuDiv Off\" menu=\"m34\"><div class=\"MenuLink Off\"><a href=\"/esp/aspx/Regulacion/Regulacion.aspx\" target=\"_self\">Regulación</a></div></div>, <div class=\"Menu2 MenuDiv Off\" menu=\"m35\"><div class=\"MenuLink Off\"><a href=\"/docs/Miembros/TarifasRectoras.pdf\" target=\"_blank\">Cánones</a></div></div>, <div class=\"Menu2 MenuDiv Off\" menu=\"m36\"><div class=\"MenuLink Off\"><a href=\"/esp/BMadrid/Localizacion.aspx\" target=\"_self\">Dónde estamos</a></div></div>, <div class=\"Menu2 MenuDiv Off\" menu=\"m37\"><div class=\"MenuLink Off\"><a href=\"/esp/BMadrid/Contacto.aspx\" target=\"_self\">Contacto</a></div></div>, <div class=\"Menu2 MenuSubOp\" menu=\"m196\">\n",
      "<div class=\"Menu2 MenuDiv Off\" menu=\"m197\"><div class=\"MenuLink MenuConOp Off\"><a href=\"/esp/aspx/Mercados/Precios.aspx?indice=ESI100000000\" target=\"_self\">Acciones</a></div></div>\n",
      "<div class=\"Menu3 MenuSubOp\" menu=\"m197\">\n",
      "<div class=\"Menu3 MenuDiv Off\" menu=\"m198\"><div class=\"MenuLink Off\"><a href=\"/esp/aspx/Mercados/Precios.aspx?indice=ESI100000000\" target=\"_self\">Precios de la sesión</a></div></div>\n",
      "<div class=\"Menu3 MenuDiv Off\" menu=\"m199\"><div class=\"MenuLink Off\"><a href=\"/esp/aspx/Mercados/Graficos.aspx?tipo=VALORES\" target=\"_self\">Gráficos históricos</a></div></div>\n",
      "</div>\n",
      "<div class=\"Menu2 MenuDiv Off\" menu=\"m200\"><div class=\"MenuLink Off\"><a href=\"/etfs\" target=\"_blank\">ETFs</a></div></div>\n",
      "<div class=\"Menu2 MenuDiv Off\" menu=\"m201\"><div class=\"MenuLink Off\"><a href=\"/esp/aspx/warrants/Portada/Portada.aspx\" target=\"_blank\">Warrants</a></div></div>\n",
      "<div class=\"Menu2 MenuDiv Off\" menu=\"m202\"><div class=\"MenuLink Off\"><a href=\"https://www.bmegrowth.es/\" target=\"_blank\">BME Growth</a></div></div>\n",
      "<div class=\"Menu2 MenuDiv Off\" menu=\"m203\"><div class=\"MenuLink Off\"><a href=\"http://www.latibex.com\" target=\"_blank\">Latibex</a></div></div>\n",
      "<div class=\"Menu2 MenuDiv Off\" menu=\"m204\"><div class=\"MenuLink Off\"><a href=\"https://www.bolsasymercados.es/MTF_Equity/esp/SICAV/Precios.aspx?mercado=ValorLiquidativo\" target=\"_blank\">BME IICs - Sicavs</a></div></div>\n",
      "<div class=\"Menu2 MenuDiv Off\" menu=\"m205\"><div class=\"MenuLink Off\"><a href=\"https://www.bolsasymercados.es/MTF_Equity/esp/SIL/Precios.aspx\" target=\"_blank\">BME IICs - Sil</a></div></div>\n",
      "<div class=\"Menu2 MenuDiv Off\" menu=\"m206\"><div class=\"MenuLink Off\"><a href=\"https://www.bmerv.es/esp/aspx/Fondos/Portada/Portada.aspx\" target=\"_blank\">BME IICs - Fondos</a></div></div>\n",
      "<div class=\"Menu2 MenuDiv Off\" menu=\"m207\"><div class=\"MenuLink Off\"><a href=\"https://www.bolsasymercados.es/MTF_Equity/esp/ECR/Precios.aspx\" target=\"_blank\">BME ECR - Ecr</a></div></div>\n",
      "<div class=\"Menu2 MenuDiv Off\" menu=\"m208\"><div class=\"MenuLink Off\"><a href=\"/esp/aspx/Mercados/Cartera/cartera.aspx\" target=\"_self\">Mi cartera</a></div></div>\n",
      "</div>, <div class=\"Menu2 MenuDiv Off\" menu=\"m197\"><div class=\"MenuLink MenuConOp Off\"><a href=\"/esp/aspx/Mercados/Precios.aspx?indice=ESI100000000\" target=\"_self\">Acciones</a></div></div>, <div class=\"Menu2 MenuDiv Off\" menu=\"m200\"><div class=\"MenuLink Off\"><a href=\"/etfs\" target=\"_blank\">ETFs</a></div></div>, <div class=\"Menu2 MenuDiv Off\" menu=\"m201\"><div class=\"MenuLink Off\"><a href=\"/esp/aspx/warrants/Portada/Portada.aspx\" target=\"_blank\">Warrants</a></div></div>, <div class=\"Menu2 MenuDiv Off\" menu=\"m202\"><div class=\"MenuLink Off\"><a href=\"https://www.bmegrowth.es/\" target=\"_blank\">BME Growth</a></div></div>, <div class=\"Menu2 MenuDiv Off\" menu=\"m203\"><div class=\"MenuLink Off\"><a href=\"http://www.latibex.com\" target=\"_blank\">Latibex</a></div></div>, <div class=\"Menu2 MenuDiv Off\" menu=\"m204\"><div class=\"MenuLink Off\"><a href=\"https://www.bolsasymercados.es/MTF_Equity/esp/SICAV/Precios.aspx?mercado=ValorLiquidativo\" target=\"_blank\">BME IICs - Sicavs</a></div></div>, <div class=\"Menu2 MenuDiv Off\" menu=\"m205\"><div class=\"MenuLink Off\"><a href=\"https://www.bolsasymercados.es/MTF_Equity/esp/SIL/Precios.aspx\" target=\"_blank\">BME IICs - Sil</a></div></div>, <div class=\"Menu2 MenuDiv Off\" menu=\"m206\"><div class=\"MenuLink Off\"><a href=\"https://www.bmerv.es/esp/aspx/Fondos/Portada/Portada.aspx\" target=\"_blank\">BME IICs - Fondos</a></div></div>, <div class=\"Menu2 MenuDiv Off\" menu=\"m207\"><div class=\"MenuLink Off\"><a href=\"https://www.bolsasymercados.es/MTF_Equity/esp/ECR/Precios.aspx\" target=\"_blank\">BME ECR - Ecr</a></div></div>, <div class=\"Menu2 MenuDiv Off\" menu=\"m208\"><div class=\"MenuLink Off\"><a href=\"/esp/aspx/Mercados/Cartera/cartera.aspx\" target=\"_self\">Mi cartera</a></div></div>, <div class=\"Menu2 MenuSubOp\" menu=\"m212\">\n",
      "<div class=\"Menu2 MenuDiv Off\" menu=\"m213\"><div class=\"MenuLink Off\"><a href=\"/esp/aspx/Indices/Resumen.aspx\" target=\"_self\">Resumen de Índices</a></div></div>\n",
      "<div class=\"Menu2 MenuDiv Off\" menu=\"m214\"><div class=\"MenuLink MenuConOp Off\"><a href=\"#\" target=\"_self\">Índices IBEX</a></div></div>\n",
      "<div class=\"Menu3 MenuSubOp\" menu=\"m214\">\n",
      "<div class=\"Menu3 MenuDiv Off\" menu=\"m215\"><div class=\"MenuLink Off\"><a href=\"/esp/aspx/Mercados/Precios.aspx?indice=ESI100000000&amp;punto=indice\" target=\"_self\">Precios Sesión</a></div></div>\n",
      "<div class=\"Menu3 MenuDiv Off\" menu=\"m216\"><div class=\"MenuLink Off\"><a href=\"/esp/aspx/Mercados/Graficos.aspx?tipo=IBEX\" target=\"_self\">Gráficos históricos</a></div></div>\n",
      "<div class=\"Menu3 MenuDiv Off\" menu=\"m217\"><div class=\"MenuLink Off\"><a href=\"/esp/aspx/Indices/InfHistorica.aspx?grupo=IBEX\" target=\"_self\">Precios históricos</a></div></div>\n",
      "<div class=\"Menu3 MenuDiv Off\" menu=\"m218\"><div class=\"MenuLink MenuConOp Off\"><a href=\"#\" target=\"_self\">Informes</a></div></div>"
     ]
    },
    {
     "data": {
      "text/html": [
       "<b>limit_output extension: Maximum message size of 10000 exceeded with 39651 characters</b>"
      ]
     },
     "metadata": {},
     "output_type": "display_data"
    }
   ],
   "source": [
    "# Filtrem per classes CSS, en aquest cas totes les classes que contenen Menu2\n",
    "css_menu2 = borsaSoup.find_all('div', class_=\"Menu2\")\n",
    "print(css_menu2)\n"
   ]
  },
  {
   "cell_type": "markdown",
   "id": "10a0e2bb",
   "metadata": {
    "ExecuteTime": {
     "end_time": "2022-09-13T11:57:36.973123Z",
     "start_time": "2022-09-13T11:57:36.289623Z"
    }
   },
   "source": [
    "### WEB SCRAPING DE LA PÀGINA WEB DE LA WIKIPEDIA AMB BEAUTIFUL SOUP"
   ]
  },
  {
   "cell_type": "code",
   "execution_count": 18,
   "id": "9c43bc6b",
   "metadata": {
    "ExecuteTime": {
     "end_time": "2022-09-14T11:04:52.563508Z",
     "start_time": "2022-09-14T11:04:52.007695Z"
    }
   },
   "outputs": [
    {
     "name": "stdout",
     "output_type": "stream",
     "text": [
      "<!DOCTYPE html>\n",
      "<html class=\"client-nojs\" dir=\"ltr\" lang=\"ca\">\n",
      "<head>\n",
      "<meta charset=\"utf-8\"/>\n",
      "<title>Cortals del Mig - Viquipèdia, l'enciclopèdia lliure</title>\n",
      "<script>document.documentElement.className=\"client-js\";RLCONF={\"wgBreakFrames\":false,\"wgSeparatorTransformTable\":[\",\\t.\",\".\\t,\"],\"wgDigitTransformTable\":[\"\",\"\"],\"wgDefaultDateFormat\":\"dmy\",\"wgMonthNames\":[\"\",\"gener\",\"febrer\",\"març\",\"abril\",\"maig\",\"juny\",\"juliol\",\"agost\",\"setembre\",\"octubre\",\"novembre\",\"desembre\"],\"wgRequestId\":\"b4f871e8-607c-41b3-bc33-c693210bdc3a\",\"wgCSPNonce\":false,\"wgCanonicalNamespace\":\"\",\"wgCanonicalSpecialPageName\":false,\"wgNamespaceNumber\":0,\"wgPageName\":\"Cortals_del_Mig\",\"wgTitle\":\"Cortals del Mig\",\"wgCurRevisionId\":30593126,\"wgRevisionId\":30593126,\"wgArticleId\":1516491,\"wgIsArticle\":true,\"wgIsRedirect\":false,\"wgAction\":\"view\",\"wgUserName\":null,\"wgUserGroups\":[\"*\"],\"wgCategories\":[\"Mapes amb diverses figures\",\"Articles amb coordenades\",\"Pàgines amb enllaç commonscat des de Wikidata\",\"Control d'autoritats\",\"Pàgines amb mapes\",\"Patrimoni monumental de Sant Hilari Sacalm\",\"Edificis de Sant Hilari Sacalm\"],\"wgPageContentLanguage\":\"ca\",\"wgPageContentModel\":\"wikitext\",\n",
      "\"wgRelevantPageName\":\"Cortals_del_Mig\",\"wgRelevantArticleId\":1516491,\"wgIsProbablyEditable\":true,\"wgRelevantPageIsProbablyEditable\":true,\"wgRestrictionEdit\":[],\"wgRestrictionMove\":[],\"wgVisualEditor\":{\"pageLanguageCode\":\"ca\",\"pageLanguageDir\":\"ltr\",\"pageVariantFallbacks\":\"ca\"},\"wgMFDisplayWikibaseDescriptions\":{\"search\":true,\"nearby\":true,\"watchlist\":true,\"tagline\":true},\"wgWMESchemaEditAttemptStepOversample\":false,\"wgWMEPageLength\":3000,\"wgNoticeProject\":\"wikipedia\",\"wgVector2022PreviewPages\":[],\"wgMediaViewerOnClick\":true,\"wgMediaViewerEnabledByDefault\":true,\"wgPopupsFlags\":10,\"wgULSCurrentAutonym\":\"català\",\"wgKartographerLiveData\":{\"_504c93584d8458e2f7bd1f2dff396e9fc8122cfc\":[{\"type\":\"ExternalData\",\"service\":\"geomask\",\"url\":\"https://maps.wikimedia.org/geoshape?getgeojson=1\\u0026ids=Q47184722\",\"properties\":{\"title\":\"geomask1\",\"fill-opacity\":0.2}},{\"features\":[{\"type\":\"Feature\",\"geometry\":{\"coordinates\":[2.46684,41.868315],\"type\":\"Point\"},\"properties\":{\"marker-size\":\"small\",\"title\":\n",
      "\"Cortals del Mig\",\"marker-symbol\":\"marker\",\"stroke-width\":5,\"marker-color\":\"FF0000\"}}],\"type\":\"FeatureCollection\"}]},\"wgCoordinates\":{\"lat\":41.868315,\"lon\":2.46684},\"wgEditSubmitButtonLabelPublish\":true,\"wgCentralAuthMobileDomain\":false,\"wgULSPosition\":\"interlanguage\",\"wgULSisCompactLinksEnabled\":true,\"wgWikibaseItemId\":\"Q47184722\",\"GEHomepageSuggestedEditsEnableTopics\":true,\"wgGETopicsMatchModeEnabled\":false,\"wgGEStructuredTaskRejectionReasonTextInputEnabled\":false};RLSTATE={\"skins.vector.user.styles\":\"ready\",\"ext.globalCssJs.user.styles\":\"ready\",\"site.styles\":\"ready\",\"user.styles\":\"ready\",\"skins.vector.user\":\"ready\",\"ext.globalCssJs.user\":\"ready\",\"user\":\"ready\",\"user.options\":\"loading\",\"ext.kartographer.style\":\"ready\",\"ext.cite.styles\":\"ready\",\"mediawiki.ui.button\":\"ready\",\"skins.vector.styles\":\"ready\",\"skins.vector.icons\":\"ready\",\"mediawiki.ui.icon\":\"ready\",\"ext.visualEditor.desktopArticleTarget.noscript\":\"ready\",\"ext.wikimediaBadges\":\"ready\",\"ext.uls.interlanguage\":\"ready\",\n",
      "\"wikibase.client.init\":\"ready\",\"wikibase.client.data-bridge.externalModifiers\":\"ready\"};RLPAGEMODULES=[\"ext.kartographer.staticframe\",\"ext.cite.ux-enhancements\",\"site\",\"mediawiki.page.ready\",\"skins.vector.js\",\"skins.vector.es6\",\"mmv.head\",\"mmv.bootstrap.autostart\",\"ext.visualEditor.desktopArticleTarget.init\",\"ext.visualEditor.targetLoader\",\"ext.eventLogging\",\"ext.wikimediaEvents\",\"ext.navigationTiming\",\"ext.cx.eventlogging.campaigns\",\"ext.quicksurveys.init\",\"ext.centralNotice.geoIP\",\"ext.centralNotice.startUp\",\"ext.gadget.ReferenceTooltips\",\"ext.gadget.UkensKonkurranse\",\"ext.gadget.refToolbar\",\"ext.gadget.charinsert\",\"ext.gadget.AltresViccionari\",\"ext.gadget.purgetab\",\"ext.gadget.DocTabs\",\"ext.gadget.switcher\",\"ext.centralauth.centralautologin\",\"ext.popups\",\"ext.uls.compactlinks\",\"ext.uls.interface\",\"ext.cx.uls.quick.actions\",\"wikibase.client.data-bridge.init\",\"ext.growthExperiments.SuggestedEditSession\"];</script>\n",
      "<script>(RLQ=window.RLQ||[]).push(function(){mw.loader.implement(\"user.options@12s5i\",function($,jQuery,require,module){mw.user.tokens.set({\"patrolToken\":\"+\\\\\",\"watchToken\":\"+\\\\\",\"csrfToken\":\"+\\\\\"});});});</script>\n",
      "<link href=\"/w/load.php?lang=ca&amp;modules=ext.cite.styles%7Cext.kartographer.style%7Cext.uls.interlanguage%7Cext.visualEditor.desktopArticleTarget.noscript%7Cext.wikimediaBadges%7Cmediawiki.ui.button%2Cicon%7Cskins.vector.icons%2Cstyles%7Cwikibase.client.data-bridge.externalModifiers%7Cwikibase.client.init&amp;only=styles&amp;skin=vector-2022\" rel=\"stylesheet\"/>\n",
      "<script async=\"\" src=\"/w/load.php?lang=ca&amp;modules=startup&amp;only=scripts&amp;raw=1&amp;skin=vector-2022\"></script>\n",
      "<meta content=\"\" name=\"ResourceLoaderDynamicStyles\"/>\n",
      "<link href=\"/w/load.php?lang=ca&amp;modules=site.styles&amp;only=styles&amp;skin=vector-2022\" rel=\"stylesheet\"/>\n",
      "<meta content=\"MediaWiki 1.39.0-wmf.28\" name=\"generator\"/>\n",
      "<meta content=\"origin\" name=\"referrer\"/>\n",
      "<meta content=\"origin-when-crossorigin\" name=\"referrer\"/>\n",
      "<meta content=\"origin-when-cross-origin\" name=\"referrer\"/>\n",
      "<meta content=\"telephone=no\" name=\"format-detection\"/>\n",
      "<meta content=\"https://upload.wikimedia.org/wikipedia/commons/thumb/2/28/Els_Cortals_del_Mig.jpg/1200px-Els_Cortals_del_Mig.jpg\" property=\"og:image\"/>\n",
      "<meta content=\"1200\" property=\"og:image:width\"/>\n",
      "<meta content=\"900\" property=\"og:image:height\"/>\n",
      "<meta content=\"https://upload.wikimedia.org/wikipedia/commons/thumb/2/28/Els_Cortals_del_Mig.jpg/800px-Els_Cortals_del_Mig.jpg\" property=\"og:image\"/>\n",
      "<meta content=\"800\" property=\"og:image:width\"/>\n",
      "<meta content=\"600\" property=\"og:image:height\"/>\n",
      "<meta content=\"https://upload.wikimedia.org/wikipedia/commons/thumb/2/28/Els_Cortals_del_Mig.jpg/640px-Els_Cortals_del_Mig.jpg\" property=\"og:image\"/>\n",
      "<meta content=\"640\" property=\"og:image:width\"/>\n",
      "<meta content=\"480\" property=\"og:image:height\"/>\n",
      "<meta content=\"width=1000\" name=\"viewport\"/>\n",
      "<meta content=\"Cortals del Mig - Viquipèdia, l'enciclopèdia lliure\" property=\"og:title\"/>\n",
      "<meta content=\"website\" property=\"og:type\"/>\n",
      "<link href=\"//upload.wikimedia.org\" rel=\"preconnect\"/>\n",
      "<link href=\"//ca.m.wikipedia.org/wiki/Cortals_del_Mig\" media=\"only screen and (max-width: 720px)\" rel=\"alternate\"/>\n",
      "<link href=\"/w/index.php?title=Cortals_del_Mig&amp;action=edit\" rel=\"alternate\" title=\"Modifica\" type=\"application/x-wiki\"/>\n",
      "<link href=\"/static/apple-touch/wikipedia.png\" rel=\"apple-touch-icon\"/>\n",
      "<link href=\"/static/favicon/wikipedia.ico\" rel=\"icon\"/>\n",
      "<link href=\"/w/opensearch_desc.php\" rel=\"search\" title=\"Viquipèdia (ca)\" type=\"application/opensearchdescription+xml\"/>\n",
      "<link href=\"//ca.wikipedia.org/w/api.php?action=rsd\" rel=\"EditURI\" type=\"application/rsd+xml\"/>\n",
      "<link href=\"https://creativecommons.org/licenses/by-sa/3.0/\" rel=\"license\"/>\n",
      "<link href=\"https://ca.wikipedia.org/wiki/Cortals_del_Mig\" rel=\"canonical\"/>\n",
      "<link href=\"//meta.wikimedia.org\" rel=\"dns-prefetch\"/>\n",
      "<link href=\"//login.wikimedia.org\" rel=\"dns-prefetch\"/>\n",
      "</head>\n",
      "<body class=\"skin-vector skin-vector-search-vue mediawiki ltr sitedir-ltr mw-hide-empty-elt ns-0 ns-subject mw-editable page-Cortals_del_Mig rootpage-Cortals_del_Mig skin-vector-2022 action-view vector-feature-language-in-header-enabled vector-feature-language-in-main-page-header-disabled vector-feature-language-alert-in-sidebar-enabled vector-feature-sticky-header-disabled vector-feature-sticky-header-edit-disabled vector-feature-table-of-contents-disabled vector-feature-visual-enhancement-next-disabled\"><div class=\"mw-page-container\">\n",
      "<span id=\"top-page\"></span>\n",
      "<a class=\"mw-jump-link\" href=\"#content\">Vés al contingut</a>\n",
      "<div class=\"mw-page-container-inner\">\n",
      "<input class=\"mw-checkbox-hack-checkbox\" id=\"mw-sidebar-checkbox\" type=\"checkbox\"/>\n",
      "<header class=\"mw-header\">\n",
      "<div class=\"mw-header-aside\">\n",
      "<label aria-controls=\"mw-panel\" class=\"mw-checkbox-hack-button mw-ui-icon mw-ui-button mw-ui-quiet mw-ui-icon-element\" data-event-name=\"ui.sidebar\" for=\"mw-sidebar-checkbox\" id=\"mw-sidebar-button\" role=\"button\" tabindex=\"0\" title=\"Menú principal\">\n",
      "<span>Mostra o oculta la barra lateral</span>\n",
      "</label>\n",
      "<a class=\"mw-logo\" href=\"/wiki/Portada\">\n",
      "<img alt=\"\" aria-hidden=\"true\" class=\"mw-logo-icon\" height=\"50\" src=\"/static/images/mobile/copyright/wikipedia.png\" width=\"50\"/>\n",
      "<span class=\"mw-logo-container\">\n",
      "<img alt=\"Viquipèdia\" class=\"mw-logo-wordmark\" src=\"/static/images/mobile/copyright/wikipedia-wordmark-ca.svg\" style=\"width: 7.5em; height: 1.4375em;\"/>\n",
      "<img alt=\"l'Enciclopèdia Lliure\" class=\"mw-logo-tagline\" height=\"13\" src=\"/static/images/mobile/copyright/wikipedia-tagline-ca.svg\" style=\"width: 7em; height: 0.8125em;\" width=\"112\"/>\n",
      "</span>\n",
      "</a>\n",
      "</div>\n",
      "<div class=\"mw-header-content\">\n",
      "<div class=\"vector-search-box-vue vector-search-box-collapses vector-search-box-show-thumbnail vector-search-box-auto-expand-width vector-search-box\" id=\"p-search\" role=\"search\">\n",
      "<a accesskey=\"f\" class=\"mw-ui-button mw-ui-quiet mw-ui-icon mw-ui-icon-element mw-ui-icon-wikimedia-search search-toggle\" href=\"/wiki/Especial:Cerca\" title=\"Cerca a la Viquipèdia [f]\">\n",
      "<span>Cerca</span>\n",
      "</a>\n",
      "<div>\n",
      "<form action=\"/w/index.php\" class=\"vector-search-box-form\" id=\"searchform\">\n",
      "<div class=\"vector-search-box-inner\" data-search-loc=\"header-moved\" id=\"simpleSearch\">\n",
      "<input accesskey=\"f\" aria-label=\"Cerca a Viquipèdia\" autocapitalize=\"sentences\" class=\"vector-search-box-input\" id=\"searchInput\" name=\"search\" placeholder=\"Cerca a Viquipèdia\" title=\"Cerca a la Viquipèdia [f]\" type=\"search\"/>\n",
      "<input name=\"title\" type=\"hidden\" value=\"Especial:Cerca\"/>\n",
      "<input class=\"searchButton mw-fallbackSearchButton\" id=\"mw-searchButton\" name=\"fulltext\" title=\"Cerca aquest text a les pàgines\" type=\"submit\" value=\"Cerca\"/>\n",
      "<input class=\"searchButton\" id=\"searchButton\" name=\"go\" title=\"Vés a una pàgina amb aquest nom exacte si existeix\" type=\"submit\" value=\"Vés\"/>\n",
      "</div>\n",
      "</form>\n",
      "</div>\n",
      "</div>\n",
      "<nav aria-label=\"Eines personals\" class=\"vector-user-links"
     ]
    },
    {
     "data": {
      "text/html": [
       "<b>limit_output extension: Maximum message size of 10000 exceeded with 50151 characters</b>"
      ]
     },
     "metadata": {},
     "output_type": "display_data"
    }
   ],
   "source": [
    "# Importo beautifulsoup i amb requests crido la pàgina web\n",
    "import requests\n",
    "from bs4 import BeautifulSoup\n",
    "wiki = requests.get('https://ca.wikipedia.org/wiki/Cortals_del_Mig')\n",
    "wikiSoup = BeautifulSoup(wiki.text, 'lxml')\n",
    "print(wikiSoup)"
   ]
  },
  {
   "cell_type": "code",
   "execution_count": 19,
   "id": "7498e5aa",
   "metadata": {
    "ExecuteTime": {
     "end_time": "2022-09-14T11:04:52.579499Z",
     "start_time": "2022-09-14T11:04:52.567503Z"
    }
   },
   "outputs": [
    {
     "data": {
      "text/plain": [
       "<title>Cortals del Mig - Viquipèdia, l'enciclopèdia lliure</title>"
      ]
     },
     "execution_count": 19,
     "metadata": {},
     "output_type": "execute_result"
    }
   ],
   "source": [
    "# Per saber el títol del web (objecte tipus Tag)\n",
    "wikiSoup.title"
   ]
  },
  {
   "cell_type": "code",
   "execution_count": 20,
   "id": "d2598ea0",
   "metadata": {
    "ExecuteTime": {
     "end_time": "2022-09-14T11:04:52.967258Z",
     "start_time": "2022-09-14T11:04:52.585493Z"
    }
   },
   "outputs": [
    {
     "data": {
      "text/plain": [
       "{'class': ['mw-page-container']}"
      ]
     },
     "execution_count": 20,
     "metadata": {},
     "output_type": "execute_result"
    }
   ],
   "source": [
    "#Accedeixo als atributs a través de attrs (objecte tipus Tag)\n",
    "div_main = wikiSoup.div\n",
    "div_main.attrs"
   ]
  },
  {
   "cell_type": "code",
   "execution_count": 21,
   "id": "1cd3bf42",
   "metadata": {
    "ExecuteTime": {
     "end_time": "2022-09-14T11:04:53.169008Z",
     "start_time": "2022-09-14T11:04:52.971255Z"
    }
   },
   "outputs": [
    {
     "name": "stdout",
     "output_type": "stream",
     "text": [
      "None\n"
     ]
    }
   ],
   "source": [
    "# (objecte tipus NavigableString)\n",
    "primerParagraf = wikiSoup.p\n",
    "text = primerParagraf.string\n",
    "print(text)"
   ]
  },
  {
   "cell_type": "code",
   "execution_count": 22,
   "id": "d66a983d",
   "metadata": {
    "ExecuteTime": {
     "end_time": "2022-09-14T11:04:53.340885Z",
     "start_time": "2022-09-14T11:04:53.176017Z"
    }
   },
   "outputs": [
    {
     "data": {
      "text/plain": [
       "NoneType"
      ]
     },
     "execution_count": 22,
     "metadata": {},
     "output_type": "execute_result"
    }
   ],
   "source": [
    "type(text)"
   ]
  },
  {
   "cell_type": "code",
   "execution_count": 23,
   "id": "4b37a202",
   "metadata": {
    "ExecuteTime": {
     "end_time": "2022-09-14T11:04:53.531011Z",
     "start_time": "2022-09-14T11:04:53.344883Z"
    }
   },
   "outputs": [],
   "source": [
    "# A part de fer servir etiquetes per arribar als objectes, podem fer servir l'atribut \"contents\", el generador \" children\" i el també generador \"descendents\""
   ]
  },
  {
   "cell_type": "code",
   "execution_count": 24,
   "id": "b28223fa",
   "metadata": {
    "ExecuteTime": {
     "end_time": "2022-09-14T11:04:53.734382Z",
     "start_time": "2022-09-14T11:04:53.538012Z"
    }
   },
   "outputs": [],
   "source": [
    "inner_div = wikiSoup.div.div"
   ]
  },
  {
   "cell_type": "code",
   "execution_count": 25,
   "id": "ca1cc170",
   "metadata": {
    "ExecuteTime": {
     "end_time": "2022-09-14T11:04:54.015893Z",
     "start_time": "2022-09-14T11:04:53.737381Z"
    }
   },
   "outputs": [
    {
     "name": "stdout",
     "output_type": "stream",
     "text": [
      "['\\n', <input class=\"mw-checkbox-hack-checkbox\" id=\"mw-sidebar-checkbox\" type=\"checkbox\"/>, '\\n', <header class=\"mw-header\">\n",
      "<div class=\"mw-header-aside\">\n",
      "<label aria-controls=\"mw-panel\" class=\"mw-checkbox-hack-button mw-ui-icon mw-ui-button mw-ui-quiet mw-ui-icon-element\" data-event-name=\"ui.sidebar\" for=\"mw-sidebar-checkbox\" id=\"mw-sidebar-button\" role=\"button\" tabindex=\"0\" title=\"Menú principal\">\n",
      "<span>Mostra o oculta la barra lateral</span>\n",
      "</label>\n",
      "<a class=\"mw-logo\" href=\"/wiki/Portada\">\n",
      "<img alt=\"\" aria-hidden=\"true\" class=\"mw-logo-icon\" height=\"50\" src=\"/static/images/mobile/copyright/wikipedia.png\" width=\"50\"/>\n",
      "<span class=\"mw-logo-container\">\n",
      "<img alt=\"Viquipèdia\" class=\"mw-logo-wordmark\" src=\"/static/images/mobile/copyright/wikipedia-wordmark-ca.svg\" style=\"width: 7.5em; height: 1.4375em;\"/>\n",
      "<img alt=\"l'Enciclopèdia Lliure\" class=\"mw-logo-tagline\" height=\"13\" src=\"/static/images/mobile/copyright/wikipedia-tagline-ca.svg\" style=\"width: 7em; height: 0.8125em;\" width=\"112\"/>\n",
      "</span>\n",
      "</a>\n",
      "</div>\n",
      "<div class=\"mw-header-content\">\n",
      "<div class=\"vector-search-box-vue vector-search-box-collapses vector-search-box-show-thumbnail vector-search-box-auto-expand-width vector-search-box\" id=\"p-search\" role=\"search\">\n",
      "<a accesskey=\"f\" class=\"mw-ui-button mw-ui-quiet mw-ui-icon mw-ui-icon-element mw-ui-icon-wikimedia-search search-toggle\" href=\"/wiki/Especial:Cerca\" title=\"Cerca a la Viquipèdia [f]\">\n",
      "<span>Cerca</span>\n",
      "</a>\n",
      "<div>\n",
      "<form action=\"/w/index.php\" class=\"vector-search-box-form\" id=\"searchform\">\n",
      "<div class=\"vector-search-box-inner\" data-search-loc=\"header-moved\" id=\"simpleSearch\">\n",
      "<input accesskey=\"f\" aria-label=\"Cerca a Viquipèdia\" autocapitalize=\"sentences\" class=\"vector-search-box-input\" id=\"searchInput\" name=\"search\" placeholder=\"Cerca a Viquipèdia\" title=\"Cerca a la Viquipèdia [f]\" type=\"search\"/>\n",
      "<input name=\"title\" type=\"hidden\" value=\"Especial:Cerca\"/>\n",
      "<input class=\"searchButton mw-fallbackSearchButton\" id=\"mw-searchButton\" name=\"fulltext\" title=\"Cerca aquest text a les pàgines\" type=\"submit\" value=\"Cerca\"/>\n",
      "<input class=\"searchButton\" id=\"searchButton\" name=\"go\" title=\"Vés a una pàgina amb aquest nom exacte si existeix\" type=\"submit\" value=\"Vés\"/>\n",
      "</div>\n",
      "</form>\n",
      "</div>\n",
      "</div>\n",
      "<nav aria-label=\"Eines personals\" class=\"vector-user-links\" role=\"navigation\">\n",
      "<div class=\"vector-menu mw-portlet mw-portlet-vector-user-menu-overflow vector-user-menu-overflow\" id=\"p-vector-user-menu-overflow\">\n",
      "<div class=\"vector-menu-content\">\n",
      "<ul class=\"vector-menu-content-list\"><li class=\"user-links-collapsible-item mw-list-item\" id=\"pt-createaccount-2\"><a href=\"/w/index.php?title=Especial:Crea_compte&amp;returnto=Cortals+del+Mig\" title=\"Us animem a crear un compte i iniciar una sessió, encara que no és obligatori\"><span>Crea un compte</span></a></li></ul>\n",
      "</div>\n",
      "</div>\n",
      "<div class=\"vector-menu mw-portlet mw-portlet-personal vector-user-menu vector-user-menu-logged-out vector-menu-dropdown\" id=\"p-personal\" title=\"Més opcions\">\n",
      "<input aria-haspopup=\"true\" class=\"vector-menu-checkbox\" data-event-name=\"ui.dropdown-p-personal\" id=\"p-personal-checkbox\" role=\"button\" type=\"checkbox\"/>\n",
      "<label class=\"vector-menu-heading mw-ui-button mw-ui-quiet mw-ui-icon mw-ui-icon-element mw-ui-icon-ellipsis mw-ui-icon-wikimedia-ellipsis\" for=\"p-personal-checkbox\" id=\"p-personal-label\">\n",
      "<span class=\"vector-menu-heading-label\">Eines personals</span>\n",
      "</label>\n",
      "<div class=\"vector-menu-content\">\n",
      "<div class=\"vector-user-menu-create-account\"><a class=\"vector-menu-content-item user-links-collapsible-item\" href=\"/w/index.php?title=Especial:Crea_compte&amp;returnto=Cortals+del+Mig\" title=\"Us animem a crear un compte i iniciar una sessió, encara que no és obligatori\"><span class=\"mw-ui-icon mw-ui-icon-userAdd mw-ui-icon-wikimedia-userAdd\"></span> <span>Crea un compte</span></a></div>\n",
      "<div class=\"vector-user-menu-login\"><a accesskey=\"o\" class=\"vector-menu-content-item vector-menu-content-item-login\" href=\"/w/index.php?title=Especial:Registre_i_entrada&amp;returnto=Cortals+del+Mig\" title=\"Us animem a registrar-vos, però no és obligatori [o]\"><span class=\"mw-ui-icon mw-ui-icon-logIn mw-ui-icon-wikimedia-logIn\"></span> <span>Inicia la sessió</span></a></div>\n",
      "<div class=\"vector-user-menu-anon-editor\">\n",
      "<p>\n",
      "\t\tPàgines per a editors no registrats <a aria-label=\"Vegeu més informació sobre l'edició\" href=\"/wiki/Ajuda:Introducci%C3%B3\"><span>més informació</span></a>\n",
      "</p>\n",
      "</div>\n",
      "<ul class=\"vector-menu-content-list\"><li class=\"mw-list-item\" id=\"pt-anontalk\"><a accesskey=\"n\" href=\"/wiki/Especial:Discussi%C3%B3_personal\" title=\"Discussió sobre les edicions per aquesta adreça ip. [n]\"><span>Discussió per aquest IP</span></a></li><li class=\"mw-list-item\" id=\"pt-anoncontribs\"><a accesskey=\"y\" href=\"/wiki/Especial:Contribucions_pr%C3%B2pies\" title=\"Una llista de les modificacions fetes des d'aquesta adreça IP [y]\"><span>Contribucions</span></a></li></ul>\n",
      "</div>\n",
      "</div>\n",
      "</nav>\n",
      "</div>\n",
      "</header>, '\\n', <div class=\"vector-sidebar-container vector-sidebar-container-no-toc\">\n",
      "<div id=\"mw-navigation\">\n",
      "<nav aria-label=\"Lloc\" class=\"mw-sidebar\" id=\"mw-panel\" role=\"navigation\">\n",
      "<div class=\"vector-menu mw-portlet mw-portlet-navigation vector-menu-portal portal\" id=\"p-navigation\">\n",
      "<div class=\"vector-menu-heading\" id=\"p-navigation-label\">\n",
      "<span class=\"vector-menu-heading-label\">Navegació</span>\n",
      "</div>\n",
      "<div class=\"vector-menu-content\">\n",
      "<ul class=\"vector-menu-content-list\"><li class=\"mw-list-item\" id=\"n-mainpage-description\"><a accesskey=\"z\" href=\"/wiki/Portada\" title=\"Visiteu la pàgina principal [z]\"><span>Portada</span></a></li><li class=\"mw-list-item\" id=\"n-randompage\"><a accesskey=\"x\" href=\"/wiki/Especial:Article_aleatori\" title=\"Carrega una pàgina a l’atzar [x]\"><span>Article a l'atzar</span></a></li><li class=\"mw-list-item\" id=\"n-Articles-de-qualitat\"><a href=\"/wiki/Viquip%C3%A8dia:Articles_de_qualitat\"><span>Articles de qualitat</span></a></li></ul>\n",
      "</div>\n",
      "</div>\n",
      "<div class=\"vector-menu mw-portlet mw-portlet-Comunitat vector-menu-portal portal\" id=\"p-Comunitat\">\n",
      "<div class=\"vector-menu-heading\" id=\"p-Comunitat-label\">\n",
      "<span class=\"vector-menu-heading-label\">Comunitat</span>\n",
      "</div>\n",
      "<div class=\"vector-menu-content\">\n",
      "<ul class=\"vector-menu-content-list\"><li class=\"mw-list-item\" id=\"n-portal\"><a href=\"/wiki/Viquip%C3%A8dia:Portal\" title=\"Sobre el projecte, què podeu fer, on trobareu les coses\"><span>Portal viquipedista</span></a></li><li class=\"mw-list-item\" id=\"n-Agenda-d'actes\"><a href=\"/wiki/Viquip%C3%A8dia:Trobades\"><span>Agenda d'actes</span></a></li><li class=\"mw-list-item\" id=\"n-recentchanges\"><a accesskey=\"r\" href=\"/wiki/Especial:Canvis_recents\" title=\"Una llista dels canvis recents al wiki [r]\"><span>Canvis recents</span></a></li><li class=\"mw-list-item\" id=\"n-La-taverna\"><a href=\"/wiki/Viquip%C3%A8dia:La_taverna\"><span>La taverna</span></a></li><li class=\"mw-list-item\" id=\"n-contactpage\"><a href=\"/wiki/Viquip%C3%A8dia:Contacte\"><span>Contacte</span></a></li><li class=\"mw-list-item\" id=\"n-Xat\"><a href=\"/wiki/Viquip%C3%A8dia:Canals_IRC\"><span>Xat</span></a></li><li class=\"mw-list-item\" id=\"n-sitesupport\"><a href=\"//donate.wikimedia.org/wiki/Special:FundraiserRedirector?utm_source=donate&amp;utm_medium=sidebar&amp;utm_campaign=C13_ca.wikipedia.org&amp;uselang=ca\" title=\"Ajudeu-nos\"><span>Donatius</span></a></li><li class=\"mw-list-item\" id=\"n-help\"><a href=\"/wiki/Viquip%C3%A8dia:Ajuda\" title=\"El lloc per a saber més coses\"><span>Ajuda</span></a></li></ul>\n",
      "</div>\n",
      "</div>\n",
      "<div class=\"vector-menu mw-portlet mw-portlet-tb vector-menu-portal portal\" id=\"p-tb\">\n",
      "<div class=\"vector-menu-heading\" id=\"p-tb-label\">\n",
      "<span class=\"vector-menu-heading-label\">Eines</span>\n",
      "</div>\n",
      "<div class=\"vector-menu-content\">\n",
      "<ul class=\"vector-menu-content-list\"><li class=\"mw-list-item\" id=\"t-whatlinkshere\"><a accesskey=\"j\" href=\"/wiki/Especial:Enlla%C3%A7os/Cortals_del_Mig\" title=\"Una llista de totes les pàgines wiki que enllacen amb aquesta [j]\"><span>Què hi enllaça</span></a></li><li class=\"mw-list-item\" id=\"t-recentchangeslinked\"><a accesskey=\"k\" href=\"/wiki/Especial:Seguiment/Cortals_del_Mig\" rel=\"nofollow\" title=\"Canvis recents a pàgines enllaçades des d'aquesta pàgina [k]\"><span>Canvis relacionats</span></a></li><li class=\"mw-list-item\" id=\"t-specialpages\"><a accesskey=\"q\" href=\"/wiki/Especial:P%C3%A0gines_especials\" title=\"Llista totes les pàgines especials [q]\"><span>Pàgines especials</span></a></li><li class=\"mw-list-item\" id=\"t-permalink\"><a href=\"/w/index.php?title=Cortals_del_Mig&amp;oldid=30593126\" title=\"Enllaç permanent a aquesta versió de la pàgina\"><span>Enllaç permanent</span></a></li><li class=\"mw-list-item\" id=\"t-info\"><a href=\"/w/index.php?title=Cortals_del_Mig&amp;action=info\" title=\"Més informació sobre aquesta pàgina\"><span>Informació de la pàgina</span></a></li><li class=\"mw-list-item\" id=\"t-cite\"><a href=\"/w/index.php?title=Especial:Citau&amp;page=Cortals_del_Mig&amp;id=30593126&amp;wpFormIdentifier=titleform\" title=\"Informació sobre com citar aquesta pàgina\"><span>Citau aquest article</span></a></li><li class=\"mw-list-item\" id=\"t-wikibase\"><a accesskey=\"g\" href=\"https://www.wikidata.org/wiki/Special:EntityPage/Q47184722\" title=\"Enllaç a l'element del repositori de dades connectat [g]\"><span>Element a Wikidata</span></a></li></ul>\n",
      "</div>\n",
      "</div>\n",
      "<div class=\"vector-menu mw-portlet mw-portlet-coll-print_export vector-menu-portal portal\" id=\"p-coll-print_export\">\n",
      "<div class=\"vector-menu-heading\" id=\"p-coll-print_export-label\">\n",
      "<span class=\"vector-menu-heading-label\">Imprimeix/exporta</span>\n",
      "</div>\n",
      "<div class=\"vector-menu-content\">\n",
      "<ul class=\"vector-menu-content-list\"><li class=\"mw-list-item\" id=\"coll-create_a_book\"><a href=\"/w/index.php?title=Especial:Llibre&amp;bookcmd=book_creator&amp;referer=Cortals+del+Mig\"><span>Crear un llibre</span></a></li><li class=\"mw-list-item\" id=\"coll-download-as-rl\"><a href=\"/w/index.php?title=Especial:DownloadAsPdf&amp;page=Cortals_del_Mig&amp;action=show-download-screen\"><span>Baixa com a PDF</span></a></li><li class=\"mw-list-item\" id=\"t-print\"><a accesskey=\"p\" "
     ]
    },
    {
     "data": {
      "text/html": [
       "<b>limit_output extension: Maximum message size of 10000 exceeded with 39507 characters</b>"
      ]
     },
     "metadata": {},
     "output_type": "display_data"
    }
   ],
   "source": [
    "# contents\n",
    "fills = inner_div.contents\n",
    "print(fills)"
   ]
  },
  {
   "cell_type": "code",
   "execution_count": 26,
   "id": "73c36313",
   "metadata": {
    "ExecuteTime": {
     "end_time": "2022-09-14T11:04:54.279875Z",
     "start_time": "2022-09-14T11:04:54.019890Z"
    }
   },
   "outputs": [
    {
     "name": "stdout",
     "output_type": "stream",
     "text": [
      "input\n",
      "header\n",
      "div\n",
      "div\n",
      "input\n",
      "div\n",
      "div\n",
      "div\n"
     ]
    }
   ],
   "source": [
    "for child in fills:\n",
    "    if child.name:  # Ignoramos los saltos de línea\n",
    "        print(f'{child.name}')"
   ]
  },
  {
   "cell_type": "code",
   "execution_count": 27,
   "id": "f3b03c7a",
   "metadata": {
    "ExecuteTime": {
     "end_time": "2022-09-14T11:04:54.467754Z",
     "start_time": "2022-09-14T11:04:54.287869Z"
    }
   },
   "outputs": [
    {
     "data": {
      "text/plain": [
       "list"
      ]
     },
     "execution_count": 27,
     "metadata": {},
     "output_type": "execute_result"
    }
   ],
   "source": [
    "# children\n",
    "filter = inner_div.children\n",
    "type(fills)"
   ]
  },
  {
   "cell_type": "code",
   "execution_count": 28,
   "id": "3971a64b",
   "metadata": {
    "ExecuteTime": {
     "end_time": "2022-09-14T11:04:54.638784Z",
     "start_time": "2022-09-14T11:04:54.471749Z"
    }
   },
   "outputs": [
    {
     "name": "stdout",
     "output_type": "stream",
     "text": [
      "input\n",
      "header\n",
      "div\n",
      "div\n",
      "input\n",
      "div\n",
      "div\n",
      "div\n"
     ]
    }
   ],
   "source": [
    "for child in fills:\n",
    "    if child.name:  # Ignoramos los saltos de línea\n",
    "        print(f'{child.name}')"
   ]
  },
  {
   "cell_type": "code",
   "execution_count": 29,
   "id": "e1f46bab",
   "metadata": {
    "ExecuteTime": {
     "end_time": "2022-09-14T11:04:54.870552Z",
     "start_time": "2022-09-14T11:04:54.645773Z"
    }
   },
   "outputs": [
    {
     "name": "stdout",
     "output_type": "stream",
     "text": [
      "input\n",
      "header\n",
      "div\n",
      "label\n",
      "span\n",
      "a\n",
      "img\n",
      "span\n",
      "img\n",
      "img\n",
      "div\n",
      "div\n",
      "a\n",
      "span\n",
      "div\n",
      "form\n",
      "div\n",
      "input\n",
      "input\n",
      "input\n",
      "input\n",
      "nav\n",
      "div\n",
      "div\n",
      "ul\n",
      "li\n",
      "a\n",
      "span\n",
      "div\n",
      "input\n",
      "label\n",
      "span\n",
      "div\n",
      "div\n",
      "a\n",
      "span\n",
      "span\n",
      "div\n",
      "a\n",
      "span\n",
      "span\n",
      "div\n",
      "p\n",
      "a\n",
      "span\n",
      "ul\n",
      "li\n",
      "a\n",
      "span\n",
      "li\n",
      "a\n",
      "span\n",
      "div\n",
      "div\n",
      "nav\n",
      "div\n",
      "div\n",
      "span\n",
      "div\n",
      "ul\n",
      "li\n",
      "a\n",
      "span\n",
      "li\n",
      "a\n",
      "span\n",
      "li\n",
      "a\n",
      "span\n",
      "div\n",
      "div\n",
      "span\n",
      "div\n",
      "ul\n",
      "li\n",
      "a\n",
      "span\n",
      "li\n",
      "a\n",
      "span\n",
      "li\n",
      "a\n",
      "span\n",
      "li\n",
      "a\n",
      "span\n",
      "li\n",
      "a\n",
      "span\n",
      "li\n",
      "a\n",
      "span\n",
      "li\n",
      "a\n",
      "span\n",
      "li\n",
      "a\n",
      "span\n",
      "div\n",
      "div\n",
      "span\n",
      "div\n",
      "ul\n",
      "li\n",
      "a\n",
      "span\n",
      "li\n",
      "a\n",
      "span\n",
      "li\n",
      "a\n",
      "span\n",
      "li\n",
      "a\n",
      "span\n",
      "li\n",
      "a\n",
      "span\n",
      "li\n",
      "a\n",
      "span\n",
      "li\n",
      "a\n",
      "span\n",
      "div\n",
      "div\n",
      "span\n",
      "div\n",
      "ul\n",
      "li\n",
      "a\n",
      "span\n",
      "li\n",
      "a\n",
      "span\n",
      "li\n",
      "a\n",
      "span\n",
      "div\n",
      "div\n",
      "span\n",
      "div\n",
      "ul\n",
      "li\n",
      "a\n",
      "span\n",
      "div\n",
      "div\n",
      "div\n",
      "div\n",
      "div\n",
      "a\n",
      "div\n",
      "div\n",
      "input\n",
      "div\n",
      "div\n",
      "div\n",
      "main\n",
      "a\n",
      "header\n",
      "div\n",
      "input\n",
      "label\n",
      "span\n",
      "span\n",
      "div\n",
      "ul\n",
      "div\n",
      "span\n",
      "span\n",
      "a\n",
      "h1\n",
      "span\n",
      "nav\n",
      "div\n",
      "div\n",
      "div\n",
      "div\n",
      "ul\n",
      "li\n",
      "a\n",
      "span\n",
      "li\n",
      "a\n",
      "span\n",
      "div\n",
      "input\n",
      "label\n",
      "span\n",
      "div\n",
      "ul\n",
      "div\n",
      "div\n",
      "div\n",
      "ul\n",
      "li\n",
      "a\n",
      "span\n",
      "li\n",
      "a\n",
      "span\n",
      "li\n",
      "a\n",
      "span\n",
      "div\n",
      "input\n",
      "label\n",
      "span\n",
      "div\n",
      "ul\n",
      "li\n",
      "a\n",
      "span\n",
      "li\n",
      "a\n",
      "span\n",
      "li\n",
      "a\n",
      "span\n",
      "div\n",
      "div\n",
      "div\n",
      "div\n",
      "div\n",
      "div\n",
      "table\n",
      "tbody\n",
      "tr\n",
      "th\n",
      "div\n",
      "img\n",
      "tr\n",
      "td\n",
      "div\n",
      "tr\n",
      "td\n",
      "style\n",
      "div\n",
      "div\n",
      "table\n",
      "tbody\n",
      "tr\n",
      "td\n",
      "a\n",
      "img\n",
      "tr\n",
      "td\n",
      "tr\n",
      "th\n",
      "tr\n",
      "th\n",
      "td\n",
      "a\n",
      "span\n",
      "a\n",
      "img\n",
      "tr\n",
      "th\n",
      "td\n",
      "span\n",
      "span\n",
      "a\n",
      "img\n",
      "tr\n",
      "th\n",
      "tr\n",
      "th\n",
      "td\n",
      "a\n",
      "span\n",
      "a\n",
      "img\n",
      "tr\n",
      "th\n",
      "tr\n",
      "td\n",
      "tr\n",
      "td\n",
      "b\n",
      "td\n",
      "a\n",
      "span\n",
      "a\n",
      "img\n",
      "tr\n",
      "td\n",
      "tr\n",
      "td\n",
      "table\n",
      "tbody\n",
      "tr\n",
      "td\n",
      "a\n",
      "img\n",
      "tr\n",
      "td\n",
      "small\n",
      "span\n",
      "a\n",
      "span\n",
      "span\n",
      "span\n",
      "span\n",
      "span\n",
      "span\n",
      "span\n",
      "span\n",
      "span\n",
      "span\n",
      "span\n",
      "span\n",
      "a\n",
      "span\n",
      "span\n",
      "span\n",
      "span\n",
      "span\n",
      "span\n",
      "span\n",
      "span\n",
      "span\n",
      "tr\n",
      "td\n",
      "tr\n",
      "td\n",
      "tr\n",
      "th\n",
      "tr\n",
      "th\n",
      "td\n",
      "a\n",
      "tr\n",
      "td\n",
      "tr\n",
      "td\n",
      "tr\n",
      "td\n",
      "div\n",
      "p\n",
      "b\n",
      "a\n",
      "a\n",
      "sup\n",
      "a\n",
      "h2\n",
      "span\n",
      "span\n",
      "span\n",
      "span\n",
      "a\n",
      "span\n",
      "p\n",
      "sup\n",
      "a\n",
      "p\n",
      "a\n",
      "a\n",
      "a\n",
      "a\n",
      "a\n",
      "sup\n",
      "a\n",
      "p\n",
      "a\n",
      "sup\n",
      "a\n",
      "p\n",
      "a\n",
      "sup\n",
      "a\n",
      "p\n",
      "a\n",
      "sup\n",
      "a\n",
      "p\n",
      "a\n",
      "sup\n",
      "a\n",
      "h2\n",
      "span\n",
      "span\n",
      "span\n",
      "span\n",
      "a\n",
      "span\n",
      "table\n",
      "tbody\n",
      "tr\n",
      "td\n",
      "img\n",
      "td\n",
      "span\n",
      "a\n",
      "i\n",
      "b\n",
      "a\n",
      "div\n",
      "div\n",
      "ol\n",
      "li\n",
      "span\n",
      "sup\n",
      "a\n",
      "sup\n",
      "a\n",
      "sup\n",
      "a\n",
      "sup\n",
      "a\n",
      "sup\n",
      "a\n",
      "sup\n",
      "a\n",
      "sup\n",
      "a\n",
      "span\n",
      "span\n",
      "a\n",
      "i\n",
      "div\n",
      "table\n",
      "tbody\n",
      "tr\n",
      "th\n",
      "td\n",
      "div\n",
      "ul\n",
      "li\n",
      "a\n",
      "span\n",
      "a\n",
      "noscript\n",
      "img\n",
      "div\n",
      "a\n",
      "div\n",
      "div\n",
      "a\n",
      "ul\n",
      "li\n",
      "a\n",
      "li\n",
      "a\n",
      "div\n",
      "ul\n",
      "li\n",
      "a\n",
      "li\n",
      "a\n",
      "li\n",
      "a\n",
      "li\n",
      "a\n",
      "li\n",
      "a\n",
      "div\n",
      "footer\n",
      "ul\n",
      "li\n",
      "li\n",
      "a\n",
      "a\n",
      "a\n",
      "a\n",
      "br\n",
      "ul\n",
      "li\n",
      "a\n",
      "li\n",
      "a\n",
      "li\n",
      "a\n",
      "li\n",
      "a\n",
      "li\n",
      "a\n",
      "li\n",
      "a\n",
      "li\n",
      "a\n",
      "ul\n",
      "li\n",
      "a\n",
      "img\n",
      "li\n",
      "a\n",
      "img\n"
     ]
    }
   ],
   "source": [
    "# descendants\n",
    "fills = inner_div.descendants\n",
    "for child in fills:\n",
    "    if child.name:\n",
    "        print(f'{child.name}')"
   ]
  },
  {
   "cell_type": "code",
   "execution_count": 30,
   "id": "bb1c9a86",
   "metadata": {
    "ExecuteTime": {
     "end_time": "2022-09-14T11:04:55.120493Z",
     "start_time": "2022-09-14T11:04:54.874555Z"
    }
   },
   "outputs": [
    {
     "name": "stdout",
     "output_type": "stream",
     "text": [
      "[<nav aria-label=\"Eines personals\" class=\"vector-user-links\" role=\"navigation\">\n",
      "<div class=\"vector-menu mw-portlet mw-portlet-vector-user-menu-overflow vector-user-menu-overflow\" id=\"p-vector-user-menu-overflow\">\n",
      "<div class=\"vector-menu-content\">\n",
      "<ul class=\"vector-menu-content-list\"><li class=\"user-links-collapsible-item mw-list-item\" id=\"pt-createaccount-2\"><a href=\"/w/index.php?title=Especial:Crea_compte&amp;returnto=Cortals+del+Mig\" title=\"Us animem a crear un compte i iniciar una sessió, encara que no és obligatori\"><span>Crea un compte</span></a></li></ul>\n",
      "</div>\n",
      "</div>\n",
      "<div class=\"vector-menu mw-portlet mw-portlet-personal vector-user-menu vector-user-menu-logged-out vector-menu-dropdown\" id=\"p-personal\" title=\"Més opcions\">\n",
      "<input aria-haspopup=\"true\" class=\"vector-menu-checkbox\" data-event-name=\"ui.dropdown-p-personal\" id=\"p-personal-checkbox\" role=\"button\" type=\"checkbox\"/>\n",
      "<label class=\"vector-menu-heading mw-ui-button mw-ui-quiet mw-ui-icon mw-ui-icon-element mw-ui-icon-ellipsis mw-ui-icon-wikimedia-ellipsis\" for=\"p-personal-checkbox\" id=\"p-personal-label\">\n",
      "<span class=\"vector-menu-heading-label\">Eines personals</span>\n",
      "</label>\n",
      "<div class=\"vector-menu-content\">\n",
      "<div class=\"vector-user-menu-create-account\"><a class=\"vector-menu-content-item user-links-collapsible-item\" href=\"/w/index.php?title=Especial:Crea_compte&amp;returnto=Cortals+del+Mig\" title=\"Us animem a crear un compte i iniciar una sessió, encara que no és obligatori\"><span class=\"mw-ui-icon mw-ui-icon-userAdd mw-ui-icon-wikimedia-userAdd\"></span> <span>Crea un compte</span></a></div>\n",
      "<div class=\"vector-user-menu-login\"><a accesskey=\"o\" class=\"vector-menu-content-item vector-menu-content-item-login\" href=\"/w/index.php?title=Especial:Registre_i_entrada&amp;returnto=Cortals+del+Mig\" title=\"Us animem a registrar-vos, però no és obligatori [o]\"><span class=\"mw-ui-icon mw-ui-icon-logIn mw-ui-icon-wikimedia-logIn\"></span> <span>Inicia la sessió</span></a></div>\n",
      "<div class=\"vector-user-menu-anon-editor\">\n",
      "<p>\n",
      "\t\tPàgines per a editors no registrats <a aria-label=\"Vegeu més informació sobre l'edició\" href=\"/wiki/Ajuda:Introducci%C3%B3\"><span>més informació</span></a>\n",
      "</p>\n",
      "</div>\n",
      "<ul class=\"vector-menu-content-list\"><li class=\"mw-list-item\" id=\"pt-anontalk\"><a accesskey=\"n\" href=\"/wiki/Especial:Discussi%C3%B3_personal\" title=\"Discussió sobre les edicions per aquesta adreça ip. [n]\"><span>Discussió per aquest IP</span></a></li><li class=\"mw-list-item\" id=\"pt-anoncontribs\"><a accesskey=\"y\" href=\"/wiki/Especial:Contribucions_pr%C3%B2pies\" title=\"Una llista de les modificacions fetes des d'aquesta adreça IP [y]\"><span>Contribucions</span></a></li></ul>\n",
      "</div>\n",
      "</div>\n",
      "</nav>, <nav aria-label=\"Lloc\" class=\"mw-sidebar\" id=\"mw-panel\" role=\"navigation\">\n",
      "<div class=\"vector-menu mw-portlet mw-portlet-navigation vector-menu-portal portal\" id=\"p-navigation\">\n",
      "<div class=\"vector-menu-heading\" id=\"p-navigation-label\">\n",
      "<span class=\"vector-menu-heading-label\">Navegació</span>\n",
      "</div>\n",
      "<div class=\"vector-menu-content\">\n",
      "<ul class=\"vector-menu-content-list\"><li class=\"mw-list-item\" id=\"n-mainpage-description\"><a accesskey=\"z\" href=\"/wiki/Portada\" title=\"Visiteu la pàgina principal [z]\"><span>Portada</span></a></li><li class=\"mw-list-item\" id=\"n-randompage\"><a accesskey=\"x\" href=\"/wiki/Especial:Article_aleatori\" title=\"Carrega una pàgina a l’atzar [x]\"><span>Article a l'atzar</span></a></li><li class=\"mw-list-item\" id=\"n-Articles-de-qualitat\"><a href=\"/wiki/Viquip%C3%A8dia:Articles_de_qualitat\"><span>Articles de qualitat</span></a></li></ul>\n",
      "</div>\n",
      "</div>\n",
      "<div class=\"vector-menu mw-portlet mw-portlet-Comunitat vector-menu-portal portal\" id=\"p-Comunitat\">\n",
      "<div class=\"vector-menu-heading\" id=\"p-Comunitat-label\">\n",
      "<span class=\"vector-menu-heading-label\">Comunitat</span>\n",
      "</div>\n",
      "<div class=\"vector-menu-content\">\n",
      "<ul class=\"vector-menu-content-list\"><li class=\"mw-list-item\" id=\"n-portal\"><a href=\"/wiki/Viquip%C3%A8dia:Portal\" title=\"Sobre el projecte, què podeu fer, on trobareu les coses\"><span>Portal viquipedista</span></a></li><li class=\"mw-list-item\" id=\"n-Agenda-d'actes\"><a href=\"/wiki/Viquip%C3%A8dia:Trobades\"><span>Agenda d'actes</span></a></li><li class=\"mw-list-item\" id=\"n-recentchanges\"><a accesskey=\"r\" href=\"/wiki/Especial:Canvis_recents\" title=\"Una llista dels canvis recents al wiki [r]\"><span>Canvis recents</span></a></li><li class=\"mw-list-item\" id=\"n-La-taverna\"><a href=\"/wiki/Viquip%C3%A8dia:La_taverna\"><span>La taverna</span></a></li><li class=\"mw-list-item\" id=\"n-contactpage\"><a href=\"/wiki/Viquip%C3%A8dia:Contacte\"><span>Contacte</span></a></li><li class=\"mw-list-item\" id=\"n-Xat\"><a href=\"/wiki/Viquip%C3%A8dia:Canals_IRC\"><span>Xat</span></a></li><li class=\"mw-list-item\" id=\"n-sitesupport\"><a href=\"//donate.wikimedia.org/wiki/Special:FundraiserRedirector?utm_source=donate&amp;utm_medium=sidebar&amp;utm_campaign=C13_ca.wikipedia.org&amp;uselang=ca\" title=\"Ajudeu-nos\"><span>Donatius</span></a></li><li class=\"mw-list-item\" id=\"n-help\"><a href=\"/wiki/Viquip%C3%A8dia:Ajuda\" title=\"El lloc per a saber més coses\"><span>Ajuda</span></a></li></ul>\n",
      "</div>\n",
      "</div>\n",
      "<div class=\"vector-menu mw-portlet mw-portlet-tb vector-menu-portal portal\" id=\"p-tb\">\n",
      "<div class=\"vector-menu-heading\" id=\"p-tb-label\">\n",
      "<span class=\"vector-menu-heading-label\">Eines</span>\n",
      "</div>\n",
      "<div class=\"vector-menu-content\">\n",
      "<ul class=\"vector-menu-content-list\"><li class=\"mw-list-item\" id=\"t-whatlinkshere\"><a accesskey=\"j\" href=\"/wiki/Especial:Enlla%C3%A7os/Cortals_del_Mig\" title=\"Una llista de totes les pàgines wiki que enllacen amb aquesta [j]\"><span>Què hi enllaça</span></a></li><li class=\"mw-list-item\" id=\"t-recentchangeslinked\"><a accesskey=\"k\" href=\"/wiki/Especial:Seguiment/Cortals_del_Mig\" rel=\"nofollow\" title=\"Canvis recents a pàgines enllaçades des d'aquesta pàgina [k]\"><span>Canvis relacionats</span></a></li><li class=\"mw-list-item\" id=\"t-specialpages\"><a accesskey=\"q\" href=\"/wiki/Especial:P%C3%A0gines_especials\" title=\"Llista totes les pàgines especials [q]\"><span>Pàgines especials</span></a></li><li class=\"mw-list-item\" id=\"t-permalink\"><a href=\"/w/index.php?title=Cortals_del_Mig&amp;oldid=30593126\" title=\"Enllaç permanent a aquesta versió de la pàgina\"><span>Enllaç permanent</span></a></li><li class=\"mw-list-item\" id=\"t-info\"><a href=\"/w/index.php?title=Cortals_del_Mig&amp;action=info\" title=\"Més informació sobre aquesta pàgina\"><span>Informació de la pàgina</span></a></li><li class=\"mw-list-item\" id=\"t-cite\"><a href=\"/w/index.php?title=Especial:Citau&amp;page=Cortals_del_Mig&amp;id=30593126&amp;wpFormIdentifier=titleform\" title=\"Informació sobre com citar aquesta pàgina\"><span>Citau aquest article</span></a></li><li class=\"mw-list-item\" id=\"t-wikibase\"><a accesskey=\"g\" href=\"https://www.wikidata.org/wiki/Special:EntityPage/Q47184722\" title=\"Enllaç a l'element del repositori de dades connectat [g]\"><span>Element a Wikidata</span></a></li></ul>\n",
      "</div>\n",
      "</div>\n",
      "<div class=\"vector-menu mw-portlet mw-portlet-coll-print_export vector-menu-portal portal\" id=\"p-coll-print_export\">\n",
      "<div class=\"vector-menu-heading\" id=\"p-coll-print_export-label\">\n",
      "<span class=\"vector-menu-heading-label\">Imprimeix/exporta</span>\n",
      "</div>\n",
      "<div class=\"vector-menu-content\">\n",
      "<ul class=\"vector-menu-content-list\"><li class=\"mw-list-item\" id=\"coll-create_a_book\"><a href=\"/w/index.php?title=Especial:Llibre&amp;bookcmd=book_creator&amp;referer=Cortals+del+Mig\"><span>Crear un llibre</span></a></li><li class=\"mw-list-item\" id=\"coll-download-as-rl\"><a href=\"/w/index.php?title=Especial:DownloadAsPdf&amp;page=Cortals_del_Mig&amp;action=show-download-screen\"><span>Baixa com a PDF</span></a></li><li class=\"mw-list-item\" id=\"t-print\"><a accesskey=\"p\" href=\"/w/index.php?title=Cortals_del_Mig&amp;printable=yes\" title=\"Versió per a impressió d'aquesta pàgina [p]\"><span>Versió per a impressora</span></a></li></ul>\n",
      "</div>\n",
      "</div>\n",
      "<div class=\"vector-menu mw-portlet mw-portlet-wikibase-otherprojects vector-menu-portal portal\" id=\"p-wikibase-otherprojects\">\n",
      "<div class=\"vector-menu-heading\" id=\"p-wikibase-otherprojects-label\">\n",
      "<span class=\"vector-menu-heading-label\">En altres projectes</span>\n",
      "</div>\n",
      "<div class=\"vector-menu-content\">\n",
      "<ul class=\"vector-menu-content-list\"><li class=\"wb-otherproject-link wb-otherproject-commons mw-list-item\"><a href=\"https://commons.wikimedia.org/wiki/Category:Cortals_del_Mig\" hreflang=\"en\"><span>Commons</span></a></li></ul>\n",
      "</div>\n",
      "</div>\n",
      "<div class=\"mw-sidebar-action\">\n",
      "<div class=\"mw-sidebar-action-item vector-menu-portal\">\n",
      "<div class=\"mw-sidebar-action-heading vector-menu-heading\">Llengües</div>\n",
      "<div class=\"mw-sidebar-action-content vector-menu-content\">\n",
      "<div class=\"mw-message-box-notice vector-language-sidebar-alert mw-message-box\">En aquest projecte Viquipèdia, els enllaços de llengua són a dalt de la pàgina a l'altre costat del títol. <a href=\"#p-lang-btn\">Vés a dalt</a>.</div>\n",
      "</div>\n",
      "</div>\n",
      "</div>\n",
      "</nav>, <nav aria-label=\"Eines\" class=\"vector-article-toolbar\" role=\"navigation\">\n",
      "<div class=\"mw-article-toolbar-container\">\n",
      "<div id=\"left-navigation\">\n",
      "<div class=\"vector-menu mw-portlet mw-portlet-associated-pages vector-menu-tabs\" id=\"p-associated-pages\">\n",
      "<div class=\"vector-menu-content\">\n",
      "<ul class=\"vector-menu-content-list\"><li class=\"selected mw-list-item\" id=\"ca-nstab-main\"><a accesskey=\"c\" href=\"/wiki/Cortals_del_Mig\" title=\"Vegeu el contingut de la pàgina [c]\"><span>Pàgina</span></a></li><li class=\"new mw-list-item\" id=\"ca-talk\"><a accesskey=\"t\" href=\"/w/index.php?title=Discussi%C3%B3:Cortals_del_Mig&amp;action=edit&amp;redlink=1\" rel=\"discussion\" title=\"Discussió sobre el contingut d'aquesta pàgina (encara no existeix) [t]\"><span>Discussió</span></a></li></ul>\n",
      "</div>\n",
      "</div>\n",
      "<div class=\"vector-menu mw-portlet mw-portlet-variants emptyPortlet vector-menu-dropdown\" id=\"p-variants\">\n",
      "<input aria-haspopup=\"true\" aria-label=\"Canvia la variant de llengua\" class=\"vector-menu-checkbox\" data-event-name=\"ui.dropdown-p-variants\" id=\"p-variants-checkbox\" role=\"button\" type=\"checkbox\"/>\n",
      "<label class=\"vector-menu-heading\" for=\"p-varian"
     ]
    },
    {
     "data": {
      "text/html": [
       "<b>limit_output extension: Maximum message size of 10000 exceeded with 35910 characters</b>"
      ]
     },
     "metadata": {},
     "output_type": "display_data"
    }
   ],
   "source": [
    "# Una altra forma de buscar és utilitzant el find i el find_all\n",
    "nav = wikiSoup.find_all('nav')\n",
    "for navs in nav:\n",
    "    print(nav)"
   ]
  },
  {
   "cell_type": "code",
   "execution_count": 31,
   "id": "6a4379d6",
   "metadata": {
    "ExecuteTime": {
     "end_time": "2022-09-14T11:04:55.322195Z",
     "start_time": "2022-09-14T11:04:55.124490Z"
    }
   },
   "outputs": [
    {
     "name": "stdout",
     "output_type": "stream",
     "text": [
      "[<main class=\"mw-body\" id=\"content\" role=\"main\">\n",
      "<a id=\"top\"></a>\n",
      "<header class=\"mw-body-header\">\n",
      "<div class=\"vector-menu mw-portlet mw-portlet-lang vector-menu-dropdown\" id=\"p-lang-btn\">\n",
      "<input aria-haspopup=\"true\" aria-label=\"This article exist only in this language. Add the article for other languages\" class=\"vector-menu-checkbox mw-interlanguage-selector\" data-event-name=\"ui.dropdown-p-lang-btn\" id=\"p-lang-btn-checkbox\" role=\"button\" type=\"checkbox\"/>\n",
      "<label class=\"vector-menu-heading mw-ui-progressive mw-portlet-lang-heading-0 mw-ui-button mw-ui-quiet\" for=\"p-lang-btn-checkbox\" id=\"p-lang-btn-label\">\n",
      "<span class=\"mw-ui-icon mw-ui-icon-language-progressive mw-ui-icon-wikimedia-language-progressive\"></span><span class=\"vector-menu-heading-label\">Afegeix llengües</span>\n",
      "</label>\n",
      "<div class=\"vector-menu-content\">\n",
      "<ul class=\"vector-menu-content-list\"></ul>\n",
      "<div class=\"after-portlet after-portlet-lang\"><span class=\"uls-after-portlet-link\"></span><span class=\"wb-langlinks-add wb-langlinks-link\"><a class=\"wbc-editpage\" href=\"https://www.wikidata.org/wiki/Special:EntityPage/Q47184722#sitelinks-wikipedia\" title=\"Afegeix enllaços interlingües\">Afegeix enllaços</a></span></div>\n",
      "</div>\n",
      "</div>\n",
      "<h1 class=\"firstHeading mw-first-heading\" id=\"firstHeading\"><span class=\"mw-page-title-main\">Cortals del Mig</span></h1>\n",
      "</header>\n",
      "<nav aria-label=\"Eines\" class=\"vector-article-toolbar\" role=\"navigation\">\n",
      "<div class=\"mw-article-toolbar-container\">\n",
      "<div id=\"left-navigation\">\n",
      "<div class=\"vector-menu mw-portlet mw-portlet-associated-pages vector-menu-tabs\" id=\"p-associated-pages\">\n",
      "<div class=\"vector-menu-content\">\n",
      "<ul class=\"vector-menu-content-list\"><li class=\"selected mw-list-item\" id=\"ca-nstab-main\"><a accesskey=\"c\" href=\"/wiki/Cortals_del_Mig\" title=\"Vegeu el contingut de la pàgina [c]\"><span>Pàgina</span></a></li><li class=\"new mw-list-item\" id=\"ca-talk\"><a accesskey=\"t\" href=\"/w/index.php?title=Discussi%C3%B3:Cortals_del_Mig&amp;action=edit&amp;redlink=1\" rel=\"discussion\" title=\"Discussió sobre el contingut d'aquesta pàgina (encara no existeix) [t]\"><span>Discussió</span></a></li></ul>\n",
      "</div>\n",
      "</div>\n",
      "<div class=\"vector-menu mw-portlet mw-portlet-variants emptyPortlet vector-menu-dropdown\" id=\"p-variants\">\n",
      "<input aria-haspopup=\"true\" aria-label=\"Canvia la variant de llengua\" class=\"vector-menu-checkbox\" data-event-name=\"ui.dropdown-p-variants\" id=\"p-variants-checkbox\" role=\"button\" type=\"checkbox\"/>\n",
      "<label class=\"vector-menu-heading\" for=\"p-variants-checkbox\" id=\"p-variants-label\">\n",
      "<span class=\"vector-menu-heading-label\">català</span>\n",
      "</label>\n",
      "<div class=\"vector-menu-content\">\n",
      "<ul class=\"vector-menu-content-list\"></ul>\n",
      "</div>\n",
      "</div>\n",
      "</div>\n",
      "<div class=\"vector-collapsible\" id=\"right-navigation\">\n",
      "<div class=\"vector-menu mw-portlet mw-portlet-views vector-menu-tabs\" id=\"p-views\">\n",
      "<div class=\"vector-menu-content\">\n",
      "<ul class=\"vector-menu-content-list\"><li class=\"selected mw-list-item\" id=\"ca-view\"><a href=\"/wiki/Cortals_del_Mig\"><span>Mostra</span></a></li><li class=\"mw-list-item\" id=\"ca-edit\"><a accesskey=\"e\" href=\"/w/index.php?title=Cortals_del_Mig&amp;action=edit\" title=\"Modifica aquesta pàgina [e]\"><span>Modifica</span></a></li><li class=\"mw-list-item\" id=\"ca-history\"><a accesskey=\"h\" href=\"/w/index.php?title=Cortals_del_Mig&amp;action=history\" title=\"Versions antigues d'aquesta pàgina [h]\"><span>Mostra l'historial</span></a></li></ul>\n",
      "</div>\n",
      "</div>\n",
      "<div class=\"vector-menu mw-portlet mw-portlet-cactions emptyPortlet vector-menu-dropdown vector-has-collapsible-items\" id=\"p-cactions\" title=\"Més opcions\">\n",
      "<input aria-haspopup=\"true\" class=\"vector-menu-checkbox\" data-event-name=\"ui.dropdown-p-cactions\" id=\"p-cactions-checkbox\" role=\"button\" type=\"checkbox\"/>\n",
      "<label class=\"vector-menu-heading\" for=\"p-cactions-checkbox\" id=\"p-cactions-label\">\n",
      "<span class=\"vector-menu-heading-label\">Més</span>\n",
      "</label>\n",
      "<div class=\"vector-menu-content\">\n",
      "<ul class=\"vector-menu-content-list\"><li class=\"selected vector-more-collapsible-item mw-list-item\" id=\"ca-more-view\"><a href=\"/wiki/Cortals_del_Mig\"><span>Mostra</span></a></li><li class=\"vector-more-collapsible-item mw-list-item\" id=\"ca-more-edit\"><a href=\"/w/index.php?title=Cortals_del_Mig&amp;action=edit\"><span>Modifica</span></a></li><li class=\"vector-more-collapsible-item mw-list-item\" id=\"ca-more-history\"><a href=\"/w/index.php?title=Cortals_del_Mig&amp;action=history\"><span>Mostra l'historial</span></a></li></ul>\n",
      "</div>\n",
      "</div>\n",
      "</div>\n",
      "</div>\n",
      "</nav>\n",
      "<div class=\"vector-body\" data-mw-ve-target-container=\"\" id=\"bodyContent\">\n",
      "<div class=\"mw-body-subheader\">\n",
      "<div class=\"mw-indicators\">\n",
      "</div>\n",
      "<div class=\"noprint\" id=\"siteSub\">De Viquipèdia</div>\n",
      "</div>\n",
      "<div class=\"mw-body-content mw-content-ltr\" dir=\"ltr\" id=\"mw-content-text\" lang=\"ca\"><div class=\"mw-parser-output\"><table class=\"infobox\" style=\"font-size:90%;width:25em;width:;\"><tbody><tr><th colspan=\"2\" style=\"text-align:center;font-size:125%;font-weight:bold;background-color:#c3e2ef;\"><div class=\"floatleft\"><img alt=\"Infotaula d'edifici\" data-file-height=\"512\" data-file-width=\"512\" decoding=\"async\" height=\"22\" src=\"//upload.wikimedia.org/wikipedia/commons/thumb/9/9f/Organization_icon.svg/22px-Organization_icon.svg.png\" srcset=\"//upload.wikimedia.org/wikipedia/commons/thumb/9/9f/Organization_icon.svg/33px-Organization_icon.svg.png 1.5x, //upload.wikimedia.org/wikipedia/commons/thumb/9/9f/Organization_icon.svg/44px-Organization_icon.svg.png 2x\" title=\"Infotaula d'edifici\" width=\"22\"/></div>Cortals del Mig</th></tr><tr><td class=\"infobox-full-data infobox-data\" colspan=\"2\" style=\"text-align:center;background-color:#c3e2ef;\"><div class=\"hlist\" style=\"margin-left: 0em;\"></div></td></tr><tr><td class=\"infobox-full-data infobox-data\" colspan=\"2\" style=\"text-align:center\"><style data-mw-deduplicate=\"TemplateStyles:r25537855\">.mw-parser-output .img_toogle ul{list-style:none;margin:0;padding:0;font-size:70%}.mw-parser-output .img_toogle li{display:inline}.mw-parser-output .img_toogle li:after{content:\" · \";font-weight:bold}.mw-parser-output .img_toogle li:last-child:after{content:none}.mw-parser-output .img_toogle_caption{font-size:100%;font-style:normal;text-align:center;padding-top:2px;padding-bottom:2px}</style><div class=\"img_toogle\">\n",
      "<div class=\"geobox\"><table style=\"width:auto; margin:auto; border:none; border-spacing:0; padding:0;\"><tbody><tr><td style=\"border:none; padding:0; text-align:center;\"><a class=\"image\" href=\"/wiki/Fitxer:Els_Cortals_del_Mig.jpg\" title=\"Imatge\"><img alt=\"Imatge\" class=\"noviewer\" data-file-height=\"3096\" data-file-width=\"4128\" decoding=\"async\" height=\"225\" src=\"//upload.wikimedia.org/wikipedia/commons/thumb/2/28/Els_Cortals_del_Mig.jpg/300px-Els_Cortals_del_Mig.jpg\" srcset=\"//upload.wikimedia.org/wikipedia/commons/thumb/2/28/Els_Cortals_del_Mig.jpg/450px-Els_Cortals_del_Mig.jpg 1.5x, //upload.wikimedia.org/wikipedia/commons/thumb/2/28/Els_Cortals_del_Mig.jpg/600px-Els_Cortals_del_Mig.jpg 2x\" width=\"300\"/></a></td></tr><tr><td class=\"img_toogle_caption\">Els Cortals del Mig</td></tr></tbody></table></div>\n",
      "</div></td></tr><tr><th class=\"infobox-header\" colspan=\"2\" style=\"text-align:center;background-color:#c3e2ef;\">Dades</th></tr><tr><th class=\"infobox-label\" scope=\"row\" style=\"text-align:left;padding-right:1.2em; background:#eeeeee; text-align:start\">Tipus</th><td class=\"infobox-data\" style=\"text-align:start\"><a href=\"/wiki/Masia\" title=\"Masia\">Masia</a> <span class=\"penicon\" data-bridge-edit-flow=\"single-best-value\"><a href=\"https://www.wikidata.org/wiki/Q47184722?uselang=ca#P31\" title=\"Modifica el valor a Wikidata\"><img alt=\"Modifica el valor a Wikidata\" data-file-height=\"600\" data-file-width=\"600\" decoding=\"async\" height=\"10\" src=\"//upload.wikimedia.org/wikipedia/commons/thumb/6/63/Arbcom_ru_editing.svg/10px-Arbcom_ru_editing.svg.png\" srcset=\"//upload.wikimedia.org/wikipedia/commons/thumb/6/63/Arbcom_ru_editing.svg/15px-Arbcom_ru_editing.svg.png 1.5x, //upload.wikimedia.org/wikipedia/commons/thumb/6/63/Arbcom_ru_editing.svg/20px-Arbcom_ru_editing.svg.png 2x\" style=\"vertical-align: baseline\" width=\"10\"/></a></span></td></tr><tr><th class=\"infobox-label\" scope=\"row\" style=\"text-align:left;padding-right:1.2em; background:#eeeeee; text-align:start\">Construcció</th><td class=\"infobox-data\" style=\"text-align:start\">segle <span style=\"font-variant:small-caps; text-transform:lowercase;\">XVIII <span class=\"penicon\" data-bridge-edit-flow=\"single-best-value\"><a href=\"https://www.wikidata.org/wiki/Q47184722?uselang=ca#P571\" title=\"Modifica el valor a Wikidata\"><img alt=\"Modifica el valor a Wikidata\" data-file-height=\"600\" data-file-width=\"600\" decoding=\"async\" height=\"10\" src=\"//upload.wikimedia.org/wikipedia/commons/thumb/6/63/Arbcom_ru_editing.svg/10px-Arbcom_ru_editing.svg.png\" srcset=\"//upload.wikimedia.org/wikipedia/commons/thumb/6/63/Arbcom_ru_editing.svg/15px-Arbcom_ru_editing.svg.png 1.5x, //upload.wikimedia.org/wikipedia/commons/thumb/6/63/Arbcom_ru_editing.svg/20px-Arbcom_ru_editing.svg.png 2x\" style=\"vertical-align: baseline\" width=\"10\"/></a></span></span></td></tr><tr><th class=\"infobox-header\" colspan=\"2\" style=\"text-align:center;background-color:#c3e2ef;\">Característiques</th></tr><tr><th class=\"infobox-label\" scope=\"row\" style=\"text-align:left;padding-right:1.2em; background:#eeeeee; text-align:start\">Estil arquitectònic</th><td class=\"infobox-data\" style=\"text-align:start\"><a href=\"/wiki/Arquitectura_popular\" title=\"Arquitectura popular\">arquitectura popular</a> <span class=\"penicon\" data-bridge-edit-flow=\"single-best-value\"><a href=\"https://www.wikidata.org/wiki/Q47184722?uselang=ca#P149\" title=\"Modifica el valor a Wikidata\"><img alt=\"Modifica el valor a Wikidata\" data-file-height=\"600\" data-file-width=\"600\" decoding=\"async\" height=\"10\" src=\"//upload.wikimedia.org/wikipedia/commons/thumb/6/63/Arbcom_ru_editing.svg/10px-Arbcom_ru_editing.svg.png\" srcset=\"//upload.wikimedia.org/wikipedia/commons/thumb/6/63/Arbcom_ru_editing.svg/15px-Arbcom_ru_editing.svg.png 1.5x, //upload.wikimedia.org/wikipedia/commons/thumb/6/63/Arbcom_ru_ed"
     ]
    },
    {
     "data": {
      "text/html": [
       "<b>limit_output extension: Maximum message size of 10000 exceeded with 25354 characters</b>"
      ]
     },
     "metadata": {},
     "output_type": "display_data"
    }
   ],
   "source": [
    "# Ara anem a filtrar per atributs\n",
    "atribut1 = wikiSoup.find_all(id='content')\n",
    "print(atribut1)"
   ]
  },
  {
   "cell_type": "code",
   "execution_count": 32,
   "id": "09aad6aa",
   "metadata": {
    "ExecuteTime": {
     "end_time": "2022-09-14T11:04:55.607355Z",
     "start_time": "2022-09-14T11:04:55.326195Z"
    }
   },
   "outputs": [
    {
     "name": "stdout",
     "output_type": "stream",
     "text": [
      "[<a id=\"top\"></a>]\n"
     ]
    }
   ],
   "source": [
    "atribut2 = wikiSoup.find_all(id='top')\n",
    "print(atribut2)"
   ]
  },
  {
   "cell_type": "code",
   "execution_count": 33,
   "id": "84d112e9",
   "metadata": {
    "ExecuteTime": {
     "end_time": "2022-09-14T11:04:55.841499Z",
     "start_time": "2022-09-14T11:04:55.614350Z"
    }
   },
   "outputs": [
    {
     "name": "stdout",
     "output_type": "stream",
     "text": [
      "[]\n"
     ]
    }
   ],
   "source": [
    "# Filtrem per classes CSS, en aquest cas totes les classes que contenen Menu2\n",
    "css_mw = wikiSoup.find_all('div', class_=\"mw\")\n",
    "print(css_mw)\n"
   ]
  },
  {
   "cell_type": "markdown",
   "id": "da388232",
   "metadata": {
    "ExecuteTime": {
     "end_time": "2022-09-13T11:57:36.973123Z",
     "start_time": "2022-09-13T11:57:36.289623Z"
    }
   },
   "source": [
    "\n",
    "### WEB SCRAPING DE LA PÀGINA WEB DE LA BOLSA ESPAÑOLA AMB SELENIUM\n",
    "\n",
    "\n",
    "\n"
   ]
  },
  {
   "cell_type": "code",
   "execution_count": 34,
   "id": "6bd4c778",
   "metadata": {
    "ExecuteTime": {
     "end_time": "2022-09-14T11:04:57.975296Z",
     "start_time": "2022-09-14T11:04:55.844495Z"
    }
   },
   "outputs": [],
   "source": [
    "# Crida a les llibreries de selenium i del driver de Chorme, i obro i tanco una sessió\n",
    "\n",
    "from selenium import webdriver\n",
    "from selenium.webdriver.common.keys import Keys\n",
    "from selenium.webdriver.common.by import By\n",
    "from webdriver_manager.chrome import ChromeDriverManager\n",
    "from selenium.webdriver.chrome.options import Options as ChromeOptions\n",
    "\n",
    "\n",
    "op = webdriver.ChromeOptions()\n",
    "\n",
    "op.add_argument('--enable-extensions')\n",
    "\n",
    "borsaSelenium = webdriver.Chrome(options=op)\n"
   ]
  },
  {
   "cell_type": "code",
   "execution_count": 35,
   "id": "b25b460f",
   "metadata": {
    "ExecuteTime": {
     "end_time": "2022-09-14T11:05:13.214513Z",
     "start_time": "2022-09-14T11:04:57.982292Z"
    }
   },
   "outputs": [],
   "source": [
    "# Activo la pàgina web\n",
    "borsaSelenium.get(\"https://www.bolsamadrid.es/esp/aspx/Portada/Portada.aspx\")"
   ]
  },
  {
   "cell_type": "code",
   "execution_count": 36,
   "id": "c9c43521",
   "metadata": {
    "ExecuteTime": {
     "end_time": "2022-09-14T11:05:13.245493Z",
     "start_time": "2022-09-14T11:05:13.217510Z"
    }
   },
   "outputs": [
    {
     "name": "stdout",
     "output_type": "stream",
     "text": [
      "Bolsa de Madrid\n"
     ]
    }
   ],
   "source": [
    "# Demano informació del web, en aquest cas el títol de la pàgina web\n",
    "title = borsaSelenium.title\n",
    "print(title)"
   ]
  },
  {
   "cell_type": "code",
   "execution_count": 37,
   "id": "a863c8dd",
   "metadata": {
    "ExecuteTime": {
     "end_time": "2022-09-14T11:05:13.399401Z",
     "start_time": "2022-09-14T11:05:13.274475Z"
    }
   },
   "outputs": [
    {
     "name": "stdout",
     "output_type": "stream",
     "text": [
      "https://www.bolsamadrid.es/esp/aspx/Portada/Portada.aspx\n"
     ]
    }
   ],
   "source": [
    "# Mostrar URL\n",
    "print(borsaSelenium.current_url)"
   ]
  },
  {
   "cell_type": "code",
   "execution_count": 38,
   "id": "8832d970",
   "metadata": {
    "ExecuteTime": {
     "end_time": "2022-09-14T11:05:13.616265Z",
     "start_time": "2022-09-14T11:05:13.403399Z"
    }
   },
   "outputs": [
    {
     "name": "stdout",
     "output_type": "stream",
     "text": [
      "<html xmlns=\"http://www.w3.org/1999/xhtml\"><head data-idioma=\"esp\" data-hora-act=\"Wed, 14 Sep 2022 13:04:58 GMT\" data-app-path=\"/\" data-bolsa=\"BMadrid\" data-analytics-id=\"UA-35966870-2\"><meta http-equiv=\"X-UA-Compatible\" content=\"IE=11\"><meta http-equiv=\"Content-Type\" content=\"text/html; charset=UTF-8\"><meta id=\"ctl00_copyright\" name=\"copyright\" content=\"Copyright © BME 2022\"><title>\n",
      "\tBolsa de Madrid\n",
      "</title><link id=\"ctl00_RSSLink1\" rel=\"alternate\" type=\"application/rss+xml\" href=\"/esp/aspx/RSS/RSS.ashx?feed=Todo\" title=\"Bolsa de Madrid: Todos los contenidos agregados\"><link id=\"ctl00_RSSLink2\" rel=\"alternate\" type=\"application/rss+xml\" href=\"/esp/aspx/RSS/RSS.ashx?feed=NotasPrensa\" title=\"Bolsa de Madrid: Notas de Prensa\"><link id=\"ctl00_RSSLink3\" rel=\"alternate\" type=\"application/rss+xml\" href=\"/esp/aspx/RSS/RSS.ashx?feed=Regulacion\" title=\"Bolsa de Madrid: Regulación: Circulares e Instrucciones Operativas\"><link id=\"ctl00_RSSLink4\" rel=\"alternate\" type=\"application/rss+xml\" href=\"/esp/aspx/RSS/RSS.ashx?feed=Indices\" title=\"Bolsa de Madrid: Avisos Índices IBEX\"><link id=\"ctl00_RSSLink5\" rel=\"alternate\" type=\"application/rss+xml\" href=\"/esp/aspx/RSS/RSS.ashx?feed=Revista\" title=\"Bolsa de Madrid: Artículos de la Revista Bolsa\"><script id=\"twitter-wjs\" src=\"https://platform.twitter.com/widgets.js\"></script><script async=\"\" src=\"https://www.google-analytics.com/analytics.js\"></script><script src=\"/js/Master?v=thBxh-xvKtDQpWbHpOk4A3E9sxEywhoh56HgLOsWH3I1\"></script>\n",
      "<link href=\"/css/css?v=e0iHiLxmqlVKER4v5gQI2K9pdMEvzhww7tRrYIcX2w41\" rel=\"stylesheet\">\n",
      "<script src=\"/js/TABLEscroll.js\" language=\"javascript\" type=\"text/javascript\"></script><script charset=\"utf-8\" src=\"https://platform.twitter.com/js/horizon_timeline.4836f7a62ef55f5880337b3b6602854f.js\"></script></head>\n",
      "<body><div id=\"Base\">\n",
      "    <table cellpadding=\"0\" cellspacing=\"0\" align=\"center\"><tbody><tr class=\"noimpr\">\n",
      "        <td colspan=\"6\" id=\"CabeceraArr\">\n",
      "            <div id=\"Idiomas\"><ul><li class=\"mclick\" style=\"cursor: pointer;\"><a href=\"/?id=ing\" target=\"_self\">&nbsp;English&nbsp;</a></li></ul></div>\n",
      "            <div id=\"MenuSup\"><ul><li class=\"mclick\" style=\"cursor: pointer;\"><a href=\"/esp/BMadrid/Contacto.aspx\" target=\"_self\">&nbsp;Contacto&nbsp;</a></li><li class=\"mclick\" style=\"cursor: pointer;\"><a href=\"/esp/Inversores/Agenda/HorarioMercado.aspx\" target=\"_self\">&nbsp;Horario Mercado&nbsp;</a></li><li class=\"mclick\" style=\"cursor: pointer;\"><a href=\"/esp/aspx/Inversores/Agenda/Calendario.aspx\" target=\"_self\">&nbsp;Calendario bursátil&nbsp;</a></li><li class=\"mclick\" style=\"cursor: pointer;\"><a href=\"/esp/RSS.aspx\" target=\"_self\">&nbsp;RSS&nbsp; &nbsp;<img src=\"/images/IconoRSS.png\" border=\"0\" align=\"absmiddle\" alt=\"RSS\">&nbsp;</a></li></ul></div>\n",
      "        </td>\n",
      "    </tr><tr valign=\"top\">\n",
      "        <td rowspan=\"3\" class=\"BaseIzq noimpr\"><div></div></td>\n",
      "        <td rowspan=\"3\" class=\"BaseSep noimpr\"></td>\n",
      "        <td class=\"BaseMenu\" id=\"CabeceraLogo\"><a href=\"/?id=esp\"><img src=\"/images/Base/LogoBMadrid.gif\" border=\"0\" alt=\"Bolsa de Madrid\"></a></td>\n",
      "        <td id=\"Cabecera\" class=\"noimpr\">\n",
      "            <div id=\"LogoBME\"><a href=\"https://www.bolsasymercados.es/\" target=\"_blank\"><img src=\"/images/Base/LogoBMEBlanco.png?v=Six\" width=\"118\" height=\"45\" border=\"0\" alt=\"Bolsas y Mercados Españoles\"></a></div>\n",
      "            <div class=\"finFila\"></div>\n",
      "            <div id=\"TopMensajes\">\n",
      "                <table cellpadding=\"0\" cellspacing=\"0\" width=\"650\" height=\"27\" align=\"left\"><tbody><tr>\n",
      "                    <td style=\"margin: 0 0 0 40px; vertical-align: middle;\"><div style=\"display: block;\"><a href=\"https://www.bolsasymercados.es/esp/Sala-Comunicacion/Nota-Prensa/20211124/nota_20211124_3/Calendario_2022_en_los_mercados_de_valores_espanoles\" target=\"_blank\" style=\"font-size: 11px; color: rgb(0, 52, 95);\">Calendario Bursátil 2022</a></div></td>\n",
      "                </tr></tbody></table>\n",
      "            </div>\n",
      "            <div id=\"BuscadorCab\">\n",
      "                <div>Buscador de<br>empresas</div>\n",
      "                <form id=\"formBusq\" method=\"get\" action=\"/esp/aspx/Empresas/BusqEmpresas.aspx\">\n",
      "                    <input type=\"text\" name=\"busq\" value=\"nombre / ISIN / ticker\" autocomplete=\"off\" style=\"color: rgb(160, 160, 160);\">\n",
      "                    <div id=\"divBusq\" style=\"display: none;\"></div>\n",
      "                    <span class=\"BtnGris mclick\" style=\"cursor: pointer;\"><a href=\"javascript:document.forms.formBusq.submitbusq();\"><span class=\"BtnBuscarDcha\" title=\"Buscar\"></span></a></span>\n",
      "                </form>\n",
      "            </div>\n",
      "            <div id=\"LineaBuscadorCab\"></div>\n",
      "        </td>\n",
      "        <td rowspan=\"3\" class=\"BaseSep noimpr\"></td>\n",
      "        <td rowspan=\"3\" class=\"BaseDcha noimpr\"><div></div></td>\n",
      "    </tr><tr>\n",
      "        <td colspan=\"2\" id=\"SeparacionCap\"><div class=\"noimpr\"></div>\n",
      "            \n",
      "<div class=\"seg\"><a href=\"/?id=esp\" target=\"_self\">Inicio</a> / </div>\n",
      "        </td>\n",
      "    </tr><tr valign=\"top\">\n",
      "        <td class=\"BaseMenu noimpr\">\n",
      "<script type=\"text/javascript\" src=\"/js/MenuIzq.js\"></script>\n",
      "<div id=\"MenuIzq\" class=\"MenuIzq noimpr\">\n",
      "<div class=\"MenuGrupo Azul\">\n",
      "<div class=\"Menu1 MenuDiv Azul Off\" menu=\"m1\"><div class=\"MenuLink MenuConOp Off\"><a href=\"#\" target=\"_self\">SOBRE NOSOTROS</a></div></div>\n",
      "<div class=\"Menu2 MenuSubOp\" menu=\"m1\" style=\"display: none;\">\n",
      "<div class=\"Menu2 MenuDiv Off\" menu=\"m2\"><div class=\"MenuLink Off\"><a href=\"/esp/BMadrid/BMadrid.aspx\" target=\"_self\">Bolsa de Madrid</a></div></div>\n",
      "<div class=\"Menu2 MenuDiv Off\" menu=\"m3\"><div class=\"MenuLink Off\"><a href=\"/docs/BMadrid/docsSubidos/Historia_Bolsa_ Española.pdf\" target=\"_blank\">Historia de la Bolsa</a></div></div>\n",
      "<div class=\"Menu2 MenuDiv Off\" menu=\"m4\"><div class=\"MenuLink MenuConOp Off\"><a href=\"#\" target=\"_self\">El Palacio de la Bolsa</a></div></div>\n",
      "<div class=\"Menu3 MenuSubOp\" menu=\"m4\" style=\"display: none;\">\n",
      "<div class=\"Menu3 MenuDiv Off\" menu=\"m5\"><div class=\"MenuLink Off\"><a href=\"/125_Palacio_Bolsa/\" target=\"_blank\">Historia del Palacio</a></div></div>\n",
      "<div class=\"Menu3 MenuDiv Off\" menu=\"m6\"><div class=\"MenuLink Off\"><a href=\"/esp/BMadrid/Palacio/Visita.aspx\" target=\"_self\">Visitas Guiadas</a></div></div>\n",
      "<div class=\"Menu3 MenuDiv Off\" menu=\"m7\"><div class=\"MenuLink Off\"><a href=\"/esp/BMadrid/Palacio/VisitaVirtual.aspx\" target=\"_self\">Visita Virtual</a></div></div>\n",
      "<div class=\"Menu3 MenuDiv Off\" menu=\"m8\"><div class=\"MenuLink Off\"><a href=\"/esp/BMadrid/Palacio/Eventos.aspx\" target=\"_self\">Actos y Conferencias</a></div></div>\n",
      "<div class=\"Menu3 MenuDiv Off\" menu=\"m9\"><div class=\"MenuLink Off\"><a href=\"/esp/aspx/Empresas/Eventos/Eventos.aspx?CodBolsa=BMadrid\" target=\"_self\">Aperturas de Honor</a></div></div>\n",
      "</div>\n",
      "<div class=\"Menu2 MenuDiv Off\" menu=\"m10\"><div class=\"MenuLink MenuConOp Off\"><a href=\"#\" target=\"_self\">Formación</a></div></div>\n",
      "<div class=\"Menu3 MenuSubOp\" menu=\"m10\" style=\"display: none;\">\n",
      "<div class=\"Menu3 MenuDiv Off\" menu=\"m11\"><div class=\"MenuLink Off\"><a href=\"/esp/aspx/Inversores/Formacion/Formacion.aspx?tipo=T&amp;CodBolsa=BMadrid\" target=\"_self\">Cursos y Masters</a></div></div>\n",
      "</div>\n",
      "<div class=\"Menu2 MenuDiv Off\" menu=\"m19\"><div class=\"MenuLink MenuConOp Off\"><a href=\"#\" target=\"_self\">Protector del Inversor</a></div></div>\n",
      "<div class=\"Menu3 MenuSubOp\" menu=\"m19\" style=\"display: none;\">\n",
      "<div class=\"Menu3 MenuDiv Off\" menu=\"m20\"><div class=\"MenuLink Off\"><a href=\"/esp/BMadrid/Protector/Protector1.aspx\" target=\"_self\">Información General</a></div></div>\n",
      "<div class=\"Menu3 MenuDiv Off\" menu=\"m24\"><div class=\"MenuLink Off\"><a href=\"/esp/BMadrid/Protector/Protector21.aspx\" target=\"_self\">Consultas y Reclamaciones</a></div></div>\n",
      "<div class=\"Menu3 MenuDiv Off\" menu=\"m27\"><div class=\"MenuLink Off\"><a href=\"/esp/BMadrid/Protector/Protector3.aspx\" target=\"_self\">Informes Anuales</a></div></div>\n",
      "<div class=\"Menu3 MenuDiv Off\" menu=\"m28\"><div class=\"MenuLink Off\"><a href=\"/esp/BMadrid/Protector/Protector4.aspx\" target=\"_self\">Normativa</a></div></div>\n",
      "</div>\n",
      "<div class=\"Menu2 MenuDiv Off\" menu=\"m31\"><div class=\"MenuLink MenuConOp Off\"><a href=\"#\" target=\"_self\">Miembros</a></div></div>\n",
      "<div class=\"Menu3 MenuSubOp\" menu=\"m31\" style=\"display: none;\">\n",
      "<div class=\"Menu3 MenuDiv Off\" menu=\"m32\"><div class=\"MenuLink Off\"><a href=\"/esp/aspx/Miembros/Miembros.aspx?tipo=T\" target=\"_self\">Listado de miembros</a></div></div>\n",
      "</div>\n",
      "<div class=\"Menu2 MenuDiv Off\" menu=\"m34\"><div class=\"MenuLink Off\"><a href=\"/esp/aspx/Regulacion/Regulacion.aspx\" target=\"_self\">Regulación</a></div></div>\n",
      "<div class=\"Menu2 MenuDiv Off\" menu=\"m35\"><div class=\"MenuLink Off\"><a href=\"/docs/Miembros/TarifasRectoras.pdf\" target=\"_blank\">Cánones</a></div></div>\n",
      "<div class=\"Menu2 MenuDiv Off\" menu=\"m36\"><div class=\"MenuLink Off\"><a href=\"/esp/BMadrid/Localizacion.aspx\" target=\"_self\">Dónde estamos</a></div></div>\n",
      "<div class=\"Menu2 MenuDiv Off\" menu=\"m37\"><div class=\"MenuLink Off\"><a href=\"/esp/BMadrid/Contacto.aspx\" target=\"_self\">Contacto</a></div></div>\n",
      "</div>\n",
      "<div class=\"Menu1 MenuDiv Azul On\" menu=\"m196\"><div class=\"MenuLink MenuConOp On\"><a href=\"#\" target=\"_self\">MERCADOS Y COTIZACIONES</a></div></div>\n",
      "<div class=\"Menu2 MenuSubOp\" menu=\"m196\" style=\"display: block;\">\n",
      "<div class=\"Menu2 MenuDiv Off\" menu=\"m197\"><div class=\"MenuLink MenuConOp Off\"><a href=\"/esp/aspx/Mercados/Precios.aspx?indice=ESI100000000\" target=\"_self\">Acciones</a></div></div>\n",
      "<div class=\"Menu3 MenuSubOp\" menu=\"m197\" style=\"display: none;\">\n",
      "<div class=\"Menu3 MenuDiv Off\" menu=\"m198\"><div class=\"MenuLink Off\"><a href=\"/esp/aspx/Mercados/Precios.aspx?indice=ESI100000000\" target=\"_self\">Precios de la sesión</a></div></div>\n",
      "<div class=\"Menu3 MenuDiv Off\" menu=\"m199\"><div class=\"MenuLink Off\"><a href=\"/esp/aspx/Mercados/Graficos.aspx?tipo=VALORES\" target=\"_self\">Gráficos históricos</a></div></div>\n",
      "</div>\n",
      "<div class=\"Menu2 MenuDiv Off\" menu=\"m200\"><div class=\"MenuLink Off\"><a href=\"/etfs\" target=\"_blank\">ETFs</a></div></div>\n",
      "<div class=\"Menu2 MenuDiv Off\" menu=\"m201\"><div class=\"MenuLink Off\"><a href=\"/esp/aspx/warrants/Portada/Portad"
     ]
    },
    {
     "data": {
      "text/html": [
       "<b>limit_output extension: Maximum message size of 10000 exceeded with 80513 characters</b>"
      ]
     },
     "metadata": {},
     "output_type": "display_data"
    }
   ],
   "source": [
    "# Mostrar pàgina en HTML\n",
    "print(borsaSelenium.page_source)"
   ]
  },
  {
   "cell_type": "markdown",
   "id": "35a1bcb6",
   "metadata": {},
   "source": [
    "Establir una estratègia d'espera\n",
    "Sincronitzar el codi amb l'estat actual del navegador és un dels grans reptes de Selenium, i fer-ho bé és un tema avançat.\n",
    "\n",
    "Bàsicament, voleu assegurar-vos que l'element es troba a la pàgina abans d'intentar localitzar-lo i que l'element estigui en un estat d'interacció abans d'intentar interactuar amb ell.\n",
    "\n",
    "Una espera implícita rarament és la millor solució, però aquí és la més fàcil de demostrar, així que l'utilitzarem com a marcador de posició."
   ]
  },
  {
   "cell_type": "code",
   "execution_count": 39,
   "id": "d6cb4946",
   "metadata": {
    "ExecuteTime": {
     "end_time": "2022-09-14T11:05:13.803150Z",
     "start_time": "2022-09-14T11:05:13.620262Z"
    }
   },
   "outputs": [],
   "source": [
    "borsaSelenium.implicitly_wait(0.5)"
   ]
  },
  {
   "cell_type": "code",
   "execution_count": 40,
   "id": "bb0345c2",
   "metadata": {
    "ExecuteTime": {
     "end_time": "2022-09-14T11:05:14.070985Z",
     "start_time": "2022-09-14T11:05:13.809144Z"
    }
   },
   "outputs": [
    {
     "name": "stdout",
     "output_type": "stream",
     "text": [
      "Inicio /\n"
     ]
    }
   ],
   "source": [
    "# Interactuar amb elements de classe\n",
    "\n",
    "elementClasse = borsaSelenium.find_elements(by = By.CLASS_NAME, value=\"seg\")\n",
    "for el in elementClasse:\n",
    "    print(el.text)"
   ]
  },
  {
   "cell_type": "code",
   "execution_count": 41,
   "id": "25d90437",
   "metadata": {
    "ExecuteTime": {
     "end_time": "2022-09-14T11:05:14.572671Z",
     "start_time": "2022-09-14T11:05:14.075982Z"
    }
   },
   "outputs": [
    {
     "name": "stdout",
     "output_type": "stream",
     "text": [
      "SOBRE NOSOTROS\n",
      "MERCADOS Y COTIZACIONES\n",
      "ÍNDICES\n",
      "EMPRESAS COTIZADAS\n",
      "ESTADÍSTICAS Y PUBLICACIONES\n",
      "PARA INVERSORES\n",
      "PARA EMPRESAS\n",
      "PARA MIEMBROS Y PROFESIONALES\n",
      "PARA MEDIOS DE COMUNICACIÓN\n"
     ]
    }
   ],
   "source": [
    "# Interactuar amb elements de classe\n",
    "\n",
    "elementClasse2 = borsaSelenium.find_elements(by = By.CLASS_NAME, value=\"Menu1\")\n",
    "for el in elementClasse2:\n",
    "    print(el.text)"
   ]
  },
  {
   "cell_type": "code",
   "execution_count": 42,
   "id": "11ebce09",
   "metadata": {
    "ExecuteTime": {
     "end_time": "2022-09-14T11:05:15.899847Z",
     "start_time": "2022-09-14T11:05:14.578667Z"
    }
   },
   "outputs": [
    {
     "data": {
      "text/plain": [
       "11"
      ]
     },
     "execution_count": 42,
     "metadata": {},
     "output_type": "execute_result"
    }
   ],
   "source": [
    "# Interactuar amb elements amb una taula\n",
    "import pandas as pd\n",
    "\n",
    "taula = borsaSelenium.page_source\n",
    "llista = pd.read_html(taula)\n",
    "\n",
    "len(llista)"
   ]
  },
  {
   "cell_type": "code",
   "execution_count": 43,
   "id": "27a6f3bb",
   "metadata": {
    "ExecuteTime": {
     "end_time": "2022-09-14T11:05:15.915836Z",
     "start_time": "2022-09-14T11:05:15.902846Z"
    }
   },
   "outputs": [],
   "source": [
    "# Podem extreure 11 taules diferents, per tant les podríem anar imprimint per veure què contenen"
   ]
  },
  {
   "cell_type": "code",
   "execution_count": 44,
   "id": "9e4647f7",
   "metadata": {
    "ExecuteTime": {
     "end_time": "2022-09-14T11:05:16.385549Z",
     "start_time": "2022-09-14T11:05:15.918836Z"
    }
   },
   "outputs": [
    {
     "data": {
      "text/html": [
       "<div>\n",
       "<style scoped>\n",
       "    .dataframe tbody tr th:only-of-type {\n",
       "        vertical-align: middle;\n",
       "    }\n",
       "\n",
       "    .dataframe tbody tr th {\n",
       "        vertical-align: top;\n",
       "    }\n",
       "\n",
       "    .dataframe thead th {\n",
       "        text-align: right;\n",
       "    }\n",
       "</style>\n",
       "<table border=\"1\" class=\"dataframe\">\n",
       "  <thead>\n",
       "    <tr style=\"text-align: right;\">\n",
       "      <th></th>\n",
       "      <th>0</th>\n",
       "      <th>1</th>\n",
       "      <th>2</th>\n",
       "      <th>3</th>\n",
       "      <th>4</th>\n",
       "      <th>5</th>\n",
       "      <th>6</th>\n",
       "    </tr>\n",
       "  </thead>\n",
       "  <tbody>\n",
       "    <tr>\n",
       "      <th>0</th>\n",
       "      <td>English Contacto Horario Mercado Calendario bu...</td>\n",
       "      <td>English Contacto Horario Mercado Calendario bu...</td>\n",
       "      <td>English Contacto Horario Mercado Calendario bu...</td>\n",
       "      <td>English Contacto Horario Mercado Calendario bu...</td>\n",
       "      <td>English Contacto Horario Mercado Calendario bu...</td>\n",
       "      <td>English Contacto Horario Mercado Calendario bu...</td>\n",
       "      <td>NaN</td>\n",
       "    </tr>\n",
       "    <tr>\n",
       "      <th>1</th>\n",
       "      <td>NaN</td>\n",
       "      <td>NaN</td>\n",
       "      <td>NaN</td>\n",
       "      <td>Calendario Bursátil 2022  Buscador deempresas</td>\n",
       "      <td>NaN</td>\n",
       "      <td>NaN</td>\n",
       "      <td>NaN</td>\n",
       "    </tr>\n",
       "    <tr>\n",
       "      <th>2</th>\n",
       "      <td>NaN</td>\n",
       "      <td>NaN</td>\n",
       "      <td>Calendario Bursátil 2022</td>\n",
       "      <td>NaN</td>\n",
       "      <td>NaN</td>\n",
       "      <td>NaN</td>\n",
       "      <td>NaN</td>\n",
       "    </tr>\n",
       "    <tr>\n",
       "      <th>3</th>\n",
       "      <td>NaN</td>\n",
       "      <td>NaN</td>\n",
       "      <td>Inicio /</td>\n",
       "      <td>Inicio /</td>\n",
       "      <td>NaN</td>\n",
       "      <td>NaN</td>\n",
       "      <td>NaN</td>\n",
       "    </tr>\n",
       "    <tr>\n",
       "      <th>4</th>\n",
       "      <td>SOBRE NOSOTROS MERCADOS Y COTIZACIONES Accione...</td>\n",
       "      <td>Informe sobre la Propiedad de las Acciones cot...</td>\n",
       "      <td>NaN</td>\n",
       "      <td>NaN</td>\n",
       "      <td>NaN</td>\n",
       "      <td>NaN</td>\n",
       "      <td>NaN</td>\n",
       "    </tr>\n",
       "    <tr>\n",
       "      <th>5</th>\n",
       "      <td>Acciones</td>\n",
       "      <td>Dividendos</td>\n",
       "      <td>Boletín</td>\n",
       "      <td>Inf. privilegiada /Otra inf. relevante</td>\n",
       "      <td>NaN</td>\n",
       "      <td>NaN</td>\n",
       "      <td>NaN</td>\n",
       "    </tr>\n",
       "    <tr>\n",
       "      <th>6</th>\n",
       "      <td>Market Data</td>\n",
       "      <td>Estadísticas</td>\n",
       "      <td>Mi Cartera</td>\n",
       "      <td>Formación</td>\n",
       "      <td>NaN</td>\n",
       "      <td>NaN</td>\n",
       "      <td>NaN</td>\n",
       "    </tr>\n",
       "    <tr>\n",
       "      <th>7</th>\n",
       "      <td>Agenda Diaria 14/09/2022</td>\n",
       "      <td>NaN</td>\n",
       "      <td>Agenda Semanal</td>\n",
       "      <td>NaN</td>\n",
       "      <td>NaN</td>\n",
       "      <td>NaN</td>\n",
       "      <td>NaN</td>\n",
       "    </tr>\n",
       "    <tr>\n",
       "      <th>8</th>\n",
       "      <td>Evento/Indicador</td>\n",
       "      <td>País</td>\n",
       "      <td>Periodo</td>\n",
       "      <td>Anterior</td>\n",
       "      <td>Previsto</td>\n",
       "      <td>Actual</td>\n",
       "      <td>NaN</td>\n",
       "    </tr>\n",
       "    <tr>\n",
       "      <th>9</th>\n",
       "      <td>INDITEX - Resultados 1S 2022</td>\n",
       "      <td>INDITEX - Resultados 1S 2022</td>\n",
       "      <td>INDITEX - Resultados 1S 2022</td>\n",
       "      <td>INDITEX - Resultados 1S 2022</td>\n",
       "      <td>INDITEX - Resultados 1S 2022</td>\n",
       "      <td>INDITEX - Resultados 1S 2022</td>\n",
       "      <td>NaN</td>\n",
       "    </tr>\n",
       "    <tr>\n",
       "      <th>10</th>\n",
       "      <td>Producción Industrial</td>\n",
       "      <td>Japón</td>\n",
       "      <td>Julio</td>\n",
       "      <td>-1,0%</td>\n",
       "      <td>NaN</td>\n",
       "      <td>-1,2%</td>\n",
       "      <td>NaN</td>\n",
       "    </tr>\n",
       "    <tr>\n",
       "      <th>11</th>\n",
       "      <td>IPC subyacente</td>\n",
       "      <td>Reino Unido</td>\n",
       "      <td>Agosto</td>\n",
       "      <td>6,2%</td>\n",
       "      <td>6,3%</td>\n",
       "      <td>6,3%</td>\n",
       "      <td>NaN</td>\n",
       "    </tr>\n",
       "    <tr>\n",
       "      <th>12</th>\n",
       "      <td>IPC final</td>\n",
       "      <td>Reino Unido</td>\n",
       "      <td>Agosto</td>\n",
       "      <td>10,1%</td>\n",
       "      <td>10,2%</td>\n",
       "      <td>9,9%</td>\n",
       "      <td>NaN</td>\n",
       "    </tr>\n",
       "    <tr>\n",
       "      <th>13</th>\n",
       "      <td>Precios industriales</td>\n",
       "      <td>Reino Unido</td>\n",
       "      <td>Agosto</td>\n",
       "      <td>17,1%</td>\n",
       "      <td>17,4%</td>\n",
       "      <td>16,1%</td>\n",
       "      <td>NaN</td>\n",
       "    </tr>\n",
       "    <tr>\n",
       "      <th>14</th>\n",
       "      <td>Producción Industrial</td>\n",
       "      <td>UEM</td>\n",
       "      <td>Julio</td>\n",
       "      <td>2,4%</td>\n",
       "      <td>0,4%</td>\n",
       "      <td>NaN</td>\n",
       "      <td>NaN</td>\n",
       "    </tr>\n",
       "    <tr>\n",
       "      <th>15</th>\n",
       "      <td>Precios industriales</td>\n",
       "      <td>EEUU</td>\n",
       "      <td>Agosto</td>\n",
       "      <td>9,8%</td>\n",
       "      <td>8,8%</td>\n",
       "      <td>NaN</td>\n",
       "      <td>NaN</td>\n",
       "    </tr>\n",
       "    <tr>\n",
       "      <th>16</th>\n",
       "      <td>Precios industriales subyacente</td>\n",
       "      <td>EEUU</td>\n",
       "      <td>Agosto</td>\n",
       "      <td>7,6%</td>\n",
       "      <td>7,1%</td>\n",
       "      <td>NaN</td>\n",
       "      <td>NaN</td>\n",
       "    </tr>\n",
       "    <tr>\n",
       "      <th>17</th>\n",
       "      <td>IBEX 35</td>\n",
       "      <td>NaN</td>\n",
       "      <td>IBEX MEDIUM</td>\n",
       "      <td>NaN</td>\n",
       "      <td>LATIBEX TOP</td>\n",
       "      <td>NaN</td>\n",
       "      <td>IGBM</td>\n",
       "    </tr>\n",
       "    <tr>\n",
       "      <th>18</th>\n",
       "      <td>IBEX 35 14 Septiembre, 12:49</td>\n",
       "      <td>NaN</td>\n",
       "      <td>8.101,40 0,46%</td>\n",
       "      <td>NaN</td>\n",
       "      <td>NaN</td>\n",
       "      <td>NaN</td>\n",
       "      <td>NaN</td>\n",
       "    </tr>\n",
       "    <tr>\n",
       "      <th>19</th>\n",
       "      <td>IBEX 35®</td>\n",
       "      <td>NaN</td>\n",
       "      <td>M. Continuo</td>\n",
       "      <td>NaN</td>\n",
       "      <td>NaN</td>\n",
       "      <td>NaN</td>\n",
       "      <td>NaN</td>\n",
       "    </tr>\n",
       "    <tr>\n",
       "      <th>20</th>\n",
       "      <td>Nombre</td>\n",
       "      <td>Último</td>\n",
       "      <td>% Dif.</td>\n",
       "      <td>NaN</td>\n",
       "      <td>NaN</td>\n",
       "      <td>NaN</td>\n",
       "      <td>NaN</td>\n",
       "    </tr>\n",
       "    <tr>\n",
       "      <th>21</th>\n",
       "      <td>ACCIONA</td>\n",
       "      <td>2048000</td>\n",
       "      <td>139</td>\n",
       "      <td>NaN</td>\n",
       "      <td>NaN</td>\n",
       "      <td>NaN</td>\n",
       "      <td>NaN</td>\n",
       "    </tr>\n",
       "    <tr>\n",
       "      <th>22</th>\n",
       "      <td>ACCIONA ENER</td>\n",
       "      <td>418800</td>\n",
       "      <td>136</td>\n",
       "      <td>NaN</td>\n",
       "      <td>NaN</td>\n",
       "      <td>NaN</td>\n",
       "      <td>NaN</td>\n",
       "    </tr>\n",
       "    <tr>\n",
       "      <th>23</th>\n",
       "      <td>ACERINOX</td>\n",
       "      <td>88760</td>\n",
       "      <td>032</td>\n",
       "      <td>NaN</td>\n",
       "      <td>NaN</td>\n",
       "      <td>NaN</td>\n",
       "      <td>NaN</td>\n",
       "    </tr>\n",
       "    <tr>\n",
       "      <th>24</th>\n",
       "      <td>ACS</td>\n",
       "      <td>232200</td>\n",
       "      <td>078</td>\n",
       "      <td>NaN</td>\n",
       "      <td>NaN</td>\n",
       "      <td>NaN</td>\n",
       "      <td>NaN</td>\n",
       "    </tr>\n",
       "    <tr>\n",
       "      <th>25</th>\n",
       "      <td>AENA</td>\n",
       "      <td>1189500</td>\n",
       "      <td>-067</td>\n",
       "      <td>NaN</td>\n",
       "      <td>NaN</td>\n",
       "      <td>NaN</td>\n",
       "      <td>NaN</td>\n",
       "    </tr>\n",
       "    <tr>\n",
       "      <th>26</th>\n",
       "      <td>MÁS ACTIVOS</td>\n",
       "      <td>NaN</td>\n",
       "      <td>MÁS SUBEN</td>\n",
       "      <td>NaN</td>\n",
       "      <td>MÁS BAJAN</td>\n",
       "      <td>NaN</td>\n",
       "      <td>NaN</td>\n",
       "    </tr>\n",
       "    <tr>\n",
       "      <th>27</th>\n",
       "      <td>Nombre</td>\n",
       "      <td>Efectivo *</td>\n",
       "      <td>NaN</td>\n",
       "      <td>NaN</td>\n",
       "      <td>NaN</td>\n",
       "      <td>NaN</td>\n",
       "      <td>NaN</td>\n",
       "    </tr>\n",
       "    <tr>\n",
       "      <th>28</th>\n",
       "      <td>INDITEX</td>\n",
       "      <td>64.666,89</td>\n",
       "      <td>NaN</td>\n",
       "      <td>NaN</td>\n",
       "      <td>NaN</td>\n",
       "      <td>NaN</td>\n",
       "      <td>NaN</td>\n",
       "    </tr>\n",
       "    <tr>\n",
       "      <th>29</th>\n",
       "      <td>IBERDROLA</td>\n",
       "      <td>25.329,28</td>\n",
       "      <td>NaN</td>\n",
       "      <td>NaN</td>\n",
       "      <td>NaN</td>\n",
       "      <td>NaN</td>\n",
       "      <td>NaN</td>\n",
       "    </tr>\n",
       "    <tr>\n",
       "      <th>30</th>\n",
       "      <td>B.SANTANDER</td>\n",
       "      <td>20.807,65</td>\n",
       "      <td>NaN</td>\n",
       "      <td>NaN</td>\n",
       "      <td>NaN</td>\n",
       "      <td>NaN</td>\n",
       "      <td>NaN</td>\n",
       "    </tr>\n",
       "    <tr>\n",
       "      <th>31</th>\n",
       "      <td>CAIXABANK</td>\n",
       "      <td>20.513,95</td>\n",
       "      <td>NaN</td>\n",
       "      <td>NaN</td>\n",
       "      <td>NaN</td>\n",
       "      <td>NaN</td>\n",
       "      <td>NaN</td>\n",
       "    </tr>\n",
       "    <tr>\n",
       "      <th>32</th>\n",
       "      <td>BBVA</td>\n",
       "      <td>16.433,52</td>\n",
       "      <td>NaN</td>\n",
       "      <td>NaN</td>\n",
       "      <td>NaN</td>\n",
       "      <td>NaN</td>\n",
       "      <td>NaN</td>\n",
       "    </tr>\n",
       "    <tr>\n",
       "      <th>33</th>\n",
       "      <td>NaN</td>\n",
       "      <td>NaN</td>\n",
       "      <td>Síguenos en:</td>\n",
       "      <td>Síguenos en:</td>\n",
       "      <td>NaN</td>\n",
       "      <td>NaN</td>\n",
       "      <td>NaN</td>\n",
       "    </tr>\n",
       "    <tr>\n",
       "      <th>34</th>\n",
       "      <td>NaN</td>\n",
       "      <td>NaN</td>\n",
       "      <td>Estado del Mercado Mapa web Disclaimer Polític...</td>\n",
       "      <td>Estado del Mercado Mapa web Disclaimer Polític...</td>\n",
       "      <td>NaN</td>\n",
       "      <td>NaN</td>\n",
       "      <td>NaN</td>\n",
       "    </tr>\n",
       "  </tbody>\n",
       "</table>\n",
       "</div>"
      ],
      "text/plain": [
       "                                                    0  \\\n",
       "0   English Contacto Horario Mercado Calendario bu...   \n",
       "1                                                 NaN   \n",
       "2                                                 NaN   \n",
       "3                                                 NaN   \n",
       "4   SOBRE NOSOTROS MERCADOS Y COTIZACIONES Accione...   \n",
       "5                                            Acciones   \n",
       "6                                         Market Data   \n",
       "7                            Agenda Diaria 14/09/2022   \n",
       "8                                    Evento/Indicador   \n",
       "9                        INDITEX - Resultados 1S 2022   \n",
       "10                              Producción Industrial   \n",
       "11                                     IPC subyacente   \n",
       "12                                          IPC final   \n",
       "13                               Precios industriales   \n",
       "14                              Producción Industrial   \n",
       "15                               Precios industriales   \n",
       "16                    Precios industriales subyacente   \n",
       "17                                            IBEX 35   \n",
       "18                       IBEX 35 14 Septiembre, 12:49   \n",
       "19                                           IBEX 35®   \n",
       "20                                             Nombre   \n",
       "21                                            ACCIONA   \n",
       "22                                       ACCIONA ENER   \n",
       "23                                           ACERINOX   \n",
       "24                                                ACS   \n",
       "25                                               AENA   \n",
       "26                                        MÁS ACTIVOS   \n",
       "27                                             Nombre   \n",
       "28                                            INDITEX   \n",
       "29                                          IBERDROLA   \n",
       "30                                        B.SANTANDER   \n",
       "31                                          CAIXABANK   \n",
       "32                                               BBVA   \n",
       "33                                                NaN   \n",
       "34                                                NaN   \n",
       "\n",
       "                                                    1  \\\n",
       "0   English Contacto Horario Mercado Calendario bu...   \n",
       "1                                                 NaN   \n",
       "2                                                 NaN   \n",
       "3                                                 NaN   \n",
       "4   Informe sobre la Propiedad de las Acciones cot...   \n",
       "5                                          Dividendos   \n",
       "6                                        Estadísticas   \n",
       "7                                                 NaN   \n",
       "8                                                País   \n",
       "9                        INDITEX - Resultados 1S 2022   \n",
       "10                                              Japón   \n",
       "11                                        Reino Unido   \n",
       "12                                        Reino Unido   \n",
       "13                                        Reino Unido   \n",
       "14                                                UEM   \n",
       "15                                               EEUU   \n",
       "16                                               EEUU   \n",
       "17                                                NaN   \n",
       "18                                                NaN   \n",
       "19                                                NaN   \n",
       "20                                             Último   \n",
       "21                                            2048000   \n",
       "22                                             418800   \n",
       "23                                              88760   \n",
       "24                                             232200   \n",
       "25                                            1189500   \n",
       "26                                                NaN   \n",
       "27                                         Efectivo *   \n",
       "28                                          64.666,89   \n",
       "29                                          25.329,28   \n",
       "30                                          20.807,65   \n",
       "31                                          20.513,95   \n",
       "32                                          16.433,52   \n",
       "33                                                NaN   \n",
       "34                                                NaN   \n",
       "\n",
       "                                                    2  \\\n",
       "0   English Contacto Horario Mercado Calendario bu...   \n",
       "1                                                 NaN   \n",
       "2                            Calendario Bursátil 2022   \n",
       "3                                            Inicio /   \n",
       "4                                                 NaN   \n",
       "5                                             Boletín   \n",
       "6                                          Mi Cartera   \n",
       "7                                      Agenda Semanal   \n",
       "8                                             Periodo   \n",
       "9                        INDITEX - Resultados 1S 2022   \n",
       "10                                              Julio   \n",
       "11                                             Agosto   \n",
       "12                                             Agosto   \n",
       "13                                             Agosto   \n",
       "14                                              Julio   \n",
       "15                                             Agosto   \n",
       "16                                             Agosto   \n",
       "17                                        IBEX MEDIUM   \n",
       "18                                     8.101,40 0,46%   \n",
       "19                                        M. Continuo   \n",
       "20                                             % Dif.   \n",
       "21                                                139   \n",
       "22                                                136   \n",
       "23                                                032   \n",
       "24                                                078   \n",
       "25                                               -067   \n",
       "26                                          MÁS SUBEN   \n",
       "27                                                NaN   \n",
       "28                                                NaN   \n",
       "29                                                NaN   \n",
       "30                                                NaN   \n",
       "31                                                NaN   \n",
       "32                                                NaN   \n",
       "33                                       Síguenos en:   \n",
       "34  Estado del Mercado Mapa web Disclaimer Polític...   \n",
       "\n",
       "                                                    3  \\\n",
       "0   English Contacto Horario Mercado Calendario bu...   \n",
       "1       Calendario Bursátil 2022  Buscador deempresas   \n",
       "2                                                 NaN   \n",
       "3                                            Inicio /   \n",
       "4                                                 NaN   \n",
       "5              Inf. privilegiada /Otra inf. relevante   \n",
       "6                                           Formación   \n",
       "7                                                 NaN   \n",
       "8                                            Anterior   \n",
       "9                        INDITEX - Resultados 1S 2022   \n",
       "10                                              -1,0%   \n",
       "11                                               6,2%   \n",
       "12                                              10,1%   \n",
       "13                                              17,1%   \n",
       "14                                               2,4%   \n",
       "15                                               9,8%   \n",
       "16                                               7,6%   \n",
       "17                                                NaN   \n",
       "18                                                NaN   \n",
       "19                                                NaN   \n",
       "20                                                NaN   \n",
       "21                                                NaN   \n",
       "22                                                NaN   \n",
       "23                                                NaN   \n",
       "24                                                NaN   \n",
       "25                                                NaN   \n",
       "26                                                NaN   \n",
       "27                                                NaN   \n",
       "28                                                NaN   \n",
       "29                                                NaN   \n",
       "30                                                NaN   \n",
       "31                                                NaN   \n",
       "32                                                NaN   \n",
       "33                                       Síguenos en:   \n",
       "34  Estado del Mercado Mapa web Disclaimer Polític...   \n",
       "\n",
       "                                                    4  \\\n",
       "0   English Contacto Horario Mercado Calendario bu...   \n",
       "1                                                 NaN   \n",
       "2                                                 NaN   \n",
       "3                                                 NaN   \n",
       "4                                                 NaN   \n",
       "5                                                 NaN   \n",
       "6                                                 NaN   \n",
       "7                                                 NaN   \n",
       "8                                            Previsto   \n",
       "9                        INDITEX - Resultados 1S 2022   \n",
       "10                                                NaN   \n",
       "11                                               6,3%   \n",
       "12                                              10,2%   \n",
       "13                                              17,4%   \n",
       "14                                               0,4%   \n",
       "15                                               8,8%   \n",
       "16                                               7,1%   \n",
       "17                                        LATIBEX TOP   \n",
       "18                                                NaN   \n",
       "19                                                NaN   \n",
       "20                                                NaN   \n",
       "21                                                NaN   \n",
       "22                                                NaN   \n",
       "23                                                NaN   \n",
       "24                                                NaN   \n",
       "25                                                NaN   \n",
       "26                                          MÁS BAJAN   \n",
       "27                                                NaN   \n",
       "28                                                NaN   \n",
       "29                                                NaN   \n",
       "30                   "
      ]
     },
     "execution_count": 44,
     "metadata": {},
     "output_type": "execute_result"
    },
    {
     "data": {
      "text/html": [
       "<b>limit_output extension: Maximum message size of 10000 exceeded with 12496 characters</b>"
      ]
     },
     "metadata": {},
     "output_type": "display_data"
    }
   ],
   "source": [
    "taulaA = llista[0]\n",
    "taulaA.to_csv('tableBorsaA.csv')\n",
    "taulaA"
   ]
  },
  {
   "cell_type": "code",
   "execution_count": 45,
   "id": "8264be4d",
   "metadata": {
    "ExecuteTime": {
     "end_time": "2022-09-14T11:05:16.668374Z",
     "start_time": "2022-09-14T11:05:16.390544Z"
    }
   },
   "outputs": [
    {
     "data": {
      "text/html": [
       "<div>\n",
       "<style scoped>\n",
       "    .dataframe tbody tr th:only-of-type {\n",
       "        vertical-align: middle;\n",
       "    }\n",
       "\n",
       "    .dataframe tbody tr th {\n",
       "        vertical-align: top;\n",
       "    }\n",
       "\n",
       "    .dataframe thead th {\n",
       "        text-align: right;\n",
       "    }\n",
       "</style>\n",
       "<table border=\"1\" class=\"dataframe\">\n",
       "  <thead>\n",
       "    <tr style=\"text-align: right;\">\n",
       "      <th></th>\n",
       "      <th>0</th>\n",
       "    </tr>\n",
       "  </thead>\n",
       "  <tbody>\n",
       "    <tr>\n",
       "      <th>0</th>\n",
       "      <td>Calendario Bursátil 2022</td>\n",
       "    </tr>\n",
       "  </tbody>\n",
       "</table>\n",
       "</div>"
      ],
      "text/plain": [
       "                          0\n",
       "0  Calendario Bursátil 2022"
      ]
     },
     "execution_count": 45,
     "metadata": {},
     "output_type": "execute_result"
    }
   ],
   "source": [
    "taulaB = llista[1]\n",
    "taulaB.to_csv('tableBorsaB.csv')\n",
    "taulaB"
   ]
  },
  {
   "cell_type": "code",
   "execution_count": 46,
   "id": "71b6e155",
   "metadata": {
    "ExecuteTime": {
     "end_time": "2022-09-14T11:05:16.902658Z",
     "start_time": "2022-09-14T11:05:16.674369Z"
    }
   },
   "outputs": [
    {
     "data": {
      "text/html": [
       "<div>\n",
       "<style scoped>\n",
       "    .dataframe tbody tr th:only-of-type {\n",
       "        vertical-align: middle;\n",
       "    }\n",
       "\n",
       "    .dataframe tbody tr th {\n",
       "        vertical-align: top;\n",
       "    }\n",
       "\n",
       "    .dataframe thead th {\n",
       "        text-align: right;\n",
       "    }\n",
       "</style>\n",
       "<table border=\"1\" class=\"dataframe\">\n",
       "  <thead>\n",
       "    <tr style=\"text-align: right;\">\n",
       "      <th></th>\n",
       "      <th>0</th>\n",
       "      <th>1</th>\n",
       "      <th>2</th>\n",
       "      <th>3</th>\n",
       "    </tr>\n",
       "  </thead>\n",
       "  <tbody>\n",
       "    <tr>\n",
       "      <th>0</th>\n",
       "      <td>Acciones</td>\n",
       "      <td>Dividendos</td>\n",
       "      <td>Boletín</td>\n",
       "      <td>Inf. privilegiada /Otra inf. relevante</td>\n",
       "    </tr>\n",
       "    <tr>\n",
       "      <th>1</th>\n",
       "      <td>Market Data</td>\n",
       "      <td>Estadísticas</td>\n",
       "      <td>Mi Cartera</td>\n",
       "      <td>Formación</td>\n",
       "    </tr>\n",
       "  </tbody>\n",
       "</table>\n",
       "</div>"
      ],
      "text/plain": [
       "             0             1           2  \\\n",
       "0     Acciones    Dividendos     Boletín   \n",
       "1  Market Data  Estadísticas  Mi Cartera   \n",
       "\n",
       "                                        3  \n",
       "0  Inf. privilegiada /Otra inf. relevante  \n",
       "1                               Formación  "
      ]
     },
     "execution_count": 46,
     "metadata": {},
     "output_type": "execute_result"
    }
   ],
   "source": [
    "taulaC = llista[2]\n",
    "taulaC.to_csv('tableBorsaC.csv')\n",
    "taulaC"
   ]
  },
  {
   "cell_type": "code",
   "execution_count": 47,
   "id": "20d63344",
   "metadata": {
    "ExecuteTime": {
     "end_time": "2022-09-14T11:05:17.185483Z",
     "start_time": "2022-09-14T11:05:16.906656Z"
    }
   },
   "outputs": [
    {
     "data": {
      "text/html": [
       "<div>\n",
       "<style scoped>\n",
       "    .dataframe tbody tr th:only-of-type {\n",
       "        vertical-align: middle;\n",
       "    }\n",
       "\n",
       "    .dataframe tbody tr th {\n",
       "        vertical-align: top;\n",
       "    }\n",
       "\n",
       "    .dataframe thead th {\n",
       "        text-align: right;\n",
       "    }\n",
       "</style>\n",
       "<table border=\"1\" class=\"dataframe\">\n",
       "  <thead>\n",
       "    <tr style=\"text-align: right;\">\n",
       "      <th></th>\n",
       "      <th>0</th>\n",
       "      <th>1</th>\n",
       "      <th>2</th>\n",
       "    </tr>\n",
       "  </thead>\n",
       "  <tbody>\n",
       "    <tr>\n",
       "      <th>0</th>\n",
       "      <td>Agenda Diaria 14/09/2022</td>\n",
       "      <td>NaN</td>\n",
       "      <td>Agenda Semanal</td>\n",
       "    </tr>\n",
       "  </tbody>\n",
       "</table>\n",
       "</div>"
      ],
      "text/plain": [
       "                          0   1               2\n",
       "0  Agenda Diaria 14/09/2022 NaN  Agenda Semanal"
      ]
     },
     "execution_count": 47,
     "metadata": {},
     "output_type": "execute_result"
    }
   ],
   "source": [
    "taulaD = llista[3]\n",
    "taulaD.to_csv('tableBorsaD.csv')\n",
    "taulaD"
   ]
  },
  {
   "cell_type": "code",
   "execution_count": 48,
   "id": "95277a26",
   "metadata": {
    "ExecuteTime": {
     "end_time": "2022-09-14T11:05:17.434331Z",
     "start_time": "2022-09-14T11:05:17.189481Z"
    }
   },
   "outputs": [
    {
     "data": {
      "text/html": [
       "<div>\n",
       "<style scoped>\n",
       "    .dataframe tbody tr th:only-of-type {\n",
       "        vertical-align: middle;\n",
       "    }\n",
       "\n",
       "    .dataframe tbody tr th {\n",
       "        vertical-align: top;\n",
       "    }\n",
       "\n",
       "    .dataframe thead th {\n",
       "        text-align: right;\n",
       "    }\n",
       "</style>\n",
       "<table border=\"1\" class=\"dataframe\">\n",
       "  <thead>\n",
       "    <tr style=\"text-align: right;\">\n",
       "      <th></th>\n",
       "      <th>Evento/Indicador</th>\n",
       "      <th>País</th>\n",
       "      <th>Periodo</th>\n",
       "      <th>Anterior</th>\n",
       "      <th>Previsto</th>\n",
       "      <th>Actual</th>\n",
       "    </tr>\n",
       "  </thead>\n",
       "  <tbody>\n",
       "    <tr>\n",
       "      <th>0</th>\n",
       "      <td>INDITEX - Resultados 1S 2022</td>\n",
       "      <td>INDITEX - Resultados 1S 2022</td>\n",
       "      <td>INDITEX - Resultados 1S 2022</td>\n",
       "      <td>INDITEX - Resultados 1S 2022</td>\n",
       "      <td>INDITEX - Resultados 1S 2022</td>\n",
       "      <td>INDITEX - Resultados 1S 2022</td>\n",
       "    </tr>\n",
       "    <tr>\n",
       "      <th>1</th>\n",
       "      <td>Producción Industrial</td>\n",
       "      <td>Japón</td>\n",
       "      <td>Julio</td>\n",
       "      <td>-1,0%</td>\n",
       "      <td>NaN</td>\n",
       "      <td>-1,2%</td>\n",
       "    </tr>\n",
       "    <tr>\n",
       "      <th>2</th>\n",
       "      <td>IPC subyacente</td>\n",
       "      <td>Reino Unido</td>\n",
       "      <td>Agosto</td>\n",
       "      <td>6,2%</td>\n",
       "      <td>6,3%</td>\n",
       "      <td>6,3%</td>\n",
       "    </tr>\n",
       "    <tr>\n",
       "      <th>3</th>\n",
       "      <td>IPC final</td>\n",
       "      <td>Reino Unido</td>\n",
       "      <td>Agosto</td>\n",
       "      <td>10,1%</td>\n",
       "      <td>10,2%</td>\n",
       "      <td>9,9%</td>\n",
       "    </tr>\n",
       "    <tr>\n",
       "      <th>4</th>\n",
       "      <td>Precios industriales</td>\n",
       "      <td>Reino Unido</td>\n",
       "      <td>Agosto</td>\n",
       "      <td>17,1%</td>\n",
       "      <td>17,4%</td>\n",
       "      <td>16,1%</td>\n",
       "    </tr>\n",
       "    <tr>\n",
       "      <th>5</th>\n",
       "      <td>Producción Industrial</td>\n",
       "      <td>UEM</td>\n",
       "      <td>Julio</td>\n",
       "      <td>2,4%</td>\n",
       "      <td>0,4%</td>\n",
       "      <td>NaN</td>\n",
       "    </tr>\n",
       "    <tr>\n",
       "      <th>6</th>\n",
       "      <td>Precios industriales</td>\n",
       "      <td>EEUU</td>\n",
       "      <td>Agosto</td>\n",
       "      <td>9,8%</td>\n",
       "      <td>8,8%</td>\n",
       "      <td>NaN</td>\n",
       "    </tr>\n",
       "    <tr>\n",
       "      <th>7</th>\n",
       "      <td>Precios industriales subyacente</td>\n",
       "      <td>EEUU</td>\n",
       "      <td>Agosto</td>\n",
       "      <td>7,6%</td>\n",
       "      <td>7,1%</td>\n",
       "      <td>NaN</td>\n",
       "    </tr>\n",
       "  </tbody>\n",
       "</table>\n",
       "</div>"
      ],
      "text/plain": [
       "                  Evento/Indicador                          País  \\\n",
       "0     INDITEX - Resultados 1S 2022  INDITEX - Resultados 1S 2022   \n",
       "1            Producción Industrial                         Japón   \n",
       "2                   IPC subyacente                   Reino Unido   \n",
       "3                        IPC final                   Reino Unido   \n",
       "4             Precios industriales                   Reino Unido   \n",
       "5            Producción Industrial                           UEM   \n",
       "6             Precios industriales                          EEUU   \n",
       "7  Precios industriales subyacente                          EEUU   \n",
       "\n",
       "                        Periodo                      Anterior  \\\n",
       "0  INDITEX - Resultados 1S 2022  INDITEX - Resultados 1S 2022   \n",
       "1                         Julio                         -1,0%   \n",
       "2                        Agosto                          6,2%   \n",
       "3                        Agosto                         10,1%   \n",
       "4                        Agosto                         17,1%   \n",
       "5                         Julio                          2,4%   \n",
       "6                        Agosto                          9,8%   \n",
       "7                        Agosto                          7,6%   \n",
       "\n",
       "                       Previsto                        Actual  \n",
       "0  INDITEX - Resultados 1S 2022  INDITEX - Resultados 1S 2022  \n",
       "1                           NaN                         -1,2%  \n",
       "2                          6,3%                          6,3%  \n",
       "3                         10,2%                          9,9%  \n",
       "4                         17,4%                         16,1%  \n",
       "5                          0,4%                           NaN  \n",
       "6                          8,8%                           NaN  \n",
       "7                          7,1%                           NaN  "
      ]
     },
     "execution_count": 48,
     "metadata": {},
     "output_type": "execute_result"
    }
   ],
   "source": [
    "taulaE = llista[4]\n",
    "taulaE.to_csv('tableBorsaE.csv')\n",
    "taulaE"
   ]
  },
  {
   "cell_type": "code",
   "execution_count": 49,
   "id": "4546c5f2",
   "metadata": {
    "ExecuteTime": {
     "end_time": "2022-09-14T11:05:17.683776Z",
     "start_time": "2022-09-14T11:05:17.438327Z"
    }
   },
   "outputs": [],
   "source": [
    "# anar continuant fins la 11"
   ]
  },
  {
   "cell_type": "code",
   "execution_count": 50,
   "id": "94b3cd83",
   "metadata": {
    "ExecuteTime": {
     "end_time": "2022-09-14T11:05:17.947151Z",
     "start_time": "2022-09-14T11:05:17.687770Z"
    }
   },
   "outputs": [
    {
     "data": {
      "text/html": [
       "<div>\n",
       "<style scoped>\n",
       "    .dataframe tbody tr th:only-of-type {\n",
       "        vertical-align: middle;\n",
       "    }\n",
       "\n",
       "    .dataframe tbody tr th {\n",
       "        vertical-align: top;\n",
       "    }\n",
       "\n",
       "    .dataframe thead th {\n",
       "        text-align: right;\n",
       "    }\n",
       "</style>\n",
       "<table border=\"1\" class=\"dataframe\">\n",
       "  <thead>\n",
       "    <tr style=\"text-align: right;\">\n",
       "      <th></th>\n",
       "      <th>Nombre</th>\n",
       "      <th>Efectivo *</th>\n",
       "    </tr>\n",
       "  </thead>\n",
       "  <tbody>\n",
       "    <tr>\n",
       "      <th>0</th>\n",
       "      <td>INDITEX</td>\n",
       "      <td>64.666,89</td>\n",
       "    </tr>\n",
       "    <tr>\n",
       "      <th>1</th>\n",
       "      <td>IBERDROLA</td>\n",
       "      <td>25.329,28</td>\n",
       "    </tr>\n",
       "    <tr>\n",
       "      <th>2</th>\n",
       "      <td>B.SANTANDER</td>\n",
       "      <td>20.807,65</td>\n",
       "    </tr>\n",
       "    <tr>\n",
       "      <th>3</th>\n",
       "      <td>CAIXABANK</td>\n",
       "      <td>20.513,95</td>\n",
       "    </tr>\n",
       "    <tr>\n",
       "      <th>4</th>\n",
       "      <td>BBVA</td>\n",
       "      <td>16.433,52</td>\n",
       "    </tr>\n",
       "  </tbody>\n",
       "</table>\n",
       "</div>"
      ],
      "text/plain": [
       "        Nombre Efectivo *\n",
       "0      INDITEX  64.666,89\n",
       "1    IBERDROLA  25.329,28\n",
       "2  B.SANTANDER  20.807,65\n",
       "3    CAIXABANK  20.513,95\n",
       "4         BBVA  16.433,52"
      ]
     },
     "execution_count": 50,
     "metadata": {},
     "output_type": "execute_result"
    }
   ],
   "source": [
    "taulaK = llista[10]\n",
    "taulaK.to_csv('tableBorsaK.csv')\n",
    "taulaK"
   ]
  },
  {
   "cell_type": "code",
   "execution_count": 51,
   "id": "8e1fb598",
   "metadata": {
    "ExecuteTime": {
     "end_time": "2022-09-14T11:05:18.227898Z",
     "start_time": "2022-09-14T11:05:17.950150Z"
    },
    "scrolled": true
   },
   "outputs": [
    {
     "data": {
      "text/html": [
       "<div>\n",
       "<style scoped>\n",
       "    .dataframe tbody tr th:only-of-type {\n",
       "        vertical-align: middle;\n",
       "    }\n",
       "\n",
       "    .dataframe tbody tr th {\n",
       "        vertical-align: top;\n",
       "    }\n",
       "\n",
       "    .dataframe thead th {\n",
       "        text-align: right;\n",
       "    }\n",
       "</style>\n",
       "<table border=\"1\" class=\"dataframe\">\n",
       "  <thead>\n",
       "    <tr style=\"text-align: right;\">\n",
       "      <th></th>\n",
       "      <th>0</th>\n",
       "      <th>1</th>\n",
       "      <th>2</th>\n",
       "    </tr>\n",
       "  </thead>\n",
       "  <tbody>\n",
       "    <tr>\n",
       "      <th>0</th>\n",
       "      <td>IBEX 35®</td>\n",
       "      <td>NaN</td>\n",
       "      <td>M. Continuo</td>\n",
       "    </tr>\n",
       "  </tbody>\n",
       "</table>\n",
       "</div>"
      ],
      "text/plain": [
       "          0   1            2\n",
       "0  IBEX 35® NaN  M. Continuo"
      ]
     },
     "execution_count": 51,
     "metadata": {},
     "output_type": "execute_result"
    }
   ],
   "source": [
    "taulaH = llista[7]\n",
    "taulaH.to_csv('table.csv')\n",
    "taulaH"
   ]
  },
  {
   "cell_type": "code",
   "execution_count": null,
   "id": "05c35f28",
   "metadata": {},
   "outputs": [],
   "source": []
  },
  {
   "cell_type": "markdown",
   "id": "7de2be4b",
   "metadata": {},
   "source": [
    "### WEB SCRAPbING DE LA PÀGINA WEB DE LA WIKIPEDIA AMB SELENIUM"
   ]
  },
  {
   "cell_type": "code",
   "execution_count": 52,
   "id": "d98ee05a",
   "metadata": {
    "ExecuteTime": {
     "end_time": "2022-09-14T11:05:20.154372Z",
     "start_time": "2022-09-14T11:05:18.231896Z"
    }
   },
   "outputs": [],
   "source": [
    "# Crida a les llibreries de selenium i del driver de Chorme, i obro i tanco una sessió\n",
    "\n",
    "from selenium import webdriver\n",
    "from selenium.webdriver.common.keys import Keys\n",
    "from selenium.webdriver.common.by import By\n",
    "from webdriver_manager.chrome import ChromeDriverManager\n",
    "from selenium.webdriver.chrome.options import Options as ChromeOptions\n",
    "\n",
    "\n",
    "op = webdriver.ChromeOptions()\n",
    "\n",
    "op.add_argument('--enable-extensions')\n",
    "\n",
    "wikiSelenium = webdriver.Chrome(options=op)\n"
   ]
  },
  {
   "cell_type": "code",
   "execution_count": 53,
   "id": "7d821440",
   "metadata": {
    "ExecuteTime": {
     "end_time": "2022-09-14T11:05:25.111994Z",
     "start_time": "2022-09-14T11:05:20.159370Z"
    }
   },
   "outputs": [],
   "source": [
    "# Activo la pàgina web\n",
    "wikiSelenium.get(\"https://ca.wikipedia.org/wiki/Cortals_del_Mig\")"
   ]
  },
  {
   "cell_type": "code",
   "execution_count": 54,
   "id": "931e8547",
   "metadata": {
    "ExecuteTime": {
     "end_time": "2022-09-14T11:05:25.191943Z",
     "start_time": "2022-09-14T11:05:25.117991Z"
    }
   },
   "outputs": [
    {
     "name": "stdout",
     "output_type": "stream",
     "text": [
      "Cortals del Mig - Viquipèdia, l'enciclopèdia lliure\n"
     ]
    }
   ],
   "source": [
    "# Demano informació del web, en aquest cas el títol de la pàgina web\n",
    "title = wikiSelenium.title\n",
    "print(title)"
   ]
  },
  {
   "cell_type": "code",
   "execution_count": 55,
   "id": "a5e4ef86",
   "metadata": {
    "ExecuteTime": {
     "end_time": "2022-09-14T11:05:25.363838Z",
     "start_time": "2022-09-14T11:05:25.196941Z"
    }
   },
   "outputs": [
    {
     "name": "stdout",
     "output_type": "stream",
     "text": [
      "https://ca.wikipedia.org/wiki/Cortals_del_Mig\n"
     ]
    }
   ],
   "source": [
    "# Mostrar URL\n",
    "print(wikiSelenium.current_url)"
   ]
  },
  {
   "cell_type": "code",
   "execution_count": 56,
   "id": "d54298b4",
   "metadata": {
    "ExecuteTime": {
     "end_time": "2022-09-14T11:05:25.644663Z",
     "start_time": "2022-09-14T11:05:25.367835Z"
    }
   },
   "outputs": [
    {
     "name": "stdout",
     "output_type": "stream",
     "text": [
      "<html class=\"client-js vector-animations-ready ve-available\" lang=\"ca\" dir=\"ltr\"><head>\n",
      "<meta charset=\"UTF-8\">\n",
      "<title>Cortals del Mig - Viquipèdia, l'enciclopèdia lliure</title>\n",
      "<script>document.documentElement.className=\"client-js\";RLCONF={\"wgBreakFrames\":false,\"wgSeparatorTransformTable\":[\",\\t.\",\".\\t,\"],\"wgDigitTransformTable\":[\"\",\"\"],\"wgDefaultDateFormat\":\"dmy\",\"wgMonthNames\":[\"\",\"gener\",\"febrer\",\"març\",\"abril\",\"maig\",\"juny\",\"juliol\",\"agost\",\"setembre\",\"octubre\",\"novembre\",\"desembre\"],\"wgRequestId\":\"b4f871e8-607c-41b3-bc33-c693210bdc3a\",\"wgCSPNonce\":false,\"wgCanonicalNamespace\":\"\",\"wgCanonicalSpecialPageName\":false,\"wgNamespaceNumber\":0,\"wgPageName\":\"Cortals_del_Mig\",\"wgTitle\":\"Cortals del Mig\",\"wgCurRevisionId\":30593126,\"wgRevisionId\":30593126,\"wgArticleId\":1516491,\"wgIsArticle\":true,\"wgIsRedirect\":false,\"wgAction\":\"view\",\"wgUserName\":null,\"wgUserGroups\":[\"*\"],\"wgCategories\":[\"Mapes amb diverses figures\",\"Articles amb coordenades\",\"Pàgines amb enllaç commonscat des de Wikidata\",\"Control d'autoritats\",\"Pàgines amb mapes\",\"Patrimoni monumental de Sant Hilari Sacalm\",\"Edificis de Sant Hilari Sacalm\"],\"wgPageContentLanguage\":\"ca\",\"wgPageContentModel\":\"wikitext\",\n",
      "\"wgRelevantPageName\":\"Cortals_del_Mig\",\"wgRelevantArticleId\":1516491,\"wgIsProbablyEditable\":true,\"wgRelevantPageIsProbablyEditable\":true,\"wgRestrictionEdit\":[],\"wgRestrictionMove\":[],\"wgVisualEditor\":{\"pageLanguageCode\":\"ca\",\"pageLanguageDir\":\"ltr\",\"pageVariantFallbacks\":\"ca\"},\"wgMFDisplayWikibaseDescriptions\":{\"search\":true,\"nearby\":true,\"watchlist\":true,\"tagline\":true},\"wgWMESchemaEditAttemptStepOversample\":false,\"wgWMEPageLength\":3000,\"wgNoticeProject\":\"wikipedia\",\"wgVector2022PreviewPages\":[],\"wgMediaViewerOnClick\":true,\"wgMediaViewerEnabledByDefault\":true,\"wgPopupsFlags\":10,\"wgULSCurrentAutonym\":\"català\",\"wgKartographerLiveData\":{\"_504c93584d8458e2f7bd1f2dff396e9fc8122cfc\":[{\"type\":\"ExternalData\",\"service\":\"geomask\",\"url\":\"https://maps.wikimedia.org/geoshape?getgeojson=1\\u0026ids=Q47184722\",\"properties\":{\"title\":\"geomask1\",\"fill-opacity\":0.2}},{\"features\":[{\"type\":\"Feature\",\"geometry\":{\"coordinates\":[2.46684,41.868315],\"type\":\"Point\"},\"properties\":{\"marker-size\":\"small\",\"title\":\n",
      "\"Cortals del Mig\",\"marker-symbol\":\"marker\",\"stroke-width\":5,\"marker-color\":\"FF0000\"}}],\"type\":\"FeatureCollection\"}]},\"wgCoordinates\":{\"lat\":41.868315,\"lon\":2.46684},\"wgEditSubmitButtonLabelPublish\":true,\"wgCentralAuthMobileDomain\":false,\"wgULSPosition\":\"interlanguage\",\"wgULSisCompactLinksEnabled\":true,\"wgWikibaseItemId\":\"Q47184722\",\"GEHomepageSuggestedEditsEnableTopics\":true,\"wgGETopicsMatchModeEnabled\":false,\"wgGEStructuredTaskRejectionReasonTextInputEnabled\":false};RLSTATE={\"skins.vector.user.styles\":\"ready\",\"ext.globalCssJs.user.styles\":\"ready\",\"site.styles\":\"ready\",\"user.styles\":\"ready\",\"skins.vector.user\":\"ready\",\"ext.globalCssJs.user\":\"ready\",\"user\":\"ready\",\"user.options\":\"loading\",\"ext.kartographer.style\":\"ready\",\"ext.cite.styles\":\"ready\",\"mediawiki.ui.button\":\"ready\",\"skins.vector.styles\":\"ready\",\"skins.vector.icons\":\"ready\",\"mediawiki.ui.icon\":\"ready\",\"ext.visualEditor.desktopArticleTarget.noscript\":\"ready\",\"ext.wikimediaBadges\":\"ready\",\"ext.uls.interlanguage\":\"ready\",\n",
      "\"wikibase.client.init\":\"ready\",\"wikibase.client.data-bridge.externalModifiers\":\"ready\"};RLPAGEMODULES=[\"ext.kartographer.staticframe\",\"ext.cite.ux-enhancements\",\"site\",\"mediawiki.page.ready\",\"skins.vector.js\",\"skins.vector.es6\",\"mmv.head\",\"mmv.bootstrap.autostart\",\"ext.visualEditor.desktopArticleTarget.init\",\"ext.visualEditor.targetLoader\",\"ext.eventLogging\",\"ext.wikimediaEvents\",\"ext.navigationTiming\",\"ext.cx.eventlogging.campaigns\",\"ext.quicksurveys.init\",\"ext.centralNotice.geoIP\",\"ext.centralNotice.startUp\",\"ext.gadget.ReferenceTooltips\",\"ext.gadget.UkensKonkurranse\",\"ext.gadget.refToolbar\",\"ext.gadget.charinsert\",\"ext.gadget.AltresViccionari\",\"ext.gadget.purgetab\",\"ext.gadget.DocTabs\",\"ext.gadget.switcher\",\"ext.centralauth.centralautologin\",\"ext.popups\",\"ext.uls.compactlinks\",\"ext.uls.interface\",\"ext.cx.uls.quick.actions\",\"wikibase.client.data-bridge.init\",\"ext.growthExperiments.SuggestedEditSession\"];</script>\n",
      "<script>(RLQ=window.RLQ||[]).push(function(){mw.loader.implement(\"user.options@12s5i\",function($,jQuery,require,module){mw.user.tokens.set({\"patrolToken\":\"+\\\\\",\"watchToken\":\"+\\\\\",\"csrfToken\":\"+\\\\\"});});});</script>\n",
      "<link rel=\"stylesheet\" href=\"/w/load.php?lang=ca&amp;modules=ext.cite.styles%7Cext.kartographer.style%7Cext.uls.interlanguage%7Cext.visualEditor.desktopArticleTarget.noscript%7Cext.wikimediaBadges%7Cmediawiki.ui.button%2Cicon%7Cskins.vector.icons%2Cstyles%7Cwikibase.client.data-bridge.externalModifiers%7Cwikibase.client.init&amp;only=styles&amp;skin=vector-2022\">\n",
      "<script async=\"\" src=\"/w/load.php?lang=ca&amp;modules=startup&amp;only=scripts&amp;raw=1&amp;skin=vector-2022\"></script>\n",
      "<style>\n",
      ".mw-spinner{position:relative}.mw-spinner > .mw-spinner-container{transform-origin:0 0}.mw-spinner-small{width:20px;height:20px}.mw-spinner-small > .mw-spinner-container{transform:scale(0.3125)}.mw-spinner-large{width:32px;height:32px}.mw-spinner-large > .mw-spinner-container{transform:scale(0.5)}.mw-spinner-block{display:block;width:100%;text-align:center}.mw-spinner-block > .mw-spinner-container{display:inline-block;vertical-align:top}.mw-spinner-block.mw-spinner-small > .mw-spinner-container{min-width:20px}.mw-spinner-block.mw-spinner-large > .mw-spinner-container{min-width:32px}.mw-spinner-inline{display:inline-block;vertical-align:middle} .mw-spinner-container > div{transform-origin:32px 32px;animation:mw-spinner 1.2s linear infinite}.mw-spinner-container > div:after{content:' ';display:block;position:absolute;top:3px; left:29px;width:5px;height:14px;border-radius:20%;background:#000}.mw-spinner-container > div:nth-child(1){transform:rotate(0deg);animation-delay:-1.1s}.mw-spinner-container > div:nth-child(2){transform:rotate(30deg);animation-delay:-1s}.mw-spinner-container > div:nth-child(3){transform:rotate(60deg);animation-delay:-0.9s}.mw-spinner-container > div:nth-child(4){transform:rotate(90deg);animation-delay:-0.8s}.mw-spinner-container > div:nth-child(5){transform:rotate(120deg);animation-delay:-0.7s}.mw-spinner-container > div:nth-child(6){transform:rotate(150deg);animation-delay:-0.6s}.mw-spinner-container > div:nth-child(7){transform:rotate(180deg);animation-delay:-0.5s}.mw-spinner-container > div:nth-child(8){transform:rotate(210deg);animation-delay:-0.4s}.mw-spinner-container > div:nth-child(9){transform:rotate(240deg);animation-delay:-0.3s}.mw-spinner-container > div:nth-child(10){transform:rotate(270deg);animation-delay:-0.2s}.mw-spinner-container > div:nth-child(11){transform:rotate(300deg);animation-delay:-0.1s}.mw-spinner-container > div:nth-child(12){transform:rotate(330deg);animation-delay:0s}@keyframes mw-spinner{0%{opacity:1}100%{opacity:0}}\n",
      ".mw-editfont-monospace{font-family:monospace,monospace}.mw-editfont-sans-serif{font-family:sans-serif}.mw-editfont-serif{font-family:serif} .mw-editfont-monospace,.mw-editfont-sans-serif,.mw-editfont-serif{  font-size:13px;  -moz-tab-size:4; tab-size:4; }.mw-editfont-monospace.oo-ui-textInputWidget,.mw-editfont-sans-serif.oo-ui-textInputWidget,.mw-editfont-serif.oo-ui-textInputWidget{font-size:inherit}.mw-editfont-monospace.oo-ui-textInputWidget > .oo-ui-inputWidget-input,.mw-editfont-sans-serif.oo-ui-textInputWidget > .oo-ui-inputWidget-input,.mw-editfont-serif.oo-ui-textInputWidget > .oo-ui-inputWidget-input{  font-size:13px}.mw-editfont-monospace.oo-ui-textInputWidget > input.oo-ui-inputWidget-input,.mw-editfont-sans-serif.oo-ui-textInputWidget > input.oo-ui-inputWidget-input,.mw-editfont-serif.oo-ui-textInputWidget > input.oo-ui-inputWidget-input{min-height:32px}\n",
      ".oo-ui-element-hidden{display:none !important}.oo-ui-buttonElement{display:inline-block;line-height:normal;vertical-align:middle}.oo-ui-buttonElement > .oo-ui-buttonElement-button{cursor:pointer;display:inline-block;box-sizing:border-box;vertical-align:middle;font-family:inherit;font-size:inherit;white-space:nowrap;-webkit-touch-callout:none;-webkit-user-select:none;-moz-user-select:none;-ms-user-select:none;user-select:none}.oo-ui-buttonElement > .oo-ui-buttonElement-button::-moz-focus-inner{border-color:transparent;padding:0}.oo-ui-buttonElement.oo-ui-widget-disabled > .oo-ui-buttonElement-button{cursor:default}.oo-ui-buttonElement-frameless{position:relative}.oo-ui-buttonElement-framed > .oo-ui-buttonElement-button{vertical-align:top;text-align:center}.oo-ui-buttonElement > .oo-ui-buttonElement-button{position:relative;min-height:32px;border-radius:2px;padding-top:2.14285714em;font-weight:bold;text-decoration:none}.oo-ui-buttonElement > input.oo-ui-buttonElement-button{ -webkit-appearance:none}.oo-ui-buttonElement.oo-ui-labelElement > .oo-ui-buttonElement-button{line-height:1}.oo-ui-buttonElement.oo-ui-labelElement > input.oo-ui-buttonElement-button,.oo-ui-buttonElement.oo-ui-labelElement > .oo-ui-buttonElement-button > .oo-ui-labelElement-label{line-height:1.42857143em}.oo-ui-buttonElement.oo-ui-labelElement.oo-ui-indicatorElement > .oo-ui-buttonElement-button{padding-right:2.14285714em}.oo-ui-buttonElement.oo-ui-iconElement .oo-ui-iconElement-icon,.oo-ui-buttonElement.oo-ui-indicatorElement .oo-ui-indicatorElement-indicator{transform:translateZ(0)}.oo-ui-buttonElement.oo-ui-indicatorElement.oo-ui-labelElement > .oo-ui-buttonElement-button > .oo-ui-indicatorElement-indicator,.oo-ui-buttonElement.oo-ui-indicatorElement.oo-ui-iconElement > .oo-ui-buttonElement-button > .oo-ui-indicatorElement-indicator{right:0.71428571em}.oo-ui-buttonElement.oo-ui-widget-enabled > .oo-ui-buttonElement-button{transition:background-color 100ms,color 100ms,border-color 100ms,box-shadow 100ms}.oo-ui-buttonElement.oo-ui-widget-enabled > .oo-ui-buttonElement-button > .oo-ui-iconElement-icon,.oo-ui-buttonElement.oo-ui-widget-enabled > .oo-ui-buttonElement-button > .oo-ui-indicatorElement-indicator{transition:opacity 100ms}.oo-ui-buttonElement.oo-ui-widget-enabled > .oo-ui-buttonElement-"
     ]
    },
    {
     "data": {
      "text/html": [
       "<b>limit_output extension: Maximum message size of 10000 exceeded with 346655 characters</b>"
      ]
     },
     "metadata": {},
     "output_type": "display_data"
    }
   ],
   "source": [
    "# Mostrar pàgina en HTML\n",
    "print(wikiSelenium.page_source)"
   ]
  },
  {
   "cell_type": "markdown",
   "id": "192eb64a",
   "metadata": {},
   "source": [
    "Establir una estratègia d'espera\n",
    "Sincronitzar el codi amb l'estat actual del navegador és un dels grans reptes de Selenium, i fer-ho bé és un tema avançat.\n",
    "\n",
    "Bàsicament, voleu assegurar-vos que l'element es troba a la pàgina abans d'intentar localitzar-lo i que l'element estigui en un estat d'interacció abans d'intentar interactuar amb ell.\n",
    "\n",
    "Una espera implícita rarament és la millor solució, però aquí és la més fàcil de demostrar, així que l'utilitzarem com a marcador de posició."
   ]
  },
  {
   "cell_type": "code",
   "execution_count": 57,
   "id": "c34df76b",
   "metadata": {
    "ExecuteTime": {
     "end_time": "2022-09-14T11:05:25.814558Z",
     "start_time": "2022-09-14T11:05:25.648660Z"
    }
   },
   "outputs": [],
   "source": [
    "wikiSelenium.implicitly_wait(0.5)"
   ]
  },
  {
   "cell_type": "code",
   "execution_count": 58,
   "id": "676e8e76",
   "metadata": {
    "ExecuteTime": {
     "end_time": "2022-09-14T11:05:26.315248Z",
     "start_time": "2022-09-14T11:05:25.819557Z"
    }
   },
   "outputs": [
    {
     "name": "stdout",
     "output_type": "stream",
     "text": [
      "Vés al contingut\n",
      "Mostra o oculta la barra lateral\n",
      "Crea un compte\n",
      "Eines personals\n",
      "Wiki Loves Monuments: Fotografia un monument, ajuda la Viquipèdia i guanya!\n",
      "Més informació\n",
      "Afegeix llengües\n",
      "Cortals del Mig\n",
      "Pàgina\n",
      "Discussió\n",
      "Mostra\n",
      "Modifica\n",
      "Mostra l'historial\n",
      "Més\n",
      "Cortals del Mig\n",
      "Els Cortals del Mig\n",
      "Dades\n",
      "Tipus Masia\n",
      "Construcció segle xviii\n",
      "Característiques\n",
      "Estil arquitectònic arquitectura popular\n",
      "Localització geogràfica\n",
      "Entitat territorial administrativa Sant Hilari Sacalm (Selva)\n",
      "Wikimedia | © OpenStreetMap\n",
      " 41° 52′ 06″ N, 2° 28′ 01″ E\n",
      "Coord.: 41° 52′ 06″ N, 2° 28′ 01″ E (mapa)\n",
      "Bé integrant del patrimoni cultural català\n",
      "Identificador 34074\n",
      "Cortals del Mig és un edifici, actualment un restaurant, de Sant Hilari Sacalm (Selva) que figura a l'Inventari del Patrimoni Arquitectònic de Catalunya. Es troba en un trencall a l'esquerra de la carretera que va a Vic.[1]\n",
      "Descripció[modifica]\n",
      "El restaurant està conformat per un conjunt d'edificis: un a la dreta, que és el més recent i és d'ús privat i amb una edificació annexa just al costat dret, un altre al centre, que compleix la funció de restaurant, i un altre a l'esquerra, que és l'edifici originari.[1]\n",
      "L'habitatge és una construcció actual (a la qual s'accedeix a través d'un petit caminet asfaltat que està ornamentat a banda i banda per un jardí) que tanmateix ha intentat conservar en alguns aspectes la tipologia de la típica masia catalana, com és per exemple, la construcció en maçoneria. Té un ràfec quàdruple i una teulada a dues vessants amb un fort desnivell, i amb un fumeral de secció quadrangular. A la planta baixa hi ha la porta d'accés, en arc escarser i amb llinda i brancals amb maons col·locats en sardinell. Als dos costats de la porta hi ha diverses finestres de diferents mides, totes elles en arc pla i amb llinda i brancals en sardinell. Al pis superior, les obertures segueixen el pendent de la teulada, les dues finestres centrals, més grans, tenen una barana de forja.[1]\n",
      "L'edifici annex a l'habitatge també està construït en maçoneria i les seves obertures segueixen la mateixa estructura que les de l'habitatge. A aquest edifici s'accedeix a través d'unes escales ascendents.[1]\n",
      "L'edifici que s'utilitza com a restaurant, per la seva estructura sembla que antigament podria haver estat una pallissa. Té un ràfec doble i una teulada a doble vessant en teula àrab. L'entrada és en arc pla, però a la part superior, sobre una llinda de fusta, hi ha un arc de mig punt fet amb maons i col·locats en sardinell. La façana també està realitzada en maçoneria.[1]\n",
      "L'edifici originari (també utilitzat com a restaurant) està actualment arrebossat i pintat de color ocre. La teulada és a diferents nivells i en teula àrab. Es compon de diversos cossos de mides diferents. Totes les obertures són en arc pla i molt senzilles, i només queda la pedra originària de la llinda i brancals de la porta d'entrada.[1]\n",
      "Al costat de l'edifici originari hi ha un original rellotge de sol.[1]\n",
      "Referències[modifica]\n",
      "A Wikimedia Commons hi ha contingut multimèdia relatiu a: Cortals del Mig\n",
      "↑\n",
      "1,0 1,1 1,2 1,3 1,4 1,5 1,6 «Els Cortals». Inventari del Patrimoni Arquitectònic. Direcció General del Patrimoni Cultural de la Generalitat de Catalunya. [Consulta: 25 agost 2017].\n",
      "Bases d'informació\n",
      "GEC (1)\n",
      "Categories: Patrimoni monumental de Sant Hilari SacalmEdificis de Sant Hilari Sacalm\n",
      "La pàgina va ser modificada per darrera vegada el 29 ago 2022 a les 20:02.\n",
      "El text està disponible sota la Llicència de Creative Commons Reconeixement i Compartir-Igual; es poden aplicar termes addicionals. Vegeu les Condicions d'ús. Wikipedia® (Viquipèdia™) és una marca registrada de Wikimedia Foundation, Inc.\n",
      "Política de privadesa\n",
      "Quant al projecte Viquipèdia\n",
      "Descàrrec de responsabilitat\n",
      "Versió per a mòbils\n",
      "Desenvolupadors\n",
      "Estadístiques\n",
      "Declaració de cookies\n"
     ]
    }
   ],
   "source": [
    "# Interactuar amb elements de classe\n",
    "\n",
    "elementClasse = wikiSelenium.find_elements(by = By.CLASS_NAME, value=\"skin-vector\")\n",
    "for el in elementClasse:\n",
    "    print(el.text)"
   ]
  },
  {
   "cell_type": "code",
   "execution_count": 59,
   "id": "0c1a1011",
   "metadata": {
    "ExecuteTime": {
     "end_time": "2022-09-14T11:05:26.738895Z",
     "start_time": "2022-09-14T11:05:26.319246Z"
    }
   },
   "outputs": [
    {
     "name": "stdout",
     "output_type": "stream",
     "text": [
      "\n"
     ]
    }
   ],
   "source": [
    "# Interactuar amb elements de classe\n",
    "\n",
    "elementClasse2 = wikiSelenium.find_elements(by = By.CLASS_NAME, value=\"oo-ui-element-hidden\")\n",
    "for el in elementClasse2:\n",
    "    print(el.text)"
   ]
  },
  {
   "cell_type": "code",
   "execution_count": 60,
   "id": "ab0e2184",
   "metadata": {
    "ExecuteTime": {
     "end_time": "2022-09-14T11:05:27.080684Z",
     "start_time": "2022-09-14T11:05:26.743890Z"
    }
   },
   "outputs": [
    {
     "data": {
      "text/plain": [
       "5"
      ]
     },
     "execution_count": 60,
     "metadata": {},
     "output_type": "execute_result"
    }
   ],
   "source": [
    "# Interactuar amb elements amb una taula\n",
    "import pandas as pd\n",
    "\n",
    "taula = wikiSelenium.page_source\n",
    "llista = pd.read_html(taula)\n",
    "\n",
    "len(llista)"
   ]
  },
  {
   "cell_type": "code",
   "execution_count": 61,
   "id": "1847d978",
   "metadata": {
    "ExecuteTime": {
     "end_time": "2022-09-14T11:05:27.159633Z",
     "start_time": "2022-09-14T11:05:27.084679Z"
    }
   },
   "outputs": [
    {
     "data": {
      "text/html": [
       "<div>\n",
       "<style scoped>\n",
       "    .dataframe tbody tr th:only-of-type {\n",
       "        vertical-align: middle;\n",
       "    }\n",
       "\n",
       "    .dataframe tbody tr th {\n",
       "        vertical-align: top;\n",
       "    }\n",
       "\n",
       "    .dataframe thead th {\n",
       "        text-align: right;\n",
       "    }\n",
       "</style>\n",
       "<table border=\"1\" class=\"dataframe\">\n",
       "  <thead>\n",
       "    <tr style=\"text-align: right;\">\n",
       "      <th></th>\n",
       "      <th>Cortals del Mig</th>\n",
       "      <th>Cortals del Mig.1</th>\n",
       "    </tr>\n",
       "  </thead>\n",
       "  <tbody>\n",
       "    <tr>\n",
       "      <th>0</th>\n",
       "      <td>NaN</td>\n",
       "      <td>NaN</td>\n",
       "    </tr>\n",
       "    <tr>\n",
       "      <th>1</th>\n",
       "      <td>.mw-parser-output .img_toogle ul{list-style:no...</td>\n",
       "      <td>.mw-parser-output .img_toogle ul{list-style:no...</td>\n",
       "    </tr>\n",
       "    <tr>\n",
       "      <th>2</th>\n",
       "      <td>NaN</td>\n",
       "      <td>NaN</td>\n",
       "    </tr>\n",
       "    <tr>\n",
       "      <th>3</th>\n",
       "      <td>Els Cortals del Mig</td>\n",
       "      <td>NaN</td>\n",
       "    </tr>\n",
       "    <tr>\n",
       "      <th>4</th>\n",
       "      <td>Dades</td>\n",
       "      <td>Dades</td>\n",
       "    </tr>\n",
       "    <tr>\n",
       "      <th>5</th>\n",
       "      <td>Tipus</td>\n",
       "      <td>Masia</td>\n",
       "    </tr>\n",
       "    <tr>\n",
       "      <th>6</th>\n",
       "      <td>Construcció</td>\n",
       "      <td>segle XVIII</td>\n",
       "    </tr>\n",
       "    <tr>\n",
       "      <th>7</th>\n",
       "      <td>Característiques</td>\n",
       "      <td>Característiques</td>\n",
       "    </tr>\n",
       "    <tr>\n",
       "      <th>8</th>\n",
       "      <td>Estil arquitectònic</td>\n",
       "      <td>arquitectura popular</td>\n",
       "    </tr>\n",
       "    <tr>\n",
       "      <th>9</th>\n",
       "      <td>Localització geogràfica</td>\n",
       "      <td>Localització geogràfica</td>\n",
       "    </tr>\n",
       "    <tr>\n",
       "      <th>10</th>\n",
       "      <td>NaN</td>\n",
       "      <td>NaN</td>\n",
       "    </tr>\n",
       "    <tr>\n",
       "      <th>11</th>\n",
       "      <td>Entitat territorial administrativa</td>\n",
       "      <td>Sant Hilari Sacalm (Selva)</td>\n",
       "    </tr>\n",
       "    <tr>\n",
       "      <th>12</th>\n",
       "      <td>Wikimedia | © OpenStreetMap 41° 52′ 06″ N, 2° ...</td>\n",
       "      <td>Wikimedia | © OpenStreetMap 41° 52′ 06″ N, 2° ...</td>\n",
       "    </tr>\n",
       "    <tr>\n",
       "      <th>13</th>\n",
       "      <td>Wikimedia | © OpenStreetMap</td>\n",
       "      <td>NaN</td>\n",
       "    </tr>\n",
       "    <tr>\n",
       "      <th>14</th>\n",
       "      <td>41° 52′ 06″ N, 2° 28′ 01″ E﻿ / ﻿41.868315°N,2....</td>\n",
       "      <td>41° 52′ 06″ N, 2° 28′ 01″ E﻿ / ﻿41.868315°N,2....</td>\n",
       "    </tr>\n",
       "    <tr>\n",
       "      <th>15</th>\n",
       "      <td>NaN</td>\n",
       "      <td>NaN</td>\n",
       "    </tr>\n",
       "    <tr>\n",
       "      <th>16</th>\n",
       "      <td>NaN</td>\n",
       "      <td>NaN</td>\n",
       "    </tr>\n",
       "    <tr>\n",
       "      <th>17</th>\n",
       "      <td>Bé integrant del patrimoni cultural català</td>\n",
       "      <td>Bé integrant del patrimoni cultural català</td>\n",
       "    </tr>\n",
       "    <tr>\n",
       "      <th>18</th>\n",
       "      <td>Identificador</td>\n",
       "      <td>34074</td>\n",
       "    </tr>\n",
       "    <tr>\n",
       "      <th>19</th>\n",
       "      <td>NaN</td>\n",
       "      <td>NaN</td>\n",
       "    </tr>\n",
       "  </tbody>\n",
       "</table>\n",
       "</div>"
      ],
      "text/plain": [
       "                                      Cortals del Mig  \\\n",
       "0                                                 NaN   \n",
       "1   .mw-parser-output .img_toogle ul{list-style:no...   \n",
       "2                                                 NaN   \n",
       "3                                 Els Cortals del Mig   \n",
       "4                                               Dades   \n",
       "5                                               Tipus   \n",
       "6                                         Construcció   \n",
       "7                                    Característiques   \n",
       "8                                 Estil arquitectònic   \n",
       "9                             Localització geogràfica   \n",
       "10                                                NaN   \n",
       "11                 Entitat territorial administrativa   \n",
       "12  Wikimedia | © OpenStreetMap 41° 52′ 06″ N, 2° ...   \n",
       "13                        Wikimedia | © OpenStreetMap   \n",
       "14  41° 52′ 06″ N, 2° 28′ 01″ E﻿ / ﻿41.868315°N,2....   \n",
       "15                                                NaN   \n",
       "16                                                NaN   \n",
       "17         Bé integrant del patrimoni cultural català   \n",
       "18                                      Identificador   \n",
       "19                                                NaN   \n",
       "\n",
       "                                    Cortals del Mig.1  \n",
       "0                                                 NaN  \n",
       "1   .mw-parser-output .img_toogle ul{list-style:no...  \n",
       "2                                                 NaN  \n",
       "3                                                 NaN  \n",
       "4                                               Dades  \n",
       "5                                               Masia  \n",
       "6                                         segle XVIII  \n",
       "7                                    Característiques  \n",
       "8                                arquitectura popular  \n",
       "9                             Localització geogràfica  \n",
       "10                                                NaN  \n",
       "11                         Sant Hilari Sacalm (Selva)  \n",
       "12  Wikimedia | © OpenStreetMap 41° 52′ 06″ N, 2° ...  \n",
       "13                                                NaN  \n",
       "14  41° 52′ 06″ N, 2° 28′ 01″ E﻿ / ﻿41.868315°N,2....  \n",
       "15                                                NaN  \n",
       "16                                                NaN  \n",
       "17         Bé integrant del patrimoni cultural català  \n",
       "18                                              34074  \n",
       "19                                                NaN  "
      ]
     },
     "execution_count": 61,
     "metadata": {},
     "output_type": "execute_result"
    }
   ],
   "source": [
    "# Podem extreure 5 taules diferents, per tant les podríem anar imprimint per veure què contenen\n",
    "\n",
    "taulaA = llista[0]\n",
    "taulaA.to_csv('tableWikiA.csv')\n",
    "taulaA"
   ]
  },
  {
   "cell_type": "code",
   "execution_count": 62,
   "id": "f1dbf6eb",
   "metadata": {
    "ExecuteTime": {
     "end_time": "2022-09-14T11:05:27.424215Z",
     "start_time": "2022-09-14T11:05:27.163630Z"
    }
   },
   "outputs": [
    {
     "data": {
      "text/html": [
       "<div>\n",
       "<style scoped>\n",
       "    .dataframe tbody tr th:only-of-type {\n",
       "        vertical-align: middle;\n",
       "    }\n",
       "\n",
       "    .dataframe tbody tr th {\n",
       "        vertical-align: top;\n",
       "    }\n",
       "\n",
       "    .dataframe thead th {\n",
       "        text-align: right;\n",
       "    }\n",
       "</style>\n",
       "<table border=\"1\" class=\"dataframe\">\n",
       "  <thead>\n",
       "    <tr style=\"text-align: right;\">\n",
       "      <th></th>\n",
       "      <th>0</th>\n",
       "    </tr>\n",
       "  </thead>\n",
       "  <tbody>\n",
       "    <tr>\n",
       "      <th>0</th>\n",
       "      <td>Els Cortals del Mig</td>\n",
       "    </tr>\n",
       "  </tbody>\n",
       "</table>\n",
       "</div>"
      ],
      "text/plain": [
       "                     0\n",
       "0  Els Cortals del Mig"
      ]
     },
     "execution_count": 62,
     "metadata": {},
     "output_type": "execute_result"
    }
   ],
   "source": [
    "taulaB = llista[1]\n",
    "taulaB.to_csv('tableWikiB.csv')\n",
    "taulaB\n"
   ]
  },
  {
   "cell_type": "code",
   "execution_count": 63,
   "id": "40c1eb1d",
   "metadata": {
    "ExecuteTime": {
     "end_time": "2022-09-14T11:05:27.644238Z",
     "start_time": "2022-09-14T11:05:27.428211Z"
    }
   },
   "outputs": [
    {
     "data": {
      "text/html": [
       "<div>\n",
       "<style scoped>\n",
       "    .dataframe tbody tr th:only-of-type {\n",
       "        vertical-align: middle;\n",
       "    }\n",
       "\n",
       "    .dataframe tbody tr th {\n",
       "        vertical-align: top;\n",
       "    }\n",
       "\n",
       "    .dataframe thead th {\n",
       "        text-align: right;\n",
       "    }\n",
       "</style>\n",
       "<table border=\"1\" class=\"dataframe\">\n",
       "  <thead>\n",
       "    <tr style=\"text-align: right;\">\n",
       "      <th></th>\n",
       "      <th>0</th>\n",
       "      <th>1</th>\n",
       "    </tr>\n",
       "  </thead>\n",
       "  <tbody>\n",
       "    <tr>\n",
       "      <th>0</th>\n",
       "      <td>Wikimedia | © OpenStreetMap</td>\n",
       "      <td>NaN</td>\n",
       "    </tr>\n",
       "    <tr>\n",
       "      <th>1</th>\n",
       "      <td>41° 52′ 06″ N, 2° 28′ 01″ E﻿ / ﻿41.868315°N,2....</td>\n",
       "      <td>41° 52′ 06″ N, 2° 28′ 01″ E﻿ / ﻿41.868315°N,2....</td>\n",
       "    </tr>\n",
       "  </tbody>\n",
       "</table>\n",
       "</div>"
      ],
      "text/plain": [
       "                                                   0  \\\n",
       "0                        Wikimedia | © OpenStreetMap   \n",
       "1  41° 52′ 06″ N, 2° 28′ 01″ E﻿ / ﻿41.868315°N,2....   \n",
       "\n",
       "                                                   1  \n",
       "0                                                NaN  \n",
       "1  41° 52′ 06″ N, 2° 28′ 01″ E﻿ / ﻿41.868315°N,2....  "
      ]
     },
     "execution_count": 63,
     "metadata": {},
     "output_type": "execute_result"
    }
   ],
   "source": [
    "taulaC = llista[2]\n",
    "taulaC.to_csv('tableWikiC.csv')\n",
    "taulaC\n"
   ]
  },
  {
   "cell_type": "code",
   "execution_count": 64,
   "id": "e9453453",
   "metadata": {
    "ExecuteTime": {
     "end_time": "2022-09-14T11:05:27.862103Z",
     "start_time": "2022-09-14T11:05:27.650235Z"
    }
   },
   "outputs": [
    {
     "data": {
      "text/html": [
       "<div>\n",
       "<style scoped>\n",
       "    .dataframe tbody tr th:only-of-type {\n",
       "        vertical-align: middle;\n",
       "    }\n",
       "\n",
       "    .dataframe tbody tr th {\n",
       "        vertical-align: top;\n",
       "    }\n",
       "\n",
       "    .dataframe thead th {\n",
       "        text-align: right;\n",
       "    }\n",
       "</style>\n",
       "<table border=\"1\" class=\"dataframe\">\n",
       "  <thead>\n",
       "    <tr style=\"text-align: right;\">\n",
       "      <th></th>\n",
       "      <th>0</th>\n",
       "      <th>1</th>\n",
       "    </tr>\n",
       "  </thead>\n",
       "  <tbody>\n",
       "    <tr>\n",
       "      <th>0</th>\n",
       "      <td>NaN</td>\n",
       "      <td>A Wikimedia Commons hi ha contingut multimèdia...</td>\n",
       "    </tr>\n",
       "  </tbody>\n",
       "</table>\n",
       "</div>"
      ],
      "text/plain": [
       "    0                                                  1\n",
       "0 NaN  A Wikimedia Commons hi ha contingut multimèdia..."
      ]
     },
     "execution_count": 64,
     "metadata": {},
     "output_type": "execute_result"
    }
   ],
   "source": [
    "taulaD = llista[3]\n",
    "taulaD.to_csv('tableWikiD.csv')\n",
    "taulaD"
   ]
  },
  {
   "cell_type": "code",
   "execution_count": 65,
   "id": "c6bafaa6",
   "metadata": {
    "ExecuteTime": {
     "end_time": "2022-09-14T11:05:28.142928Z",
     "start_time": "2022-09-14T11:05:27.866102Z"
    }
   },
   "outputs": [
    {
     "data": {
      "text/html": [
       "<div>\n",
       "<style scoped>\n",
       "    .dataframe tbody tr th:only-of-type {\n",
       "        vertical-align: middle;\n",
       "    }\n",
       "\n",
       "    .dataframe tbody tr th {\n",
       "        vertical-align: top;\n",
       "    }\n",
       "\n",
       "    .dataframe thead th {\n",
       "        text-align: right;\n",
       "    }\n",
       "</style>\n",
       "<table border=\"1\" class=\"dataframe\">\n",
       "  <thead>\n",
       "    <tr style=\"text-align: right;\">\n",
       "      <th></th>\n",
       "      <th>0</th>\n",
       "      <th>1</th>\n",
       "    </tr>\n",
       "  </thead>\n",
       "  <tbody>\n",
       "    <tr>\n",
       "      <th>0</th>\n",
       "      <td>Bases d'informació</td>\n",
       "      <td>GEC (1)</td>\n",
       "    </tr>\n",
       "  </tbody>\n",
       "</table>\n",
       "</div>"
      ],
      "text/plain": [
       "                    0        1\n",
       "0  Bases d'informació  GEC (1)"
      ]
     },
     "execution_count": 65,
     "metadata": {},
     "output_type": "execute_result"
    }
   ],
   "source": [
    "taulaE = llista[4]\n",
    "taulaE.to_csv('tableWikiE.csv')\n",
    "taulaE"
   ]
  },
  {
   "cell_type": "markdown",
   "id": "c05b5813",
   "metadata": {},
   "source": [
    "## EXERCICI 2\n",
    "Documenta en un Word el teu conjunt de dades generat amb la informació que tenen els diferents arxius de Kaggle.\n",
    "\n",
    " Per saber més\n",
    "\n",
    "A manera d'exemple del que es demana pots consultar aquest enllaç:\n",
    "\n",
    "->https://www.kaggle.com/datasets/vivovinco/20212022-football-team-stats.\n",
    "\n"
   ]
  },
  {
   "attachments": {
    "kaggle_borsa.png": {
     "image/png": "[encoded data removed]"
    }
   },
   "cell_type": "markdown",
   "id": "2055d3d8",
   "metadata": {
    "ExecuteTime": {
     "end_time": "2022-09-14T10:42:32.984130Z",
     "start_time": "2022-09-14T10:42:32.066697Z"
    }
   },
   "source": [
    "- URL de les taules del web de la borsa Espanyola visualitzades amb Kaggle\n",
    "\n",
    "    https://kaggle.com/datasets/6296fd42f12fe965186df025d84394e435a40984d12219dcc3ccfadb42b10efc\n",
    "\n",
    "    ![kaggle_borsa.png](attachment:kaggle_borsa.png)\n"
   ]
  },
  {
   "attachments": {
    "kaggle_wiki.png": {
     "image/png": "[encoded data removed]"
    }
   },
   "cell_type": "markdown",
   "id": "7fbc47ff",
   "metadata": {},
   "source": [
    "- URL de les taules del buscador de la wikipedia visualitzades amb Kaggle\n",
    "    \n",
    "    https://kaggle.com/datasets/e29de6265f8923d52a5e8a95299e0c2e9af840fe1abfe6e1965a36c3fcc5de38\n",
    "\n",
    "  ![kaggle_wiki.png](attachment:kaggle_wiki.png)      "
   ]
  },
  {
   "cell_type": "code",
   "execution_count": null,
   "id": "bd97bd2b",
   "metadata": {},
   "outputs": [],
   "source": []
  },
  {
   "cell_type": "code",
   "execution_count": null,
   "id": "61df7d42",
   "metadata": {},
   "outputs": [],
   "source": []
  },
  {
   "cell_type": "markdown",
   "id": "6c01a5bb",
   "metadata": {},
   "source": [
    "\n",
    "\n",
    "## EXERCICI 3\n",
    "Tria una pàgina web que tu vulguis i realitza web scraping mitjançant la llibreria Selenium primer i Scrapy després. "
   ]
  },
  {
   "cell_type": "markdown",
   "id": "8437380f",
   "metadata": {},
   "source": [
    "### PÀGINA WEB DE NOVTEC AMB SELENIUM"
   ]
  },
  {
   "cell_type": "code",
   "execution_count": 66,
   "id": "2bfd17c7",
   "metadata": {
    "ExecuteTime": {
     "end_time": "2022-09-14T11:05:30.014767Z",
     "start_time": "2022-09-14T11:05:28.151923Z"
    }
   },
   "outputs": [],
   "source": [
    "# Crida a les llibreries de selenium i del driver de Chorme, i obro i tanco una sessió\n",
    "\n",
    "from selenium import webdriver\n",
    "from selenium.webdriver.common.keys import Keys\n",
    "from selenium.webdriver.common.by import By\n",
    "from webdriver_manager.chrome import ChromeDriverManager\n",
    "from selenium.webdriver.chrome.options import Options as ChromeOptions\n",
    "\n",
    "\n",
    "op = webdriver.ChromeOptions()\n",
    "\n",
    "op.add_argument('--enable-extensions')\n",
    "\n",
    "novtecSelenium = webdriver.Chrome(options=op)"
   ]
  },
  {
   "cell_type": "code",
   "execution_count": 67,
   "id": "282c29c2",
   "metadata": {
    "ExecuteTime": {
     "end_time": "2022-09-14T11:06:04.576625Z",
     "start_time": "2022-09-14T11:05:30.024765Z"
    }
   },
   "outputs": [],
   "source": [
    "# Activo la pàgina web\n",
    "novtecSelenium.get(\"http://novtec.es/ca/\")\n"
   ]
  },
  {
   "cell_type": "code",
   "execution_count": 68,
   "id": "ab185115",
   "metadata": {
    "ExecuteTime": {
     "end_time": "2022-09-14T11:06:04.637585Z",
     "start_time": "2022-09-14T11:06:04.584620Z"
    }
   },
   "outputs": [
    {
     "name": "stdout",
     "output_type": "stream",
     "text": [
      "NOVTEC – Empresa dedicada al desenvolupament i posada en marxa de noves tecnologies per a tots els sectors d'activitat\n"
     ]
    }
   ],
   "source": [
    "# Demano informació del web, en aquest cas el títol de la pàgina web\n",
    "title = novtecSelenium.title\n",
    "print(title)"
   ]
  },
  {
   "cell_type": "code",
   "execution_count": 69,
   "id": "c8098ee1",
   "metadata": {
    "ExecuteTime": {
     "end_time": "2022-09-14T11:06:04.701547Z",
     "start_time": "2022-09-14T11:06:04.644582Z"
    }
   },
   "outputs": [
    {
     "name": "stdout",
     "output_type": "stream",
     "text": [
      "http://novtec.es/ca/\n"
     ]
    }
   ],
   "source": [
    "# Mostrar URL\n",
    "print(novtecSelenium.current_url)"
   ]
  },
  {
   "cell_type": "code",
   "execution_count": 70,
   "id": "e77f7865",
   "metadata": {
    "ExecuteTime": {
     "end_time": "2022-09-14T11:06:04.809485Z",
     "start_time": "2022-09-14T11:06:04.705544Z"
    }
   },
   "outputs": [
    {
     "name": "stdout",
     "output_type": "stream",
     "text": [
      "<html lang=\"ca\" class=\" no-htmlimports no-proximity sizes no-flash transferables no-applicationcache blobconstructor blob-constructor cookies cors customelements no-customprotocolhandler customevent dataview eventlistener geolocation history no-ie8compat json messagechannel notification postmessage queryselector no-serviceworker svg templatestrings typedarrays websockets no-xdomainrequest webaudio cssescape focuswithin supports target no-microdata mutationobserver passiveeventlisteners picture es5array es5date es5function es5object strictmode es5string es5syntax es5undefined es5 es6array arrow es6collections generators es6math es6number es6object promises es6string no-devicemotion no-deviceorientation filereader beacon no-lowbandwidth eventsource fetch xhrresponsetype xhr2 speechsynthesis localstorage sessionstorage websqldatabase svgfilters urlparser urlsearchparams no-getusermedia websocketsbinary atobbtoa atob-btoa no-framed sharedworkers webworkers no-contains no-contextmenu cssall willchange classlist documentfragment svgasimg no-ambientlight hashchange inputsearchevent pointerevents audio canvas canvastext contenteditable emoji olreversed no-userdata video no-vml webanimations webgl adownload audioloop canvasblending todataurljpeg todataurlpng todataurlwebp canvaswinding bgpositionshorthand csscalc cubicbezierrange cssgradients multiplebgs opacity csspointerevents csspositionsticky cssremunit rgba preserve3d no-createelementattrs no-createelement-attrs dataset hidden outputelem progressbar meter ruby template no-time texttrackapi track unknownelements no-capture fileinput fileinputdirectory formattribute placeholder sandbox no-seamless srcdoc imgcrossorigin srcset inputformaction input-formaction inputformenctype input-formenctype inputformmethod no-inputformtarget no-input-formtarget scriptasync scriptdefer no-stylescoped inlinesvg textareamaxlength videocrossorigin videoloop videopreload mediaqueries hovermq pointermq no-hiddenscroll no-mathml no-touchevents unicoderange no-unicode checked displaytable display-table fontface generatedcontent no-hairline cssinvalid lastchild nthchild cssscrollbar no-siblinggeneral subpixelfont cssvalid details oninput formvalidation datalistelem localizednumber csschunit cssexunit hsla bdi cssvhunit cssvmaxunit cssvminunit cssvwunit xhrresponsetypearraybuffer xhrresponsetypeblob xhrresponsetypedocument xhrresponsetypejson xhrresponsetypetext svgclippaths svgforeignobject smil textshadow no-batteryapi no-battery-api no-crypto no-dart no-forcetouch fullscreen gamepads intl pagevisibility performance pointerlock quotamanagement requestanimationframe raf vibrate no-webintents no-lowbattery getrandomvalues backgroundblendmode objectfit object-fit no-regions no-wrapflow filesystem no-requestautocomplete speechrecognition bloburls peerconnection datachannel matchmedia ligatures cssanimations csspseudoanimations appearance backdropfilter backgroundcliptext bgpositionxy bgrepeatround bgrepeatspace backgroundsize bgsizecover borderimage borderradius boxshadow boxsizing csscolumns csscolumns-width csscolumns-span csscolumns-fill csscolumns-gap csscolumns-rule csscolumns-rulecolor csscolumns-rulestyle csscolumns-rulewidth csscolumns-breakbefore csscolumns-breakafter csscolumns-breakinside no-cssgridlegacy cssgrid no-displayrunin no-display-runin ellipsis cssfilters flexbox flexboxlegacy no-flexboxtweener flexwrap cssmask no-overflowscrolling cssreflections cssresize scrollsnappoints shapes textalignlast csstransforms csstransforms3d csstransformslevel2 csstransitions csspseudotransitions userselect variablefonts exiforientation webpalpha webpanimation webplossless webp apng no-blobworkers no-dataworkers no-jpeg2000 no-jpegxr webp-alpha webp-animation webp-lossless datauri no-csshyphens softhyphens softhyphensfind audiopreload no-videoautoplay indexeddb indexeddb-deletedatabase\"><body class=\"home page-template page-template-blank-template page-template-blank-template-php page page-id-778 elementor-default elementor-kit-8 elementor-page elementor-page-778 e--ua-blink e--ua-chrome e--ua-webkit\" style=\"overflow-x: hidden;\" data-elementor-device-mode=\"desktop\">\n",
      "\n",
      "\t            <div id=\"preloader\">\n",
      "                  <div class=\"group\" style=\"opacity: 0.535313;\"> \n",
      "                        <div class=\"bigSqr\">\n",
      "                              <div class=\"square first\"></div>\n",
      "                              <div class=\"square second\"></div>\n",
      "                              <div class=\"square third\"></div>\n",
      "                              <div class=\"square fourth\"></div>\n",
      "                        </div>\n",
      "                  </div>\n",
      "            </div>\n",
      "\t\t<div id=\"page\" class=\"site\">\n",
      "<a class=\"skip-link screen-reader-text\" href=\"#content\">Skip to content</a>\n",
      "<div class=\"header-area header1\">\n",
      "      <header id=\"masthead\" class=\"site-header\" style=\"margin-bottom: 0px;\">\n",
      "            <div class=\"header-top\">\n",
      "      <div class=\"container\">\n",
      "            <div class=\"row\">\n",
      "                  <div class=\"col-lg-8\">\n",
      "                        <div class=\"topbar-left\">\n",
      "                              <ul>\n",
      "                                    <li class=\"toph-loc\">\n",
      "                                          <i class=\"fa fa-map-marker\"></i>\n",
      "                                          Carretera de Ribes 3 Baixos, Aiguafreda (BCN)                                    </li>\n",
      "                                    \n",
      "                                    <li>\n",
      "                                          <i class=\"fa fa-phone\"></i>\n",
      "                                          <a href=\"tel:93 844 24 26\">93 844 24 26                                          </a>\n",
      "                                    </li>\n",
      "                              </ul>\n",
      "                        </div>\n",
      "                  </div>\n",
      "                  <div class=\"col-lg-4\">\n",
      "                        <div class=\"topbar-right\">\n",
      "                              <ul>                                      <li><a href=\"https://es.linkedin.com/company/novtecsl\"><i class=\"fa fa-linkedin\"></i></a></li>\n",
      "                                                                        <li><a href=\"https://www.youtube.com/user/NOVTECSL\"><i class=\"fa fa-youtube\"></i></a></li>\n",
      "                                                                  </ul> \n",
      "                        </div>\n",
      "                  </div>\n",
      "            </div>\n",
      "      </div>\n",
      "</div>\n",
      "            <div class=\"header-main-area\" id=\"header-stikcy\">\n",
      "                  <div class=\"header-main-inner\">\n",
      "                        <div class=\"container\">\n",
      "                              <nav class=\"navbar navbar-expand-lg\">\n",
      "                              <div class=\"site-branding\">\n",
      "                                    \t<div class=\"rafo-logo-default\">\n",
      "\t\t\t\t<div class=\"theme-logo\">\n",
      "\t\t\t<a class=\"d-flex align-items-center justify-content-center\" href=\"http://novtec.es/ca/\">\n",
      "\t\t\t\t<noscript><img src=\"https://sp-ao.shortpixel.ai/client/to_auto,q_lossless,ret_img/https://novtec.es/wp-content/uploads/2021/01/NOVTEC-LOGO-e1611851238962.png\" alt=\"NOVTEC\"></noscript><img class=\" lazyloaded\" src=\"https://sp-ao.shortpixel.ai/client/to_auto,q_lossless,ret_img/https://novtec.es/wp-content/uploads/2021/01/NOVTEC-LOGO-e1611851238962.png\" data-src=\"https://sp-ao.shortpixel.ai/client/to_auto,q_lossless,ret_img/https://novtec.es/wp-content/uploads/2021/01/NOVTEC-LOGO-e1611851238962.png\" alt=\"NOVTEC\">\n",
      "\t\t\t</a>\n",
      "\t\t</div>\n",
      "\t\t\t</div>\n",
      "\t\t<button class=\"navbar-toggler collapsed\" type=\"button\" data-toggle=\"collapse\" data-target=\"#navmenu\">\n",
      "\t\t<span class=\"main-menu-btn\">\n",
      "\t\t\t<span class=\"main-menu-btn-icon\"></span>\n",
      "\t\t</span>\n",
      "\t</button>\n",
      "\t                              </div>\n",
      "                              <div class=\"header-menu mr-auto ml-auto\"> \n",
      "                                    <div id=\"navmenu\" class=\"navbar-collapse\"><ul id=\"main-menu\" class=\"navbar-nav sm sm-simple\" data-smartmenus-id=\"16631535521579292\"><li id=\"menu-item-1030\" class=\"pll-parent-menu-item menu-item menu-item-type-custom menu-item-object-custom current-menu-parent menu-item-has-children menu-item-1030\"><a href=\"#pll_switcher\" class=\"has-submenu\" id=\"sm-16631535521579292-1\" aria-haspopup=\"true\" aria-controls=\"sm-16631535521579292-2\" aria-expanded=\"false\"><img src=\"data:image/png;base64,iVBORw0KGgoAAAANSUhEUgAAABAAAAALCAMAAABBPP0LAAAAVFBMVEX8zzT2yi7wxCjswCTmuh72+2z0+V/y+FHw9kPu9DnoWxr+eVr8bkz5YED4VzPpHAnr8SvdsRX6Y031SSbyPhX67j/46zP15yPWqQ7mWRjm7RvRpAmYdm2TAAAAUElEQVR4AQXBMQ6CUABAsT7gg5K4Oej9r8gGEduAkCQDItLZHkRCtYLERsvzAacMuq96AwlaPgfIIPfVtCIbO/z6HsggOJuGxMaOmokXG2b+fnIKy04WJyIAAAAASUVORK5CYII=\" alt=\"Català\" width=\"16\" height=\"11\" style=\"width: 16px; height: 11px;\"><span style=\"margin-left:0.3em;\">Català</span><span class=\"sub-arrow\"></span></a>\n",
      "<ul class=\"sub-menu\" id=\"sm-16631535521579292-2\" role=\"group\" aria-hidden=\"true\" aria-labelledby=\"sm-16631535521579292-1\" aria-expanded=\"false\">\n",
      "\t<li id=\"menu-item-1030-ca\" class=\"lang-item lang-item-28 lang-item-ca current-lang lang-item-first menu-item menu-item-type-custom menu-item-object-custom current_page_item menu-item-home menu-item-1030-ca\"><a href=\"http://novtec.es/ca/\" hreflang=\"ca\" lang=\"ca\"><img src=\"data:image/png;base64,iVBORw0KGgoAAAANSUhEUgAAABAAAAALCAMAAABBPP0LAAAAVFBMVEX8zzT2yi7wxCjswCTmuh72+2z0+V/y+FHw9kPu9DnoWxr+eVr8bkz5YED4VzPpHAnr8SvdsRX6Y031SSbyPhX67j/46zP15yPWqQ7mWRjm7RvRpAmYdm2TAAAAUElEQVR4AQXBMQ6CUABAsT7gg5K4Oej9r8gGEduAkCQDItLZHkRCtYLERsvzAacMuq96AwlaPgfIIPfVtCIbO/z6HsggOJuGxMaOmokXG2b+fnIKy04WJyIAAAAASUVORK5CYII=\" alt=\"Català\" width=\"16\" height=\"11\" style=\"width: 16px; height: 11px;\"><span style=\"margin-left:0.3em;\">Català</span></a></li>\n",
      "\t<li id=\"menu-item-1030-es\" class=\"lang-item lang-item-31 lang-item-es menu-item menu-item-type-custom menu-item-object-custom menu-item-1030-es\"><a href=\"http://novtec.es/es/\" hreflang=\"es-ES\" lang=\"es-ES\"><img src=\"data:image/png;base64,iVBORw0KGgoAAAANSUhEUgAAABAAAAALCAMAAABBPP0LAAAAflBMVEX/AAD9AAD3AADxAADrAAD/eXn9bGz8YWH8WVn6UVH5SEj5Pz/3NDT0Kir9/QD+/nL+/lT18lDt4Uf6+j/39zD39yf19R3n5wDxflXsZ1Pt4Y3x8zr0wbLs1NXz8xPj4wD37t3jmkvsUU/Bz6nrykm3vJ72IiL0FBTyDAv"
     ]
    },
    {
     "data": {
      "text/html": [
       "<b>limit_output extension: Maximum message size of 10000 exceeded with 246812 characters</b>"
      ]
     },
     "metadata": {},
     "output_type": "display_data"
    }
   ],
   "source": [
    "# Mostrar pàgina en HTML\n",
    "print(novtecSelenium.page_source)"
   ]
  },
  {
   "cell_type": "markdown",
   "id": "83b1938e",
   "metadata": {},
   "source": [
    "Establir una estratègia d'espera\n",
    "Sincronitzar el codi amb l'estat actual del navegador és un dels grans reptes de Selenium, i fer-ho bé és un tema avançat.\n",
    "\n",
    "Bàsicament, voleu assegurar-vos que l'element es troba a la pàgina abans d'intentar localitzar-lo i que l'element estigui en un estat d'interacció abans d'intentar interactuar amb ell.\n",
    "\n",
    "Una espera implícita rarament és la millor solució, però aquí és la més fàcil de demostrar, així que l'utilitzarem com a marcador de posició."
   ]
  },
  {
   "cell_type": "code",
   "execution_count": 71,
   "id": "ad0be07c",
   "metadata": {
    "ExecuteTime": {
     "end_time": "2022-09-14T11:06:04.825469Z",
     "start_time": "2022-09-14T11:06:04.815476Z"
    }
   },
   "outputs": [],
   "source": [
    "novtecSelenium.implicitly_wait(0.5)"
   ]
  },
  {
   "cell_type": "code",
   "execution_count": 72,
   "id": "92b1fe5c",
   "metadata": {
    "ExecuteTime": {
     "end_time": "2022-09-14T11:06:05.041336Z",
     "start_time": "2022-09-14T11:06:04.831465Z"
    }
   },
   "outputs": [
    {
     "name": "stdout",
     "output_type": "stream",
     "text": [
      "Carretera de Ribes 3 Baixos, Aiguafreda (BCN) 93 844 24 26\n",
      "Català\n"
     ]
    }
   ],
   "source": [
    "# Interactuar amb elements de classe\n",
    "\n",
    "elementClasse = novtecSelenium.find_elements(by = By.CLASS_NAME, value=\"header-area\")\n",
    "for el in elementClasse:\n",
    "    print(el.text)"
   ]
  },
  {
   "cell_type": "code",
   "execution_count": 73,
   "id": "c684a603",
   "metadata": {
    "ExecuteTime": {
     "end_time": "2022-09-14T11:06:05.163260Z",
     "start_time": "2022-09-14T11:06:05.047333Z"
    }
   },
   "outputs": [
    {
     "name": "stdout",
     "output_type": "stream",
     "text": [
      "\n"
     ]
    }
   ],
   "source": [
    "# Interactuar amb elements de classe\n",
    "\n",
    "elementClasse2 = novtecSelenium.find_elements(by = By.CLASS_NAME, value=\"to-top\")\n",
    "for el in elementClasse2:\n",
    "    print(el.text)"
   ]
  },
  {
   "cell_type": "code",
   "execution_count": 74,
   "id": "722438ba",
   "metadata": {
    "ExecuteTime": {
     "end_time": "2022-09-14T11:06:05.365137Z",
     "start_time": "2022-09-14T11:06:05.170256Z"
    }
   },
   "outputs": [
    {
     "data": {
      "text/plain": [
       "1"
      ]
     },
     "execution_count": 74,
     "metadata": {},
     "output_type": "execute_result"
    }
   ],
   "source": [
    "# Interactuar amb elements amb una taula\n",
    "import pandas as pd\n",
    "\n",
    "taula = novtecSelenium.page_source\n",
    "llista = pd.read_html(taula)\n",
    "\n",
    "len(llista)\n"
   ]
  },
  {
   "cell_type": "code",
   "execution_count": 75,
   "id": "74fe06b0",
   "metadata": {
    "ExecuteTime": {
     "end_time": "2022-09-14T11:06:05.537027Z",
     "start_time": "2022-09-14T11:06:05.371131Z"
    }
   },
   "outputs": [
    {
     "data": {
      "text/html": [
       "<div>\n",
       "<style scoped>\n",
       "    .dataframe tbody tr th:only-of-type {\n",
       "        vertical-align: middle;\n",
       "    }\n",
       "\n",
       "    .dataframe tbody tr th {\n",
       "        vertical-align: top;\n",
       "    }\n",
       "\n",
       "    .dataframe thead th {\n",
       "        text-align: right;\n",
       "    }\n",
       "</style>\n",
       "<table border=\"1\" class=\"dataframe\">\n",
       "  <thead>\n",
       "    <tr style=\"text-align: right;\">\n",
       "      <th></th>\n",
       "      <th>Galeta</th>\n",
       "      <th>Duració</th>\n",
       "      <th>Descripció</th>\n",
       "    </tr>\n",
       "  </thead>\n",
       "  <tbody>\n",
       "    <tr>\n",
       "      <th>0</th>\n",
       "      <td>cookielawinfo-checkbox-analytics</td>\n",
       "      <td>11 mesos</td>\n",
       "      <td>Aquesta cookie esta definida pel GDPR Cookie C...</td>\n",
       "    </tr>\n",
       "    <tr>\n",
       "      <th>1</th>\n",
       "      <td>cookielawinfo-checkbox-functional</td>\n",
       "      <td>11 mesos</td>\n",
       "      <td>Aquesta cookie esta definida pel GDPR Cookie C...</td>\n",
       "    </tr>\n",
       "    <tr>\n",
       "      <th>2</th>\n",
       "      <td>cookielawinfo-checkbox-necessary</td>\n",
       "      <td>11 mesos</td>\n",
       "      <td>Aquesta cookie esta definida pel GDPR Cookie C...</td>\n",
       "    </tr>\n",
       "    <tr>\n",
       "      <th>3</th>\n",
       "      <td>cookielawinfo-checkbox-others</td>\n",
       "      <td>11 mesos</td>\n",
       "      <td>Aquesta cookie esta definida pel GDPR Cookie C...</td>\n",
       "    </tr>\n",
       "    <tr>\n",
       "      <th>4</th>\n",
       "      <td>cookielawinfo-checkbox-performance</td>\n",
       "      <td>11 mesos</td>\n",
       "      <td>Aquesta cookie esta definida pel GDPR Cookie C...</td>\n",
       "    </tr>\n",
       "    <tr>\n",
       "      <th>5</th>\n",
       "      <td>viewed_cookie_policy</td>\n",
       "      <td>11 mesos</td>\n",
       "      <td>Aquesta cookie esta definida pel GDPR Cookie C...</td>\n",
       "    </tr>\n",
       "  </tbody>\n",
       "</table>\n",
       "</div>"
      ],
      "text/plain": [
       "                               Galeta   Duració  \\\n",
       "0    cookielawinfo-checkbox-analytics  11 mesos   \n",
       "1   cookielawinfo-checkbox-functional  11 mesos   \n",
       "2    cookielawinfo-checkbox-necessary  11 mesos   \n",
       "3       cookielawinfo-checkbox-others  11 mesos   \n",
       "4  cookielawinfo-checkbox-performance  11 mesos   \n",
       "5                viewed_cookie_policy  11 mesos   \n",
       "\n",
       "                                          Descripció  \n",
       "0  Aquesta cookie esta definida pel GDPR Cookie C...  \n",
       "1  Aquesta cookie esta definida pel GDPR Cookie C...  \n",
       "2  Aquesta cookie esta definida pel GDPR Cookie C...  \n",
       "3  Aquesta cookie esta definida pel GDPR Cookie C...  \n",
       "4  Aquesta cookie esta definida pel GDPR Cookie C...  \n",
       "5  Aquesta cookie esta definida pel GDPR Cookie C...  "
      ]
     },
     "execution_count": 75,
     "metadata": {},
     "output_type": "execute_result"
    }
   ],
   "source": [
    "# Podem extreure 1 taules diferents, per tant les podríem anar imprimint per veure què contenen\n",
    "\n",
    "taulaA = llista[0]\n",
    "taulaA.to_csv('table.csv')\n",
    "taulaA"
   ]
  },
  {
   "cell_type": "markdown",
   "id": "7b18d11e",
   "metadata": {},
   "source": [
    "### PÀGINA WEB DE NOVTEC AMB SCRAPY"
   ]
  },
  {
   "cell_type": "code",
   "execution_count": 76,
   "id": "8cd6ba7b",
   "metadata": {
    "ExecuteTime": {
     "end_time": "2022-09-14T11:06:08.256341Z",
     "start_time": "2022-09-14T11:06:05.543023Z"
    }
   },
   "outputs": [],
   "source": [
    "import scrapy\n",
    "from twisted.internet import reactor\n",
    "from scrapy.crawler import CrawlerRunner\n",
    "from scrapy.utils.project import get_project_settings\n",
    "\n",
    "class NovtecSpider(scrapy.Spider):\n",
    "    name = 'webNovtec'\n",
    "    def start_requests(self):\n",
    "        urls = ['http://novtec.es/ca/']\n",
    "        for url in urls:\n",
    "            yield scrapy.Request(url=url, callback=self.parse)\n",
    "    \n",
    "\n",
    "   \n",
    "    def parse(self, response):\n",
    "        pagina = response.url.split(\"/\")[-2]\n",
    "        nom = f\"novtecNom-{pagina}.html\"\n",
    "        with open(nom, \"wb\") as f:\n",
    "            f.write(response.body)\n",
    "        self.log(f\"Document guardat {nom}\")\n",
    "        \n",
    "        \n",
    " "
   ]
  },
  {
   "cell_type": "code",
   "execution_count": null,
   "id": "d019c989",
   "metadata": {},
   "outputs": [],
   "source": []
  }
 ],
 "metadata": {
  "hide_input": false,
  "kernelspec": {
   "display_name": "Python 3 (ipykernel)",
   "language": "python",
   "name": "python3"
  },
  "language_info": {
   "codemirror_mode": {
    "name": "ipython",
    "version": 3
   },
   "file_extension": ".py",
   "mimetype": "text/x-python",
   "name": "python",
   "nbconvert_exporter": "python",
   "pygments_lexer": "ipython3",
   "version": "3.9.7"
  },
  "latex_envs": {
   "LaTeX_envs_menu_present": true,
   "autoclose": false,
   "autocomplete": true,
   "bibliofile": "biblio.bib",
   "cite_by": "apalike",
   "current_citInitial": 1,
   "eqLabelWithNumbers": true,
   "eqNumInitial": 1,
   "hotkeys": {
    "equation": "Ctrl-E",
    "itemize": "Ctrl-I"
   },
   "labels_anchors": false,
   "latex_user_defs": false,
   "report_style_numbering": false,
   "user_envs_cfg": false
  },
  "toc": {
   "base_numbering": 1,
   "nav_menu": {},
   "number_sections": true,
   "sideBar": true,
   "skip_h1_title": false,
   "title_cell": "Table of Contents",
   "title_sidebar": "Contents",
   "toc_cell": false,
   "toc_position": {},
   "toc_section_display": true,
   "toc_window_display": false
  },
  "varInspector": {
   "cols": {
    "lenName": 16,
    "lenType": 16,
    "lenVar": 40
   },
   "kernels_config": {
    "python": {
     "delete_cmd_postfix": "",
     "delete_cmd_prefix": "del ",
     "library": "var_list.py",
     "varRefreshCmd": "print(var_dic_list())"
    },
    "r": {
     "delete_cmd_postfix": ") ",
     "delete_cmd_prefix": "rm(",
     "library": "var_list.r",
     "varRefreshCmd": "cat(var_dic_list()) "
    }
   },
   "types_to_exclude": [
    "module",
    "function",
    "builtin_function_or_method",
    "instance",
    "_Feature"
   ],
   "window_display": false
  }
 },
 "nbformat": 4,
 "nbformat_minor": 5
}
